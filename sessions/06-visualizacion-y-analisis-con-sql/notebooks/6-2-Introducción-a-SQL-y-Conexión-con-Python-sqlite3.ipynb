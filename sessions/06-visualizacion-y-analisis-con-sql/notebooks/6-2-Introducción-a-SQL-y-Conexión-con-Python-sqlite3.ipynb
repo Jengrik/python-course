{
  "cells": [
    {
      "cell_type": "markdown",
      "metadata": {},
      "source": [
        "# Introducción a SQL y Conexión con Python (sqlite3)\n",
        "\n",
        "**Curso:** Fundamentos de Programación y Analítica de Datos con Python  \n",
        "**Duración estimada del bloque:** 2 horas  \n",
        "**Autores:** Jhon Erik Navarrete Gómez\n",
        "**Creado:** 2025-09-16T18:16:55Z\n",
        "\n",
        "## Objetivos específicos\n",
        "- Conectar a una base de datos SQLite desde Python utilizando el módulo estándar `sqlite3`.\n",
        "- Crear tablas y cargar datos mínimos de ejemplo aplicando tipos apropiados.\n",
        "- Ejecutar consultas básicas: `SELECT`, filtrado con `WHERE` y combinaciones con `JOIN`.\n",
        "- Transportar resultados de SQL hacia `pandas` para su inspección y posterior análisis.\n",
        "- Adoptar buenas prácticas de manejo de conexiones, cursores y parametrización de consultas.\n",
        "\n",
        "## Prerrequisitos\n",
        "- Conocimientos básicos de Python (variables, tipos, funciones) y uso de `pip`/entornos virtuales.\n",
        "- Nociones elementales de archivos y rutas.\n"
      ]
    },
    {
      "cell_type": "markdown",
      "metadata": {},
      "source": [
        "## Tema 1. Fundamentos de SQLite y conexión con `sqlite3`\n",
        "\n",
        "### Definición\n",
        "SQLite es un motor de base de datos relacional ligero que almacena toda la información en un único archivo local. En Python, el módulo estándar `sqlite3` provee la interfaz para crear bases de datos, ejecutar instrucciones SQL y obtener resultados mediante conexiones y cursores.\n",
        "\n",
        "### Importancia en programación y analítica de datos\n",
        "- Permite persistir datos estructurados de forma relacional sin necesidad de desplegar un servidor.\n",
        "- Facilita prototipos rápidos y reproductibles para análisis locales y notebooks.\n",
        "- Ofrece compatibilidad con SQL estándar suficiente para la mayoría de tareas analíticas iniciales.\n",
        "\n",
        "### Buenas prácticas profesionales y errores comunes\n",
        "- **Parametrizar consultas** para evitar inyección SQL y mejorar legibilidad: usar `?` y tuplas de parámetros.\n",
        "- **Gestionar recursos**: cerrar cursores y conexiones o usar context managers (`with`).\n",
        "- **Commit explícito** tras operaciones de escritura (`INSERT`, `UPDATE`, `DELETE`).\n",
        "- **Tipos y nulabilidad**: definir columnas con tipos y restricciones coherentes (por ejemplo, `NOT NULL`).\n",
        "\n",
        "### Ejemplo en Python: conexión, creación de tablas e inserciones\n",
        "El siguiente ejemplo usa una base en memoria (`:memory:`) para fines demostrativos.\n"
      ]
    },
    {
      "cell_type": "code",
      "execution_count": 3,
      "metadata": {},
      "outputs": [
        {
          "name": "stdout",
          "output_type": "stream",
          "text": [
            "[(1, 'Ana', 'Ventas', 3000.0), (2, 'Luis', 'TI', 4200.0), (3, 'María', 'RRHH', 3500.0), (4, 'Jorge', 'TI', 3800.5)]\n"
          ]
        }
      ],
      "source": [
        "\n",
        "# TODO: Conexión y creación de tablas básicas con sqlite3\n",
        "import sqlite3\n",
        "\n",
        "# Sugerencia: usar ':memory:' para ejemplos temporales; usar 'empresa.db' para persistencia en archivo.\n",
        "conn = sqlite3.connect(':memory:')  # para persistir a disco, usar 'empresa.db'\n",
        "cur = conn.cursor()\n",
        "\n",
        "# Crear tabla empleados\n",
        "cur.execute('''\n",
        "CREATE TABLE empleados (\n",
        "    id INTEGER PRIMARY KEY,\n",
        "    nombre TEXT NOT NULL,\n",
        "    departamento TEXT NOT NULL,\n",
        "    salario REAL NOT NULL CHECK (salario >= 0)\n",
        ");\n",
        "''')\n",
        "\n",
        "empleados = [\n",
        "    (1, \"Ana\",   \"Ventas\", 3000.0),\n",
        "    (2, \"Luis\",  \"TI\",     4200.0),\n",
        "    (3, \"María\", \"RRHH\",   3500.0),\n",
        "    (4, \"Jorge\", \"TI\",     3800.5),\n",
        "]\n",
        "\n",
        "cur.executemany('INSERT INTO empleados (id, nombre, departamento, salario) VALUES (?, ?, ?, ?);', empleados)\n",
        "conn.commit()\n",
        "\n",
        "# Selección Simple\n",
        "cur.execute('SELECT * FROM empleados;')\n",
        "rows = cur.fetchall()\n",
        "print(rows)\n"
      ]
    },
    {
      "cell_type": "markdown",
      "metadata": {},
      "source": [
        "## Tema 2. Consultas básicas: `SELECT` y filtrado con `WHERE`\n",
        "\n",
        "### Definición\n",
        "`SELECT` recupera columnas desde una o más tablas; `WHERE` limita los registros según condiciones lógicas (comparaciones, `AND`, `OR`, `LIKE`, etc.).\n",
        "\n",
        "### Importancia en programación y analítica de datos\n",
        "- Permite construir vistas parciales del dataset para responder preguntas específicas.\n",
        "- Reduce el volumen de datos a cargar en memoria.\n",
        "- Es el primer paso antes de agregar, unir y modelar información.\n",
        "\n",
        "### Buenas prácticas profesionales y errores comunes\n",
        "- Seleccionar solo columnas necesarias para mantener consultas claras y eficientes.\n",
        "- Evitar filtros ambiguos: usar comparaciones explícitas y paréntesis al combinar condiciones.\n",
        "- Verificar unidades y dominios de las columnas antes de filtrar (por ejemplo, salarios netos vs brutos).\n",
        "\n",
        "### Ejemplo en Python\n"
      ]
    },
    {
      "cell_type": "code",
      "execution_count": 4,
      "metadata": {},
      "outputs": [
        {
          "name": "stdout",
          "output_type": "stream",
          "text": [
            "[('Luis', 4200.0), ('Jorge', 3800.5)]\n",
            "[('Luis', 4200.0), ('Jorge', 3800.5), ('María', 3500.0), ('Ana', 3000.0)]\n"
          ]
        }
      ],
      "source": [
        "\n",
        "# TODO: SELECT específico y filtrado con WHERE\n",
        "cur.execute('SELECT nombre, salario FROM empleados WHERE departamento = ?;', ('TI',))\n",
        "rows = cur.fetchall()\n",
        "print(rows)\n",
        "\n",
        "cur.execute('SELECT nombre, salario FROM empleados ORDER BY salario DESC;')\n",
        "rows = cur.fetchall()\n",
        "print(rows)\n"
      ]
    },
    {
      "cell_type": "code",
      "execution_count": 5,
      "metadata": {},
      "outputs": [
        {
          "name": "stdout",
          "output_type": "stream",
          "text": [
            "[('Luis', 'TI', 4200.0), ('Jorge', 'TI', 3800.5)]\n"
          ]
        }
      ],
      "source": [
        "\n",
        "# TODO: Filtro con WHERE: salarios mayores a 3,500\n",
        "min_salario = 3500\n",
        "cur.execute(\"SELECT nombre, departamento, salario FROM empleados WHERE salario > ? ORDER BY salario DESC;\",(min_salario,))\n",
        "rows = cur.fetchall()\n",
        "print(rows)"
      ]
    },
    {
      "cell_type": "code",
      "execution_count": 8,
      "metadata": {},
      "outputs": [
        {
          "name": "stdout",
          "output_type": "stream",
          "text": [
            "[('Luis', 'TI', 4200.0, 4410.0), ('Jorge', 'TI', 3800.5, 3990.53)]\n"
          ]
        }
      ],
      "source": [
        "\n",
        "# TODO: Expresiones en SELECT y WHERE\n",
        "# Empeados de TI con un aumento del 5%\n",
        "departamento_favorecido = 'TI'\n",
        "cur.execute('''\n",
        "  SELECT nombre, departamento, salario, ROUND(salario*1.05, 2) AS salario_ajustado\n",
        "  FROM empleados\n",
        "  WHERE departamento = ?;\n",
        "''', (departamento_favorecido,))\n",
        "rows = cur.fetchall()\n",
        "print(rows)"
      ]
    },
    {
      "cell_type": "markdown",
      "metadata": {},
      "source": [
        "## Tema 3. Combinación de tablas con `JOIN`\n",
        "\n",
        "### Definición\n",
        "`JOIN` combina filas de dos tablas según una condición de igualdad entre claves relacionadas (por ejemplo, clave foránea ↔ clave primaria).\n",
        "\n",
        "### Importancia en programación y analítica de datos\n",
        "- Integra múltiples fuentes/tablas para responder preguntas de negocio.\n",
        "- Evita duplicidad y promueve normalización, facilitando el mantenimiento y la calidad de datos.\n",
        "\n",
        "### Buenas prácticas profesionales y errores comunes\n",
        "- Establecer claves coherentes (por ejemplo, `id_departamento` numérico) para uniones robustas.\n",
        "- Nombrar alias de tablas (`e`, `d`) para consultas legibles.\n",
        "- Verificar cardinalidades (1:1, 1:N, N:M) para evitar duplicación involuntaria de registros.\n",
        "\n",
        "### Ejemplo en Python\n"
      ]
    },
    {
      "cell_type": "code",
      "execution_count": null,
      "metadata": {},
      "outputs": [
        {
          "data": {
            "text/plain": [
              "[('Ana', 'Ventas', 3000.0, 'Ana'),\n",
              " ('Luis', 'TI', 4200.0, 'Luis'),\n",
              " ('María', 'RRHH', 3500.0, 'María'),\n",
              " ('Jorge', 'TI', 3800.5, 'Luis')]"
            ]
          },
          "execution_count": 9,
          "metadata": {},
          "output_type": "execute_result"
        }
      ],
      "source": [
        "\n",
        "# TODO: Crear tabla departamentos y poblarla\n",
        "cur.execute('''\n",
        "CREATE TABLE departamentos (\n",
        "  id INTEGER PRIMARY KEY,\n",
        "  nombre TEXT NOT NULL,\n",
        "  jefe TEXT NOT NULL\n",
        ");\n",
        "''')\n",
        "\n",
        "departamentos = [\n",
        "  (1, \"Ventas\", \"Ana\"),\n",
        "  (2, \"TI\",     \"Luis\"),\n",
        "  (3, \"RRHH\",   \"María\"),\n",
        "]\n",
        "\n",
        "cur.executemany(\"INSERT INTO departamentos (id, nombre, jefe) VALUES (?, ?, ?);\", departamentos)\n",
        "conn.commit()\n",
        "\n",
        "# JOIN entre empleados y departamentos\n",
        "cur.execute('''SELECT\n",
        "  e.nombre AS empleado,\n",
        "  e.departamento,\n",
        "  e.salario,\n",
        "  d.jefe AS jefe_departamento\n",
        "  FROM empleados e\n",
        "  JOIN departamentos d ON e.departamento = d.nombre\n",
        "  ORDER BY e.id;\n",
        "''')\n",
        "cur.fetchall()"
      ]
    },
    {
      "cell_type": "markdown",
      "metadata": {},
      "source": [
        "## Tema 4. Consulta hacia `pandas` para inspección y análisis\n",
        "\n",
        "### Definición\n",
        "`pandas` puede ejecutar sentencias `SELECT` sobre una conexión SQLite y retornar un `DataFrame`, facilitando análisis tabulares y visualización posterior.\n",
        "\n",
        "### Importancia en programación y analítica de datos\n",
        "- Acelera el flujo exploratorio: de consulta SQL a análisis/visualización sin fricción.\n",
        "- Permite integrar transformaciones relacionales (SQL) con operaciones vectorizadas/tabulares (pandas).\n",
        "\n",
        "### Buenas prácticas profesionales y errores comunes\n",
        "- Limitar el alcance de la consulta SQL al subconjunto relevante y luego continuar en `pandas`.\n",
        "- Mantener consistencia de tipos (por ejemplo, convertir fechas/categorías) tras la carga.\n",
        "- Evitar cargar tablas enormes sin filtros (aplicar `WHERE`/`LIMIT` cuando sea posible).\n",
        "\n",
        "### Ejemplo en Python\n"
      ]
    },
    {
      "cell_type": "code",
      "execution_count": null,
      "metadata": {},
      "outputs": [],
      "source": [
        "\n",
        "# TODO: Llevar resultados a pandas"
      ]
    },
    {
      "cell_type": "markdown",
      "metadata": {},
      "source": [
        "## Ejercicios integradores\n",
        "\n",
        "A continuación, se proponen ejercicios que integran los temas del bloque. Cada ejercicio incluye contexto, datos de entrada, requerimientos, criterios de aceptación y pistas. Tras cada enunciado se presenta una **solución orientativa**.\n"
      ]
    },
    {
      "cell_type": "markdown",
      "metadata": {},
      "source": [
        "### Ejercicio 1. Nómina mensual por departamento\n",
        "\n",
        "**Contexto técnico**  \n",
        "Eres analista en una empresa mediana. Debes construir un reporte de nómina para Recursos Humanos que resuma el salario total y promedio por departamento para verificar el presupuesto mensual.\n",
        "\n",
        "**Datos/entradas**  \n",
        "Usa las tablas `empleados` y `departamentos` ya creadas en este notebook (o recrea una base equivalente).\n",
        "\n",
        "**Requerimientos**  \n",
        "1. Escribir una consulta SQL que calcule salario **total** y **promedio** por departamento.  \n",
        "2. Llevar los resultados a `pandas` y ordenar de mayor a menor por salario total.  \n",
        "3. Redondear los promedios a dos decimales.\n",
        "\n",
        "**Criterios de aceptación**  \n",
        "- El resultado contiene las columnas: `departamento`, `salario_total`, `salario_promedio`.  \n",
        "- Orden descendente por `salario_total`.  \n",
        "- Promedios redondeados a 2 decimales.\n",
        "\n",
        "**Pistas**  \n",
        "- Usar `GROUP BY departamento`.  \n",
        "- Para el redondeo en `pandas`, usar `.round(2)`.\n"
      ]
    },
    {
      "cell_type": "code",
      "execution_count": null,
      "metadata": {},
      "outputs": [],
      "source": [
        "\n",
        "# TODO: Solución Ejercicio 1"
      ]
    },
    {
      "cell_type": "markdown",
      "metadata": {},
      "source": [
        "### Ejercicio 2. Empleados por encima de umbral\n",
        "\n",
        "**Contexto técnico**  \n",
        "El CFO requiere un listado de empleados que superan un umbral de salario para revisar bandas salariales.\n",
        "\n",
        "**Datos/entradas**  \n",
        "Umbral configurable (por ejemplo, 3600.0).\n",
        "\n",
        "**Requerimientos**  \n",
        "1. Parametrizar la consulta con `?` y pasar el umbral desde Python.  \n",
        "2. Devolver `nombre`, `departamento`, `salario` ordenados por `salario` descendente.\n",
        "\n",
        "**Criterios de aceptación**  \n",
        "- El umbral no está *hardcodeado* en la cadena SQL.  \n",
        "- El resultado está correctamente ordenado y muestra solo las columnas solicitadas.\n",
        "\n",
        "**Pistas**  \n",
        "- Preparar la tupla de parámetros `(umbral,)`.\n"
      ]
    },
    {
      "cell_type": "code",
      "execution_count": null,
      "metadata": {},
      "outputs": [],
      "source": [
        "\n",
        "# TODO: Solución Ejercicio 2"
      ]
    },
    {
      "cell_type": "markdown",
      "metadata": {},
      "source": [
        "### Ejercicio 3. Reporte con JOIN: jefe por empleado\n",
        "\n",
        "**Contexto técnico**  \n",
        "RRHH necesita saber quién es el jefe de cada empleado para enviar comunicaciones formales por área.\n",
        "\n",
        "**Datos/entradas**  \n",
        "Tablas `empleados` y `departamentos` (relación por nombre de departamento).\n",
        "\n",
        "**Requerimientos**  \n",
        "1. Realizar un `JOIN` que devuelva `empleado`, `departamento`, `jefe`.  \n",
        "2. Exportar los resultados a un `DataFrame` y verificar duplicados.\n",
        "\n",
        "**Criterios de aceptación**  \n",
        "- No hay filas duplicadas inesperadas.  \n",
        "- Las columnas tienen nombres claros (`empleado`, `departamento`, `jefe`).\n",
        "\n",
        "**Pistas**  \n",
        "- Usar alias de tablas y renombrar columnas con `AS`.\n"
      ]
    },
    {
      "cell_type": "code",
      "execution_count": null,
      "metadata": {},
      "outputs": [],
      "source": [
        "\n",
        "# TODO: Solución Ejercicio 3"
      ]
    },
    {
      "cell_type": "markdown",
      "metadata": {},
      "source": [
        "### Ejercicio 4. Ventas por empleado (modelo mínimo)\n",
        "\n",
        "**Contexto técnico**  \n",
        "El área comercial pide un tablero sencillo con ventas por empleado para evaluar desempeño. Crearás un modelo mínimo con una tabla `ventas` y harás un informe.\n",
        "\n",
        "**Datos/entradas**  \n",
        "Crear tabla `ventas(id INTEGER PRIMARY KEY, id_empleado INTEGER, monto REAL NOT NULL)` y cargar al menos 6 registros que distribuyan ventas entre distintos empleados.\n",
        "\n",
        "**Requerimientos**  \n",
        "1. Crear la tabla `ventas` y poblarla.  \n",
        "2. Construir una consulta que devuelva ventas **totales** por empleado (nombre) usando `JOIN` contra `empleados`.  \n",
        "3. Cargar el resultado a `pandas` y ordenar descendentemente por ventas totales.\n",
        "\n",
        "**Criterios de aceptación**  \n",
        "- Columnas finales: `empleado`, `ventas_totales`.  \n",
        "- Orden descendente y montos no negativos.  \n",
        "- Al menos 6 ventas registradas.\n",
        "\n",
        "**Pistas**  \n",
        "- `JOIN` por `e.id = v.id_empleado`.  \n",
        "- Usar `GROUP BY e.id, e.nombre`.\n"
      ]
    },
    {
      "cell_type": "code",
      "execution_count": null,
      "metadata": {},
      "outputs": [],
      "source": [
        "\n",
        "# TODO: Solución Ejercicio 4"
      ]
    }
  ],
  "metadata": {
    "authors": [
      "Jhon Erik Navarrete Gómez (autor del curso)",
      "Asistente pedagógico (IA)"
    ],
    "created": "2025-09-16T18:16:55Z",
    "description": "Bloque introductorio a SQL con SQLite y su integración con Python (sqlite3), cubriendo conexión, SELECT/WHERE/JOIN y consulta de datos hacia Pandas.",
    "kernelspec": {
      "display_name": "Python (python-course)",
      "language": "python",
      "name": "python-course"
    },
    "language_info": {
      "codemirror_mode": {
        "name": "ipython",
        "version": 3
      },
      "file_extension": ".py",
      "mimetype": "text/x-python",
      "name": "python",
      "nbconvert_exporter": "python",
      "pygments_lexer": "ipython3",
      "version": "3.12.8"
    }
  },
  "nbformat": 4,
  "nbformat_minor": 5
}
