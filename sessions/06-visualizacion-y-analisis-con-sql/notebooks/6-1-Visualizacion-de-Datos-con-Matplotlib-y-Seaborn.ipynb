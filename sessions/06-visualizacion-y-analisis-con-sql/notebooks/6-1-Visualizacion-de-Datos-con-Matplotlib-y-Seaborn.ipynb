{
  "cells": [
    {
      "cell_type": "markdown",
      "metadata": {},
      "source": [
        "# Visualización de Datos con Matplotlib y Seaborn\n",
        "\n",
        "Curso: **Fundamentos de Programación y Analítica de Datos con Python**\n",
        "\n",
        "**Duración estimada del bloque:** 2 horas\n",
        "\n",
        "## Objetivos específicos\n",
        "- Construir visualizaciones básicas (líneas, barras y dispersión) usando Matplotlib y Seaborn.\n",
        "- Aplicar estilos, títulos, ejes y leyendas siguiendo buenas prácticas de comunicación visual.\n",
        "- Comparar la API imperativa (stateful) de Matplotlib con el enfoque orientado a objetos.\n",
        "- Emplear Seaborn para visualizaciones estadísticas con datos en DataFrames.\n",
        "- Guardar figuras con parámetros de resolución y tamaño adecuados para informes.\n",
        "\n",
        "## Prerrequisitos\n",
        "- Conocimientos básicos de Python (variables, listas, funciones) y manejo de entornos (venv/conda).\n",
        "- Nociones elementales de Pandas (DataFrame) son deseables pero no obligatorias.\n"
      ]
    },
    {
      "cell_type": "markdown",
      "metadata": {},
      "source": [
        "## Tema 1. Fundamentos de Matplotlib\n",
        "\n",
        "### Definición\n",
        "Matplotlib es una biblioteca de visualización 2D para Python que permite crear gráficos de alta calidad de forma programable. Ofrece dos estilos principales: una API **stateful** (similar a MATLAB) mediante `pyplot` y una API **orientada a objetos** donde el usuario manipula explícitamente objetos `Figure` y `Axes`.\n",
        "\n",
        "### Importancia en programación y analítica de datos\n",
        "- Es el **estándar de facto** para visualización en el ecosistema científico de Python.\n",
        "- Proporciona control fino sobre cada elemento del gráfico (títulos, ejes, ticks, estilos, anotaciones), crucial para reportes técnicos.\n",
        "- Sirve de base para bibliotecas de más alto nivel, como **Seaborn** y **Pandas plotting**.\n",
        "\n",
        "### Buenas prácticas profesionales y errores comunes\n",
        "- **Titular y etiquetar** siempre los ejes y unidades; evitar abreviaturas ambiguas.\n",
        "- Preferir el enfoque **orientado a objetos** (`fig, ax = plt.subplots()`) para composiciones complejas.\n",
        "- Usar `tight_layout()` o `constrained_layout=True` para evitar solapamientos.\n",
        "- Ajustar `dpi`, `figsize` y `bbox_inches='tight'` al **guardar** figuras.\n",
        "- Evitar excesos de color y estilo que distraigan; priorizar la legibilidad.\n"
      ]
    },
    {
      "cell_type": "code",
      "execution_count": null,
      "metadata": {},
      "outputs": [],
      "source": [
        "\n",
        "# TODO: Ejemplo 1 (Matplotlib - API stateful): gráfico de líneas básico"
      ]
    },
    {
      "cell_type": "code",
      "execution_count": null,
      "metadata": {},
      "outputs": [],
      "source": [
        "\n",
        "# TODO: Ejemplo 2 (Matplotlib - API orientada a objetos): dos series y personalización"
      ]
    },
    {
      "cell_type": "markdown",
      "metadata": {},
      "source": [
        "### Gráficos de barras y dispersión en Matplotlib\n",
        "Los gráficos de **barras** son útiles para comparar categorías discretas; los de **dispersión** muestran la relación entre dos variables numéricas, facilitando la identificación de correlaciones o patrones no lineales.\n"
      ]
    },
    {
      "cell_type": "code",
      "execution_count": null,
      "metadata": {},
      "outputs": [],
      "source": [
        "\n",
        "# TODO: Ejemplo 3 (Barras): comparación de ventas por producto"
      ]
    },
    {
      "cell_type": "code",
      "execution_count": null,
      "metadata": {},
      "outputs": [],
      "source": [
        "\n",
        "# TODO: Ejemplo 4 (Dispersión): relación entre tamaño y precio"
      ]
    },
    {
      "cell_type": "markdown",
      "metadata": {},
      "source": [
        "### Estilos, paletas y guardado de figuras\n",
        "- Los **estilos** (`plt.style.use(...)`) permiten aplicar configuraciones coherentes para reportes.\n",
        "- Las **paletas** deben ser legibles y, cuando sea posible, **accesibles** (por ejemplo, combinaciones aptas para personas con daltonismo).\n",
        "- Para guardar figuras, usar `plt.savefig(\"nombre.png\", dpi=300, bbox_inches='tight')`.\n"
      ]
    },
    {
      "cell_type": "code",
      "execution_count": null,
      "metadata": {},
      "outputs": [],
      "source": [
        "\n",
        "# TODO: Ejemplo 5 (Guardar figura con parámetros de calidad)"
      ]
    },
    {
      "cell_type": "markdown",
      "metadata": {},
      "source": [
        "## Tema 2. Visualización estadística con Seaborn\n",
        "\n",
        "### Definición\n",
        "Seaborn es una biblioteca de **alto nivel** que se construye sobre Matplotlib y facilita la creación de gráficos estadísticos con sintaxis concisa, operando directamente sobre **DataFrames** de Pandas. Incluye funciones para estimación de relaciones, visualización de distribuciones y comparaciones por categorías.\n",
        "\n",
        "### Importancia en programación y analítica de datos\n",
        "- Simplifica tareas comunes: gráficos por categorías, mapas de calor, regresiones y visualización de distribuciones.\n",
        "- Integra estilos y paletas por defecto, acelerando la creación de visualizaciones **consistentes**.\n",
        "- Favorece flujos de trabajo **exploratorios** al operar con datos tabulares de Pandas.\n",
        "\n",
        "### Buenas prácticas profesionales y errores comunes\n",
        "- Verificar tipos de datos (numéricos vs. categóricos) antes de graficar.\n",
        "- Usar `hue`, `style` o `size` con moderación; demasiadas agrupaciones pueden dificultar la lectura.\n",
        "- Documentar supuestos y **transformaciones** aplicadas a los datos (filtros, agregaciones, normalizaciones).\n"
      ]
    },
    {
      "cell_type": "code",
      "execution_count": null,
      "metadata": {},
      "outputs": [],
      "source": [
        "\n",
        "# TODO: Ejemplo 6 (Seaborn - barras): comparación por categoría"
      ]
    },
    {
      "cell_type": "code",
      "execution_count": null,
      "metadata": {},
      "outputs": [],
      "source": [
        "\n",
        "# TODO: Ejemplo 7 (Seaborn - dispersión con agrupación): relación y color por categoría"
      ]
    },
    {
      "cell_type": "code",
      "execution_count": null,
      "metadata": {},
      "outputs": [],
      "source": [
        "\n",
        "# TODO: Ejemplo 8 (Seaborn - regresión): estimación lineal simple"
      ]
    },
    {
      "cell_type": "markdown",
      "metadata": {},
      "source": [
        "### Estilos y paletas en Seaborn\n",
        "Seaborn ofrece `set_theme`, `set_style` y paletas como `deep`, `muted`, `pastel`, `dark`, `colorblind`. Se recomienda `colorblind` para mejorar accesibilidad. Las leyendas, títulos y escalas deben reforzar la comunicación del mensaje principal.\n"
      ]
    },
    {
      "cell_type": "code",
      "execution_count": null,
      "metadata": {},
      "outputs": [],
      "source": [
        "\n",
        "# TODO: Ejemplo 9 (Seaborn - estilos y paletas)"
      ]
    },
    {
      "cell_type": "markdown",
      "metadata": {},
      "source": [
        "## Ejercicios integradores\n",
        "\n",
        "### Ejercicio 1: Informe de ventas trimestrales\n",
        "**Contexto técnico:** Eres analista en una empresa de retail. Debes preparar un gráfico para el comité gerencial, mostrando la evolución de ventas trimestrales de dos líneas de producto y resaltando el trimestre con mayor incremento. El objetivo es facilitar la toma de decisiones sobre inversión en inventario.\n",
        "\n",
        "**Datos/entradas:** Genera dos series de ventas trimestrales (4 a 8 puntos) para Línea A y Línea B.\n",
        "\n",
        "**Requerimientos:** Crear un gráfico de líneas comparativo (Matplotlib, API orientada a objetos), con título, etiquetas, leyenda y anotación en el punto de mayor incremento.\n",
        "\n",
        "**Criterios de aceptación:** El gráfico debe ser legible, con rejilla, e incluir una anotación (`ax.annotate`) que describa el trimestre de mayor crecimiento. Guardar la figura (comentado si no deseas escribir archivos).\n",
        "\n",
        "**Pistas:** Usa `fig, ax = plt.subplots()`, calcula diferencias con `numpy.diff` y el índice del máximo con `argmax`."
      ]
    },
    {
      "cell_type": "code",
      "execution_count": null,
      "id": "9297ae5d",
      "metadata": {},
      "outputs": [],
      "source": [
        "\n",
        "# TODO: Solución Ejercicio 1"
      ]
    },
    {
      "cell_type": "markdown",
      "id": "87bf1974",
      "metadata": {},
      "source": [
        "\n",
        "### Ejercicio 2: Comparación por categoría con barras\n",
        "**Contexto técnico:** Como parte de un reporte de marketing, debes comparar el rendimiento de 5 campañas. El gráfico debe permitir identificar rápidamente la mejor campaña y mostrar etiquetas con los valores.\n",
        "\n",
        "**Datos/entradas:** DataFrame con columnas `campaña` y `conversiones` (valores enteros). Puedes generarlo manualmente o aleatoriamente.\n",
        "\n",
        "**Requerimientos:** Crear un **barplot** (Seaborn) con título y etiquetas en cada barra. Mostrar el valor exacto encima de cada barra.\n",
        "\n",
        "**Criterios de aceptación:** Barras ordenadas de mayor a menor, etiquetas legibles, y paleta apta para daltónicos.\n",
        "\n",
        "**Pistas:** Usa `sns.barplot`, `ax.bar_label` (Matplotlib 3.4+), y `sns.set_palette('colorblind')`.\n"
      ]
    },
    {
      "cell_type": "code",
      "execution_count": null,
      "id": "3bc0e4d2",
      "metadata": {},
      "outputs": [],
      "source": [
        "\n",
        "# TODO: Solución Ejercicio 2"
      ]
    },
    {
      "cell_type": "markdown",
      "id": "f3acce43",
      "metadata": {},
      "source": [
        "\n",
        "### Ejercicio 3: Relación y tendencia\n",
        "**Contexto técnico:** En un estudio de precios inmobiliarios, necesitas visualizar la relación entre tamaño de vivienda (m²) y precio (USD), además de estimar una línea de tendencia.\n",
        "\n",
        "**Datos/entradas:** Genera 60 observaciones con ruido (distribución normal) alrededor de una relación lineal.\n",
        "\n",
        "**Requerimientos:** Crear un `scatterplot` (Seaborn) y superponer una **regresión lineal** (`sns.regplot`). Agregar título y etiquetas claras.\n",
        "\n",
        "**Criterios de aceptación:** La figura debe mostrar los puntos, la línea de tendencia y comunicar correctamente variables y unidades.\n",
        "\n",
        "**Pistas:** Genera datos con `numpy.random.normal` y controla la semilla para reproducibilidad.\n"
      ]
    },
    {
      "cell_type": "code",
      "execution_count": null,
      "id": "91c277bd",
      "metadata": {},
      "outputs": [],
      "source": [
        "\n",
        "# TODO: Solución Ejercicio 3"
      ]
    },
    {
      "cell_type": "markdown",
      "id": "2211e619",
      "metadata": {},
      "source": [
        "\n",
        "### Ejercicio 4 (opcional): Distribuciones y estilo\n",
        "**Contexto técnico:** Preparas un anexo metodológico para un informe de propinas en restaurantes. Debes visualizar la **distribución** de la variable `tip` y aplicar un estilo coherente de reporte.\n",
        "\n",
        "**Datos/entradas:** Usa el dataset `tips` de Seaborn (`sns.load_dataset('tips')`).\n",
        "\n",
        "**Requerimientos:** Graficar un histograma/densidad con `sns.histplot` o `sns.displot`, aplicar `sns.set_style('whitegrid')` y `sns.set_palette('colorblind')`. Añadir título y ejes descriptivos.\n",
        "\n",
        "**Criterios de aceptación:** El gráfico debe ser claro, con bins adecuados (al menos 15–30), y leyendas si corresponde.\n",
        "\n",
        "**Pistas:** Ajusta `bins` y considera `stat='density'` para comparar distribuciones.\n"
      ]
    },
    {
      "cell_type": "code",
      "execution_count": null,
      "id": "299c8541",
      "metadata": {},
      "outputs": [],
      "source": [
        "\n",
        "# TODO: Solución Ejercicio 4"
      ]
    }
  ],
  "metadata": {
    "authors": [
      "Autor: Jhon Erik Navarrete Gómez",
      "Instructor: Experto en Python y Analítica de Datos"
    ],
    "created": "2025-09-16T18:14:55+00:00",
    "description": "Bloque de Visualización de Datos con Matplotlib y Seaborn. Sesión 6 del curso 'Fundamentos de Programación y Analítica de Datos con Python'. Enfoque pedagógico, ejemplos prácticos y ejercicios integradores.",
    "kernelspec": {
      "display_name": "Python 3",
      "name": "python3"
    },
    "language_info": {
      "name": "python",
      "version": "3.12.8"
    }
  },
  "nbformat": 4,
  "nbformat_minor": 5
}
