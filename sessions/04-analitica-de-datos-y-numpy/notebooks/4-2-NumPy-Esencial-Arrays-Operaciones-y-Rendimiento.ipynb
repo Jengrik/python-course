{
  "cells": [
    {
      "cell_type": "markdown",
      "metadata": {},
      "source": [
        "# NumPy Esencial – Arrays, Operaciones y Rendimiento\n",
        "\n",
        "**Curso:** Fundamentos de Programación y Analítica de Datos con Python  \n",
        "Duración estimada: 2 horas 30 minutos\n",
        "\n",
        "## Objetivos específicos\n",
        "- Crear y manipular arreglos multidimensionales con NumPy (creación, `dtype`, `shape`, `ndim`, `reshape`, `slicing`).\n",
        "- Aplicar operaciones vectorizadas y funciones universales (`ufuncs`) para transformar datos numéricos de forma eficiente.\n",
        "- Comparar el rendimiento entre listas nativas de Python y arreglos de NumPy en operaciones numéricas intensivas.\n",
        "- Implementar prácticas profesionales básicas para código reproducible y legible en análisis numérico.\n",
        "\n",
        "## Prerrequisitos\n",
        "- Fundamentos de Python: tipos básicos, listas, bucles, funciones.\n",
        "- Conocimientos básicos de álgebra lineal (vectores, matrices) son recomendables, aunque no estrictamente necesarios.\n"
      ]
    },
    {
      "cell_type": "markdown",
      "metadata": {},
      "source": [
        "## Tema 1 — Arrays de NumPy: creación, propiedades, slicing y reshape\n",
        "\n",
        "### Definición\n",
        "Un **array de NumPy** (`numpy.ndarray`) es una estructura de datos homogénea y multidimensional para almacenar y operar eficientemente con datos numéricos. A diferencia de las listas de Python, los arrays mantienen un único tipo de dato y una distribución contigua en memoria, lo que habilita operaciones vectorizadas y un acceso más eficiente.\n",
        "\n",
        "### Importancia en programación y analítica de datos\n",
        "Los arrays constituyen la base del ecosistema científico en Python: **Pandas** usa NumPy internamente, y bibliotecas como **SciPy**, **scikit-learn**, **TensorFlow** o **PyTorch** asumen arreglos o tensores como tipos de entrada. Dominar `ndarray` facilita la limpieza, transformación y computación numérica de grandes volúmenes de datos con **legibilidad** y **rendimiento** superiores a las estructuras nativas.\n"
      ]
    },
    {
      "cell_type": "markdown",
      "metadata": {},
      "source": [
        "### Buenas prácticas profesionales y errores comunes\n",
        "- **Preferir tipado explícito** (`dtype`) cuando se requiera control numérico (por ejemplo, `float64` vs `float32`).  \n",
        "- **Evitar copias innecesarias**: usar **views** mediante slicing y `reshape` cuando sea posible.  \n",
        "- **Documentar supuestos de forma y dimensiones** (`shape`, `ndim`) especialmente en funciones reutilizables.  \n",
        "- **Error común**: asumir que `reshape` siempre copia datos. En la mayoría de casos devuelve una *vista*; si no es posible, crea una copia. Verificar con `arr.base is not None` cuando sea relevante.\n"
      ]
    },
    {
      "cell_type": "code",
      "execution_count": 5,
      "metadata": {},
      "outputs": [
        {
          "name": "stdout",
          "output_type": "stream",
          "text": [
            "\n",
            "Operaciones Elemento a Elemento\n",
            "El arreglo x: [1. 2. 3. 4.]\n",
            "El arreglo y: [10. 20. 30. 40.]\n",
            "Suma: [11. 22. 33. 44.]\n",
            "Resta: [ -9. -18. -27. -36.]\n",
            "Multiplicación: [ 10.  40.  90. 160.]\n",
            "División: [0.1 0.1 0.1 0.1]\n",
            "Potencia: [ 1.  4.  9. 16.]\n",
            "\n",
            "Funciones Matemáticas ( UFuncs )\n",
            "Raíz Cuadrada: [1.         1.41421356 1.73205081 2.        ]\n",
            "Exponencial: [ 2.71828183  7.3890561  20.08553692 54.59815003]\n",
            "Seno: [ 0.84147098  0.90929743  0.14112001 -0.7568025 ]\n",
            "Logaritmo Natural: [0.         0.69314718 1.09861229 1.38629436]\n",
            "Valor Máximo: 4.0\n",
            "\n",
            "Broadcasting\n",
            "Suma de un Arreglo [x] y un Escalar [3]:\n",
            "[4. 5. 6. 7.]\n"
          ]
        }
      ],
      "source": [
        "\n",
        "# TODO: Ejemplo en Python — creación, propiedades, slicing y reshape\n",
        "import numpy as np\n",
        "\n",
        "x = np.array([1.0, 2.0, 3.0, 4.0])\n",
        "y = np.array([10.0, 20.0, 30.0, 40.0])\n",
        "\n",
        "# Operaciones Elemento a Elemento\n",
        "print(\"\\nOperaciones Elemento a Elemento\")\n",
        "print(\"El arreglo x:\", x )\n",
        "print(\"El arreglo y:\", y )\n",
        "print(\"Suma:\", x + y)\n",
        "print(\"Resta:\", x - y)\n",
        "print(\"Multiplicación:\", x * y)\n",
        "print(\"División:\", x / y)\n",
        "print(\"Potencia:\", x ** 2)\n",
        "\n",
        "# Funciones Matemáticas ( UFuncs )\n",
        "print(\"\\nFunciones Matemáticas ( UFuncs )\")\n",
        "print(\"Raíz Cuadrada:\", np.sqrt(x))\n",
        "print(\"Exponencial:\", np.exp(x))\n",
        "print(\"Seno:\", np.sin(x))\n",
        "print(\"Logaritmo Natural:\", np.log(x))\n",
        "print(\"Valor Máximo:\", np.max(x))\n",
        "\n",
        "# Broadcasting\n",
        "print(\"\\nBroadcasting\")\n",
        "print(\"Suma de un Arreglo [x] y un Escalar [3]:\")\n",
        "print(x + 3)\n"
      ]
    },
    {
      "cell_type": "code",
      "execution_count": null,
      "id": "a9812653",
      "metadata": {},
      "outputs": [
        {
          "name": "stdout",
          "output_type": "stream",
          "text": [
            "Tiempo con listas: 1.173163 segundos\n",
            "Tiempo con NumPy: 0.027572 segundos\n",
            "¿Los resultados son iguales? True\n"
          ]
        }
      ],
      "source": [
        "\n",
        "# TODO: Comparación de Rendimiento entre Listas y Arrays\n",
        "import numpy as np\n",
        "import time\n",
        "\n",
        "# Crear una lista y un array con 10 millones de elementos\n",
        "N = 10_000_000\n",
        "\n",
        "# Listas generales\n",
        "lista = list(range(N))\n",
        "t0 = time.perf_counter()\n",
        "lista_cuadrados = [x**2 for x in lista]\n",
        "t1 = time.perf_counter()\n",
        "print(f\"Tiempo con listas: {t1 - t0:.6f} segundos\")\n",
        "\n",
        "# Arrays de NumPy\n",
        "array = np.arange(N)\n",
        "t2 = time.perf_counter()\n",
        "array_cuadrados = array**2\n",
        "t3 = time.perf_counter()\n",
        "print(f\"Tiempo con NumPy: {t3 - t2:.6f} segundos\")\n",
        "\n",
        "# Validación\n",
        "print(\"¿Los resultados son iguales?\", np.array_equal(lista_cuadrados, array_cuadrados))\n"
      ]
    },
    {
      "cell_type": "markdown",
      "metadata": {},
      "source": [
        "## Tema 2 — Operaciones vectorizadas, ufuncs, broadcasting y rendimiento\n",
        "\n",
        "### Definición\n",
        "Las **operaciones vectorizadas** aplican transformaciones elemento a elemento sobre arreglos completos sin escribir bucles explícitos en Python. Las **funciones universales** (*ufuncs*) de NumPy (por ejemplo, `np.add`, `np.sqrt`, `np.sin`) están implementadas en C y se ejecutan de forma altamente optimizada. El **broadcasting** permite combinar arreglos de diferentes formas compatibles expandiendo dimensiones lógicamente sin materializar copias innecesarias.\n",
        "\n",
        "### Importancia en programación y analítica de datos\n",
        "- Reduce la complejidad de código al eliminar bucles explícitos, mejorando **legibilidad** y **mantenibilidad**.  \n",
        "- Mejora significativamente el **rendimiento** al delegar el trabajo a código compilado y al aprovechar memoria contigua.  \n",
        "- Es esencial para **preprocesamiento**, **normalización**, **estandarización** y transformaciones numéricas previas a modelado estadístico o de aprendizaje automático.\n"
      ]
    },
    {
      "cell_type": "markdown",
      "metadata": {},
      "source": [
        "### Buenas prácticas profesionales y errores comunes\n",
        "- **Vectorizar antes que iterar**: priorice `ufuncs` y operaciones entre arreglos sobre bucles `for`.  \n",
        "- **Validar formas** (`shape`) antes de operar: errores por incompatibilidades de broadcasting son frecuentes.  \n",
        "- **Evitar conversiones implícitas**: mezclar tipos enteros y flotantes puede producir *casts* inesperados. Sea explícito cuando el tipo sea relevante.  \n",
        "- **Medir antes de optimizar**: use mediciones simples (`time`, `perf_counter`) o `np.testing` para validar exactitud y rendimiento.\n"
      ]
    },
    {
      "cell_type": "markdown",
      "metadata": {},
      "source": [
        "# Ejercicios integradores\n",
        "\n",
        "A continuación se proponen ejercicios que integran los temas del bloque. Cada ejercicio incluye contexto técnico, datos/entradas, requerimientos, criterios de aceptación, pistas y una solución propuesta.\n"
      ]
    },
    {
      "cell_type": "markdown",
      "metadata": {},
      "source": [
        "## Ejercicio 1 — Normalización de métricas de sensores\n",
        "\n",
        "**Contexto técnico:** Usted es analista de datos en un equipo de IoT. Debe preparar métricas de temperatura de varios sensores para un panel de control. Requiere escalar los datos para visualizaciones comparables y operaciones posteriores.\n",
        "\n",
        "**Datos/entradas:** Genere un arreglo `temperaturas` con 48 valores en el rango [15, 35] con `np.linspace`. Separe en 2 días de 24 mediciones cada uno (matriz 2x24).\n",
        "\n",
        "**Requerimientos:**\n",
        "1. Calcular la normalización *min-max* por día (fila) para llevar cada fila al rango [0, 1].\n",
        "2. Reportar el valor mínimo, máximo y media por día antes y después de normalizar.\n",
        "3. Verificar que cada fila normalizada tenga mínimo 0 y máximo 1 (tolerancia 1e-9).\n",
        "\n",
        "**Criterios de aceptación:**\n",
        "- Se imprimen min, max, media por día (antes/después).\n",
        "- Las filas normalizadas cumplen: `np.isclose(fila.min(), 0)` y `np.isclose(fila.max(), 1)`.\n",
        "\n",
        "**Pistas:**\n",
        "- Use `reshape(2, 24)` para repartir las mediciones por día.\n",
        "- Para normalización por fila: restar `min` por fila y dividir por `(max - min)` por fila usando broadcasting.\n"
      ]
    },
    {
      "cell_type": "code",
      "execution_count": null,
      "metadata": {},
      "outputs": [],
      "source": [
        "\n",
        "# TODO: Solución Ejercicio 1"
      ]
    },
    {
      "cell_type": "markdown",
      "metadata": {},
      "source": [
        "## Ejercicio 2 — Filtrado por umbrales y transformación con ufuncs\n",
        "\n",
        "**Contexto técnico:** En una etapa de depuración de datos, debe filtrar mediciones de un acelerómetro, eliminando valores espurios y transformando los restantes para análisis de señales.\n",
        "\n",
        "**Datos/entradas:** Genere `acc = np.linspace(-5, 5, num=21)`.\n",
        "\n",
        "**Requerimientos:**\n",
        "1. Crear un *máscara booleana* que conserve valores en el rango [-3, 3].\n",
        "2. A los valores conservados aplicar `np.abs` y `np.sqrt` (en ese orden).\n",
        "3. Calcular media y desviación estándar de los valores transformados.\n",
        "\n",
        "**Criterios de aceptación:**\n",
        "- Se imprime el vector filtrado, y luego el transformado.\n",
        "- Se imprimen media y desviación estándar.\n",
        "\n",
        "**Pistas:**\n",
        "- Use operaciones booleanas vectorizadas: `(acc >= -3) & (acc <= 3)`.\n",
        "- Recuerde que `np.sqrt` actúa elemento a elemento.\n"
      ]
    },
    {
      "cell_type": "code",
      "execution_count": null,
      "metadata": {},
      "outputs": [],
      "source": [
        "\n",
        "# TODO: Solución Ejercicio 2"
      ]
    },
    {
      "cell_type": "markdown",
      "metadata": {},
      "source": [
        "## Ejercicio 3 — Broadcasting para ajustar una matriz con sesgo por columna\n",
        "\n",
        "**Contexto técnico:** Tiene un conjunto de datos tabular donde cada columna presenta un sesgo diferente (offset). Debe corregirlo restando un vector de offsets conocido para estandarizar las mediciones.\n",
        "\n",
        "**Datos/entradas:** Genere `M = np.arange(20).reshape(4, 5).astype(float)` y `offsets = np.array([0.0, 1.5, -2.0, 0.5, 3.0])`.\n",
        "\n",
        "**Requerimientos:**\n",
        "1. Restar el vector `offsets` a cada fila de `M` usando broadcasting (resultado `M_adj`).\n",
        "2. Verificar con aserciones que `M_adj[0, :]` coincide con `M[0, :] - offsets`.\n",
        "3. Calcular la media por columna antes y después del ajuste.\n",
        "\n",
        "**Criterios de aceptación:**\n",
        "- `M_adj` calculado correctamente mediante broadcasting.\n",
        "- Aserción de la primera fila satisfecha sin errores.\n",
        "- Reporte de medias por columna (original/ajustada).\n",
        "\n",
        "**Pistas:**\n",
        "- Revise la compatibilidad de formas para broadcasting: `(4, 5)` con `(5,)`.\n"
      ]
    },
    {
      "cell_type": "code",
      "execution_count": null,
      "metadata": {},
      "outputs": [],
      "source": [
        "\n",
        "# TODO: Solución Ejercicio 3"
      ]
    },
    {
      "cell_type": "markdown",
      "metadata": {},
      "source": [
        "## Ejercicio 4 — Benchmark simple: listas vs NumPy y validación de exactitud\n",
        "\n",
        "**Contexto técnico:** Antes de migrar un flujo ETL, desea justificar el uso de NumPy con evidencia de rendimiento y sin perder exactitud en los resultados.\n",
        "\n",
        "**Datos/entradas:** Defina `N = 500_000` (o un valor que su equipo pueda ejecutar).\n",
        "\n",
        "**Requerimientos:**\n",
        "1. Calcular el vector de cuadrados con listas y con NumPy, registrando tiempo.\n",
        "2. Repetir el benchmark con la operación `np.sqrt` sobre enteros convertidos a flotantes.\n",
        "3. Validar exactitud con `np.allclose` entre las versiones de listas y NumPy.\n",
        "\n",
        "**Criterios de aceptación:**\n",
        "- Se imprimen tiempos comparativos para ambas operaciones.\n",
        "- Validación de exactitud positiva en ambos casos.\n",
        "\n",
        "**Pistas:**\n",
        "- Use `time.perf_counter()` y `np.array(lista)` para comparar contra arreglos de NumPy.\n"
      ]
    },
    {
      "cell_type": "code",
      "execution_count": null,
      "metadata": {},
      "outputs": [],
      "source": [
        "\n",
        "# TODO: Solución Ejercicio 4"
      ]
    }
  ],
  "metadata": {
    "authors": [
      "Jhon Erik Navarrete Gómez"
    ],
    "created": "2025-09-16T12:45:09Z",
    "description": "Bloque orientado a los fundamentos de NumPy para manipulación numérica eficiente: creación de arrays, slicing/reshape, operaciones vectorizadas, funciones universales y comparación de rendimiento con listas nativas.",
    "kernelspec": {
      "display_name": "Python (python-course)",
      "language": "python",
      "name": "python-course"
    },
    "language_info": {
      "codemirror_mode": {
        "name": "ipython",
        "version": 3
      },
      "file_extension": ".py",
      "mimetype": "text/x-python",
      "name": "python",
      "nbconvert_exporter": "python",
      "pygments_lexer": "ipython3",
      "version": "3.12.8"
    }
  },
  "nbformat": 4,
  "nbformat_minor": 5
}
