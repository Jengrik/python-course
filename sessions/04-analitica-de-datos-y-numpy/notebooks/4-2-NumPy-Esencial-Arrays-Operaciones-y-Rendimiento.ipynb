{
  "nbformat": 4,
  "nbformat_minor": 5,
  "metadata": {
    "kernelspec": {
      "display_name": "Python 3",
      "language": "python",
      "name": "python3"
    },
    "language_info": {
      "name": "python",
      "version": "3.12.8"
    },
    "authors": [
      "Jhon Erik Navarrete Gómez"
    ],
    "created": "2025-09-16T12:45:09Z",
    "description": "Bloque orientado a los fundamentos de NumPy para manipulación numérica eficiente: creación de arrays, slicing/reshape, operaciones vectorizadas, funciones universales y comparación de rendimiento con listas nativas."
  },
  "cells": [
    {
      "cell_type": "markdown",
      "metadata": {},
      "source": "# NumPy Esencial – Arrays, Operaciones y Rendimiento\n\n**Curso:** Fundamentos de Programación y Analítica de Datos con Python  \nDuración estimada: 2 horas 30 minutos\n\n## Objetivos específicos\n- Crear y manipular arreglos multidimensionales con NumPy (creación, `dtype`, `shape`, `ndim`, `reshape`, `slicing`).\n- Aplicar operaciones vectorizadas y funciones universales (`ufuncs`) para transformar datos numéricos de forma eficiente.\n- Comparar el rendimiento entre listas nativas de Python y arreglos de NumPy en operaciones numéricas intensivas.\n- Implementar prácticas profesionales básicas para código reproducible y legible en análisis numérico.\n\n## Prerrequisitos\n- Fundamentos de Python: tipos básicos, listas, bucles, funciones.\n- Conocimientos básicos de álgebra lineal (vectores, matrices) son recomendables, aunque no estrictamente necesarios.\n"
    },
    {
      "cell_type": "markdown",
      "metadata": {},
      "source": "## Tema 1 — Arrays de NumPy: creación, propiedades, slicing y reshape\n\n### Definición\nUn **array de NumPy** (`numpy.ndarray`) es una estructura de datos homogénea y multidimensional para almacenar y operar eficientemente con datos numéricos. A diferencia de las listas de Python, los arrays mantienen un único tipo de dato y una distribución contigua en memoria, lo que habilita operaciones vectorizadas y un acceso más eficiente.\n\n### Importancia en programación y analítica de datos\nLos arrays constituyen la base del ecosistema científico en Python: **Pandas** usa NumPy internamente, y bibliotecas como **SciPy**, **scikit-learn**, **TensorFlow** o **PyTorch** asumen arreglos o tensores como tipos de entrada. Dominar `ndarray` facilita la limpieza, transformación y computación numérica de grandes volúmenes de datos con **legibilidad** y **rendimiento** superiores a las estructuras nativas.\n"
    },
    {
      "cell_type": "markdown",
      "metadata": {},
      "source": "### Buenas prácticas profesionales y errores comunes\n- **Preferir tipado explícito** (`dtype`) cuando se requiera control numérico (por ejemplo, `float64` vs `float32`).  \n- **Evitar copias innecesarias**: usar **views** mediante slicing y `reshape` cuando sea posible.  \n- **Documentar supuestos de forma y dimensiones** (`shape`, `ndim`) especialmente en funciones reutilizables.  \n- **Error común**: asumir que `reshape` siempre copia datos. En la mayoría de casos devuelve una *vista*; si no es posible, crea una copia. Verificar con `arr.base is not None` cuando sea relevante.\n"
    },
    {
      "cell_type": "code",
      "metadata": {},
      "execution_count": null,
      "outputs": [],
      "source": "# Ejemplo en Python — creación, propiedades, slicing y reshape\nimport numpy as np\n\n# Creación desde listas\narr = np.array([1, 2, 3, 4, 5])\nprint(\"Array:\", arr, \"| dtype:\", arr.dtype, \"| shape:\", arr.shape, \"| ndim:\", arr.ndim)\n\n# Matrices inicializadas\nz = np.zeros((2, 3), dtype=np.float64)\no = np.ones((3, 3), dtype=np.int64)\nr = np.random.rand(2, 4)  # valores uniformes en [0, 1)\nprint(\"\\nCeros:\\n\", z)\nprint(\"Unos:\\n\", o)\nprint(\"Aleatorios uniformes:\\n\", r)\n\n# Arange y linspace\na = np.arange(1, 13)   # 1..12\nb = np.linspace(0, 1, num=5)  # 5 puntos equiespaciados en [0,1]\nprint(\"\\nArange:\", a)\nprint(\"Linspace:\", b)\n\n# Slicing básico\nprint(\"\\nPrimeros 4:\", a[:4])\nprint(\"Elementos con paso 2:\", a[::2])\n\n# Reshape (vista si es posible)\nm = a.reshape((3, 4))  # 3 filas, 4 columnas\nprint(\"\\nMatriz 3x4:\\n\", m)\nprint(\"Fila 0:\", m[0, :])\nprint(\"Columna 3:\", m[:, 3])\n\n# Comprobar si 'm' comparte memoria con 'a' (vista vs copia)\nprint(\"\\n¿m es vista de a?:\", m.base is a)\n"
    },
    {
      "cell_type": "markdown",
      "metadata": {},
      "source": "## Tema 2 — Operaciones vectorizadas, ufuncs, broadcasting y rendimiento\n\n### Definición\nLas **operaciones vectorizadas** aplican transformaciones elemento a elemento sobre arreglos completos sin escribir bucles explícitos en Python. Las **funciones universales** (*ufuncs*) de NumPy (por ejemplo, `np.add`, `np.sqrt`, `np.sin`) están implementadas en C y se ejecutan de forma altamente optimizada. El **broadcasting** permite combinar arreglos de diferentes formas compatibles expandiendo dimensiones lógicamente sin materializar copias innecesarias.\n\n### Importancia en programación y analítica de datos\n- Reduce la complejidad de código al eliminar bucles explícitos, mejorando **legibilidad** y **mantenibilidad**.  \n- Mejora significativamente el **rendimiento** al delegar el trabajo a código compilado y al aprovechar memoria contigua.  \n- Es esencial para **preprocesamiento**, **normalización**, **estandarización** y transformaciones numéricas previas a modelado estadístico o de aprendizaje automático.\n"
    },
    {
      "cell_type": "markdown",
      "metadata": {},
      "source": "### Buenas prácticas profesionales y errores comunes\n- **Vectorizar antes que iterar**: priorice `ufuncs` y operaciones entre arreglos sobre bucles `for`.  \n- **Validar formas** (`shape`) antes de operar: errores por incompatibilidades de broadcasting son frecuentes.  \n- **Evitar conversiones implícitas**: mezclar tipos enteros y flotantes puede producir *casts* inesperados. Sea explícito cuando el tipo sea relevante.  \n- **Medir antes de optimizar**: use mediciones simples (`time`, `perf_counter`) o `np.testing` para validar exactitud y rendimiento.\n"
    },
    {
      "cell_type": "code",
      "metadata": {},
      "execution_count": null,
      "outputs": [],
      "source": "# Ejemplo en Python — operaciones vectorizadas, ufuncs y broadcasting\nimport numpy as np\n\nx = np.array([1.0, 2.0, 3.0, 4.0])\ny = np.array([10.0, 20.0, 30.0, 40.0])\n\n# Operaciones elemento a elemento\nprint(\"Suma:\", x + y)\nprint(\"Multiplicación:\", x * y)\nprint(\"Potencia:\", x ** 2)\n\n# Ufuncs\nprint(\"Raíz cuadrada de x:\", np.sqrt(x))\nprint(\"Seno de x:\", np.sin(x))\nprint(\"Media de y:\", np.mean(y))\n\n# Broadcasting: sumar un escalar a un vector\nprint(\"\\nBroadcasting escalar + vector:\", x + 5)\n\n# Broadcasting: matriz (3x1) con vector (1x4) -> resultado (3x4)\nm = np.arange(12, dtype=float).reshape(3, 4)\nv = np.array([1.0, 0.0, -1.0, 2.0])\nprint(\"\\nMatriz m:\\n\", m)\nprint(\"Vector v:\", v)\nprint(\"m + v (broadcasting):\\n\", m + v)\n"
    },
    {
      "cell_type": "code",
      "metadata": {},
      "execution_count": null,
      "outputs": [],
      "source": "# Ejemplo en Python — comparación de rendimiento: listas vs arrays\nimport numpy as np\nimport time\n\nN = 1_000_00  # 100k para ejecución rápida en clase; puede aumentarse a 1_000_000\n\n# Listas de Python\nlista = list(range(N))\nt0 = time.perf_counter()\nlista_cuadrados = [x * x for x in lista]\nt1 = time.perf_counter()\nprint(f\"Tiempo listas (cuadrado, N={N}): {t1 - t0:.6f} s\")\n\n# NumPy array\narr = np.arange(N)\nt2 = time.perf_counter()\narr_cuadrados = arr * arr\nt3 = time.perf_counter()\nprint(f\"Tiempo NumPy (cuadrado, N={N}): {t3 - t2:.6f} s\")\n\n# Validación rápida\nprint(\"¿Resultados equivalentes?\", np.array_equal(np.array(lista_cuadrados), arr_cuadrados))\n"
    },
    {
      "cell_type": "markdown",
      "metadata": {},
      "source": "# Ejercicios integradores\n\nA continuación se proponen ejercicios que integran los temas del bloque. Cada ejercicio incluye contexto técnico, datos/entradas, requerimientos, criterios de aceptación, pistas y una solución propuesta.\n"
    },
    {
      "cell_type": "markdown",
      "metadata": {},
      "source": "## Ejercicio 1 — Normalización de métricas de sensores\n\n**Contexto técnico:** Usted es analista de datos en un equipo de IoT. Debe preparar métricas de temperatura de varios sensores para un panel de control. Requiere escalar los datos para visualizaciones comparables y operaciones posteriores.\n\n**Datos/entradas:** Genere un arreglo `temperaturas` con 48 valores en el rango [15, 35] con `np.linspace`. Separe en 2 días de 24 mediciones cada uno (matriz 2x24).\n\n**Requerimientos:**\n1. Calcular la normalización *min-max* por día (fila) para llevar cada fila al rango [0, 1].\n2. Reportar el valor mínimo, máximo y media por día antes y después de normalizar.\n3. Verificar que cada fila normalizada tenga mínimo 0 y máximo 1 (tolerancia 1e-9).\n\n**Criterios de aceptación:**\n- Se imprimen min, max, media por día (antes/después).\n- Las filas normalizadas cumplen: `np.isclose(fila.min(), 0)` y `np.isclose(fila.max(), 1)`.\n\n**Pistas:**\n- Use `reshape(2, 24)` para repartir las mediciones por día.\n- Para normalización por fila: restar `min` por fila y dividir por `(max - min)` por fila usando broadcasting.\n"
    },
    {
      "cell_type": "code",
      "metadata": {},
      "execution_count": null,
      "outputs": [],
      "source": "# Solución Ejercicio 1\nimport numpy as np\n\ntemperaturas = np.linspace(15.0, 35.0, num=48)\nmat = temperaturas.reshape(2, 24)  # 2 días, 24 mediciones\n\nprint(\"Estadísticos originales por día:\")\nprint(\"Mínimos:\", mat.min(axis=1))\nprint(\"Máximos:\", mat.max(axis=1))\nprint(\"Medias :\", mat.mean(axis=1))\n\nmins = mat.min(axis=1, keepdims=True)\nmaxs = mat.max(axis=1, keepdims=True)\nnorm = (mat - mins) / (maxs - mins)\n\nprint(\"\\nEstadísticos normalizados por día:\")\nprint(\"Mínimos:\", norm.min(axis=1))\nprint(\"Máximos:\", norm.max(axis=1))\nprint(\"Medias :\", norm.mean(axis=1))\n\nassert np.allclose(norm.min(axis=1), 0.0, atol=1e-9)\nassert np.allclose(norm.max(axis=1), 1.0, atol=1e-9)\nprint(\"\\nValidación OK: filas normalizadas en [0, 1].\")\n"
    },
    {
      "cell_type": "markdown",
      "metadata": {},
      "source": "## Ejercicio 2 — Filtrado por umbrales y transformación con ufuncs\n\n**Contexto técnico:** En una etapa de depuración de datos, debe filtrar mediciones de un acelerómetro, eliminando valores espurios y transformando los restantes para análisis de señales.\n\n**Datos/entradas:** Genere `acc = np.linspace(-5, 5, num=21)`.\n\n**Requerimientos:**\n1. Crear un *máscara booleana* que conserve valores en el rango [-3, 3].\n2. A los valores conservados aplicar `np.abs` y `np.sqrt` (en ese orden).\n3. Calcular media y desviación estándar de los valores transformados.\n\n**Criterios de aceptación:**\n- Se imprime el vector filtrado, y luego el transformado.\n- Se imprimen media y desviación estándar.\n\n**Pistas:**\n- Use operaciones booleanas vectorizadas: `(acc >= -3) & (acc <= 3)`.\n- Recuerde que `np.sqrt` actúa elemento a elemento.\n"
    },
    {
      "cell_type": "code",
      "metadata": {},
      "execution_count": null,
      "outputs": [],
      "source": "# Solución Ejercicio 2\nimport numpy as np\n\nacc = np.linspace(-5, 5, num=21)\nmask = (acc >= -3) & (acc <= 3)\nfiltrado = acc[mask]\n\ntransformado = np.sqrt(np.abs(filtrado))\nprint(\"Filtrado:\", filtrado)\nprint(\"Transformado:\", transformado)\nprint(\"Media:\", np.mean(transformado))\nprint(\"Desviación estándar:\", np.std(transformado, ddof=0))\n"
    },
    {
      "cell_type": "markdown",
      "metadata": {},
      "source": "## Ejercicio 3 — Broadcasting para ajustar una matriz con sesgo por columna\n\n**Contexto técnico:** Tiene un conjunto de datos tabular donde cada columna presenta un sesgo diferente (offset). Debe corregirlo restando un vector de offsets conocido para estandarizar las mediciones.\n\n**Datos/entradas:** Genere `M = np.arange(20).reshape(4, 5).astype(float)` y `offsets = np.array([0.0, 1.5, -2.0, 0.5, 3.0])`.\n\n**Requerimientos:**\n1. Restar el vector `offsets` a cada fila de `M` usando broadcasting (resultado `M_adj`).\n2. Verificar con aserciones que `M_adj[0, :]` coincide con `M[0, :] - offsets`.\n3. Calcular la media por columna antes y después del ajuste.\n\n**Criterios de aceptación:**\n- `M_adj` calculado correctamente mediante broadcasting.\n- Aserción de la primera fila satisfecha sin errores.\n- Reporte de medias por columna (original/ajustada).\n\n**Pistas:**\n- Revise la compatibilidad de formas para broadcasting: `(4, 5)` con `(5,)`.\n"
    },
    {
      "cell_type": "code",
      "metadata": {},
      "execution_count": null,
      "outputs": [],
      "source": "# Solución Ejercicio 3\nimport numpy as np\n\nM = np.arange(20).reshape(4, 5).astype(float)\noffsets = np.array([0.0, 1.5, -2.0, 0.5, 3.0])\n\nM_adj = M - offsets  # broadcasting (4x5) - (5,) -> (4x5)\n\n# Verificación con aserción\nassert np.allclose(M_adj[0, :], M[0, :] - offsets)\n\nprint(\"Medias por columna (original):\", M.mean(axis=1 if False else 0))\nprint(\"Medias por columna (ajustada):\", M_adj.mean(axis=0))\n"
    },
    {
      "cell_type": "markdown",
      "metadata": {},
      "source": "## Ejercicio 4 — Benchmark simple: listas vs NumPy y validación de exactitud\n\n**Contexto técnico:** Antes de migrar un flujo ETL, desea justificar el uso de NumPy con evidencia de rendimiento y sin perder exactitud en los resultados.\n\n**Datos/entradas:** Defina `N = 500_000` (o un valor que su equipo pueda ejecutar).\n\n**Requerimientos:**\n1. Calcular el vector de cuadrados con listas y con NumPy, registrando tiempo.\n2. Repetir el benchmark con la operación `np.sqrt` sobre enteros convertidos a flotantes.\n3. Validar exactitud con `np.allclose` entre las versiones de listas y NumPy.\n\n**Criterios de aceptación:**\n- Se imprimen tiempos comparativos para ambas operaciones.\n- Validación de exactitud positiva en ambos casos.\n\n**Pistas:**\n- Use `time.perf_counter()` y `np.array(lista)` para comparar contra arreglos de NumPy.\n"
    },
    {
      "cell_type": "code",
      "metadata": {},
      "execution_count": null,
      "outputs": [],
      "source": "# Solución Ejercicio 4\nimport numpy as np\nimport time\n\nN = 500_000\n\n# 1) Cuadrados\nlista = list(range(N))\n\nt0 = time.perf_counter()\ncuadrados_lista = [x * x for x in lista]\nt1 = time.perf_counter()\n\narr = np.arange(N, dtype=np.int64)\nt2 = time.perf_counter()\ncuadrados_np = arr * arr\nt3 = time.perf_counter()\n\nprint(f\"Tiempo listas (cuadrado): {t1 - t0:.6f} s\")\nprint(f\"Tiempo NumPy (cuadrado):  {t3 - t2:.6f} s\")\nprint(\"¿Iguales?\", np.array_equal(np.array(cuadrados_lista, dtype=np.int64), cuadrados_np))\n\n# 2) Raíz cuadrada\nfloats_lista = [float(x) for x in lista]\n\nt4 = time.perf_counter()\nsqrt_lista = [x ** 0.5 for x in floats_lista]\nt5 = time.perf_counter()\n\narr_float = arr.astype(np.float64, copy=False)\nt6 = time.perf_counter()\nsqrt_np = np.sqrt(arr_float)\nt7 = time.perf_counter()\n\nprint(f\"Tiempo listas (sqrt):    {t5 - t4:.6f} s\")\nprint(f\"Tiempo NumPy (sqrt):     {t7 - t6:.6f} s\")\nprint(\"¿Allclose?\", np.allclose(np.array(sqrt_lista), sqrt_np))\n"
    }
  ]
}