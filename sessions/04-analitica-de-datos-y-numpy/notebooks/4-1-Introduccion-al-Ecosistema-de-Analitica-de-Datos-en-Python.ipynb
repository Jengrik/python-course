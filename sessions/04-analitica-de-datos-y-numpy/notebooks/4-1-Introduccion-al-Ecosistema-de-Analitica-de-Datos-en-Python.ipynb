{
 "cells": [
  {
   "cell_type": "markdown",
   "id": "3c41ae8c",
   "metadata": {},
   "source": [
    "# Introducción al Ecosistema de Analítica de Datos en Python\n",
    "\n",
    "**Curso:** “Fundamentos de Programación y Analítica de Datos con Python”  \n",
    "**Duración estimada del bloque:** 1 h 30 min\n",
    "\n",
    "## Objetivos específicos\n",
    "- Instalar y verificar un entorno de trabajo reproducible con Python y librerías de analítica de datos.\n",
    "- Reconocer el rol de NumPy como base numérica del ecosistema científico en Python.\n",
    "- Identificar cómo Pandas y Matplotlib se apoyan en NumPy para manipulación tabular y visualización.\n",
    "- Ejecutar ejemplos mínimos funcionales para validar el entorno (importaciones, versiones, operaciones básicas y un gráfico simple).\n",
    "\n",
    "## Prerrequisitos\n",
    "- Conocimientos básicos de Python (tipos, control de flujo, funciones simples).\n",
    "- Haber instalado Visual Studio Code y Python 3.11+ con venv o conda (recomendado)."
   ]
  },
  {
   "cell_type": "markdown",
   "id": "103a0ad5",
   "metadata": {},
   "source": [
    "## Tema 1 — Ecosistema científico de Python: NumPy, Pandas y Matplotlib\n",
    "\n",
    "### Definición\n",
    "El ecosistema científico de Python está conformado por un conjunto de librerías que permiten el cómputo numérico eficiente, la manipulación de datos y la visualización. Entre las más relevantes se encuentran:\n",
    "- **NumPy**: provee arreglos multidimensionales homogéneos y operaciones vectorizadas de alto rendimiento.\n",
    "- **Pandas**: construido sobre NumPy, facilita la manipulación de datos tabulares y series temporales mediante DataFrames y Series.\n",
    "- **Matplotlib**: biblioteca base de visualización en Python, flexible para construir gráficos 2D de manera programática.\n",
    "\n",
    "### Importancia en programación y analítica de datos\n",
    "- NumPy es la base del cómputo numérico en Python: muchas librerías de Machine Learning (scikit-learn, TensorFlow, PyTorch) y de análisis (Pandas) se apoyan en sus estructuras y operaciones vectorizadas.\n",
    "- Pandas abstrae la manipulación de datos con estructuras tabulares, acelerando procesos de limpieza, transformación y agregación.\n",
    "- Matplotlib permite materializar análisis en visualizaciones, apoyando la comunicación de resultados.\n",
    "\n",
    "### Buenas prácticas profesionales y errores comunes\n",
    "- Utilizar **entornos virtuales** (venv o conda) para aislar dependencias por proyecto.\n",
    "- Fijar versiones en un `requirements.txt` o `pyproject.toml` para reproducibilidad.\n",
    "- Evitar mezclar entornos del sistema con entornos de proyecto.\n",
    "- Errores comunes: no activar el entorno virtual antes de instalar, y mezclar `pip` del sistema con `pip` del entorno.\n"
   ]
  },
  {
   "cell_type": "code",
   "execution_count": null,
   "id": "978404c1",
   "metadata": {},
   "outputs": [],
   "source": [
    "\n",
    "# TODO: Verificación del entorno científico: importación y versiones"
   ]
  },
  {
   "cell_type": "markdown",
   "id": "f8a06189",
   "metadata": {},
   "source": [
    "## Tema 2 — NumPy como base del ecosistema: arrays, vectorización y memoria\n",
    "\n",
    "### Definición\n",
    "NumPy proporciona la estructura `ndarray`, un arreglo homogéneo y multidimensional, contiguo en memoria y eficiente para operaciones vectorizadas. Sus funciones universales (ufuncs) permiten aplicar operaciones elemento a elemento sin bucles explícitos en Python.\n",
    "\n",
    "### Importancia en programación y analítica de datos\n",
    "- Los `ndarray` permiten manipular grandes volúmenes de datos con eficiencia cercana a C, lo que es crucial en analítica de datos.\n",
    "- La vectorización reduce la complejidad de código y los errores, favoreciendo la legibilidad y el rendimiento.\n",
    "- Librerías como Pandas reutilizan `ndarray` para representar columnas y realizar operaciones sobre datos tabulares.\n",
    "\n",
    "### Buenas prácticas profesionales y errores comunes\n",
    "- Preferir operaciones vectorizadas sobre bucles `for` en Python cuando se trabaje con datos numéricos.\n",
    "- Cuidar los tipos de datos (`dtype`) y las conversiones implícitas.\n",
    "- Evitar copias innecesarias de arrays; usar *views* y *slicing* cuando sea posible.\n"
   ]
  },
  {
   "cell_type": "code",
   "execution_count": null,
   "id": "5c4e395b",
   "metadata": {},
   "outputs": [],
   "source": [
    "\n",
    "# TODO: Creación de arrays y operaciones vectorizadas con NumPy"
   ]
  },
  {
   "cell_type": "markdown",
   "id": "0fe1974d",
   "metadata": {},
   "source": [
    "# Ejercicios integradores\n",
    "\n",
    "A continuación se proponen ejercicios que integran los conceptos del bloque. Cada ejercicio incluye contexto, datos/entradas, requerimientos, criterios de aceptación y pistas. Tras las consignas, se proporciona una posible solución en celdas de código separadas.\n",
    "\n",
    "---\n",
    "\n",
    "## Ejercicio 1 — Verificación y reporte del entorno\n",
    "**Contexto técnico:** Eres la persona responsable de configurar el entorno de analítica para tu equipo. Debes generar una verificación reproducible del entorno actual para compartirla en la documentación interna del proyecto.\n",
    "**Datos/entradas:** Acceso al intérprete de Python con las librerías ya instaladas.\n",
    "**Requerimientos:**\n",
    "1. Imprimir versiones de Python, NumPy, Pandas y Matplotlib.\n",
    "2. Ejecutar una suma vectorizada `a + b` y un producto punto con `ndarray` pequeños para evidenciar funcionamiento.\n",
    "3. Construir un `DataFrame` mínimo y mostrar sus primeras filas.\n",
    "**Criterios de aceptación:**\n",
    "- Las versiones se imprimen claramente.\n",
    "- La operación vectorizada y el producto punto devuelven resultados correctos.\n",
    "- El DataFrame se visualiza con al menos 2 columnas y 3 filas.\n",
    "**Pistas:**\n",
    "- Usa `np.array`, `@` para producto punto y `pd.DataFrame`.\n",
    "- Reutiliza el patrón de importación y verificación mostrado en el bloque.\n"
   ]
  },
  {
   "cell_type": "code",
   "execution_count": null,
   "id": "77f95b7d",
   "metadata": {},
   "outputs": [],
   "source": [
    "\n",
    "# TODO: Solución Ejercicio 1"
   ]
  },
  {
   "cell_type": "markdown",
   "id": "03d31a55",
   "metadata": {},
   "source": [
    "---\n",
    "\n",
    "## Ejercicio 2 — Integración NumPy + Pandas + Matplotlib\n",
    "**Contexto técnico:** Debes crear un ejemplo mínimo que muestre el flujo desde datos numéricos en memoria hasta una visualización rápida para validar una hipótesis simple.\n",
    "**Datos/entradas:** Genera 50 valores equiespaciados en el intervalo [0, 2π], calcula seno y coseno.\n",
    "**Requerimientos:**\n",
    "1. Construir un `ndarray` con 50 puntos entre 0 y 2π.\n",
    "2. Calcular `sin(x)` y `cos(x)` vectorizados.\n",
    "3. Crear un `DataFrame` con columnas `x`, `sin`, `cos`.\n",
    "4. Graficar `sin` y `cos` en figuras separadas.\n",
    "**Criterios de aceptación:**\n",
    "- El DataFrame contiene 50 filas y tres columnas (`x`, `sin`, `cos`).\n",
    "- Las figuras se muestran sin errores (una por celda).\n",
    "**Pistas:**\n",
    "- Usa `np.linspace`, `np.sin`, `np.cos` y `plt.plot`.\n"
   ]
  },
  {
   "cell_type": "code",
   "execution_count": null,
   "id": "b3f83d2c",
   "metadata": {},
   "outputs": [],
   "source": [
    "\n",
    "# TODO: Solución Ejercicio 2"
   ]
  },
  {
   "cell_type": "markdown",
   "id": "1d255dce",
   "metadata": {},
   "source": [
    "---\n",
    "\n",
    "## Ejercicio 3 — Reproducibilidad y control de versiones de dependencias\n",
    "**Contexto técnico:** Tu equipo requiere un archivo mínimo de dependencias para garantizar que nuevas incorporaciones repliquen el entorno sin fricción.\n",
    "**Datos/entradas:** Las librerías en el entorno actual.\n",
    "**Requerimientos:**\n",
    "1. Crear una cadena de texto con el contenido de un `requirements.txt` mínimo que fije versiones de `numpy`, `pandas` y `matplotlib`.\n",
    "2. Imprimir la cadena y, opcionalmente, guardarla a disco como `requirements.txt`.\n",
    "**Criterios de aceptación:**\n",
    "- El archivo de texto contiene exactamente tres líneas con el nombre del paquete y su versión fijada.\n",
    "- El archivo se guarda correctamente cuando se habilita la escritura.\n",
    "**Pistas:**\n",
    "- Usa `np.__version__`, `pd.__version__` y `matplotlib.__version__` para construir las líneas.\n"
   ]
  },
  {
   "cell_type": "code",
   "execution_count": null,
   "id": "4549bc5b",
   "metadata": {},
   "outputs": [],
   "source": [
    "\n",
    "# TODO: Solución Ejercicio 3"
   ]
  },
  {
   "cell_type": "markdown",
   "id": "0a862d36",
   "metadata": {},
   "source": [
    "---\n",
    "\n",
    "## Ejercicio 4 — Medición básica de rendimiento\n",
    "**Contexto técnico:** Debes justificar ante tu equipo la ventaja de operar con arrays de NumPy frente a listas nativas.\n",
    "**Datos/entradas:** Un tamaño de `n = 500_000` elementos para pruebas.\n",
    "**Requerimientos:**\n",
    "1. Construir una lista nativa y un `ndarray` con valores `0..n-1`.\n",
    "2. Medir el tiempo para elevar al cuadrado con comprensión de listas versus operación vectorizada.\n",
    "3. Reportar los tiempos en segundos y verificar que los resultados son equivalentes.\n",
    "**Criterios de aceptación:**\n",
    "- Se imprimen dos tiempos claramente etiquetados.\n",
    "- Se verifica la equivalencia numérica de los resultados con una tolerancia razonable.\n",
    "**Pistas:**\n",
    "- Usa `time.perf_counter()` y `np.allclose`.\n"
   ]
  },
  {
   "cell_type": "code",
   "execution_count": null,
   "id": "023cff49",
   "metadata": {},
   "outputs": [],
   "source": [
    "\n",
    "# TODO: Solución Ejercicio 4"
   ]
  }
 ],
 "metadata": {
  "authors": [
   "Jhon Erik Navarrete Gómez"
  ],
  "created": "2025-09-16T12:41:52+00:00",
  "description": "Bloque introductorio al ecosistema de analítica de datos en Python, con énfasis en el rol de NumPy, Pandas y Matplotlib dentro del stack científico.",
  "kernelspec": {
   "display_name": "Python 3",
   "language": "python",
   "name": "python3"
  },
  "language_info": {
   "name": "python",
   "version": "3.12.8"
  }
 },
 "nbformat": 4,
 "nbformat_minor": 5
}
