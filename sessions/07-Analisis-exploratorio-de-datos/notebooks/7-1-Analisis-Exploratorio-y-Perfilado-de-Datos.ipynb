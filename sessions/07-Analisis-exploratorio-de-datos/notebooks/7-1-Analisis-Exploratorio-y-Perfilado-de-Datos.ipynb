{
  "cells": [
    {
      "cell_type": "markdown",
      "id": "07031431",
      "metadata": {},
      "source": [
        "# Análisis Exploratorio y Perfilado de Datos (EDA básico → avanzado)\n",
        "\n",
        "**Curso:** Fundamentos de Programación y Analítica de Datos con Python  \n",
        "**Duración estimada del bloque:** 2 horas  \n",
        "**Autores:** Jhon Erik Navarrete Gómez, Equipo de Instrucción – Curso Python (Asesoría)  \n",
        "**Creado:** 2025-09-16T18:25:56+00:00\n",
        "\n",
        "**Descripción breve del bloque:**  \n",
        "Bloque orientado a comprender, diagnosticar y perfilar datasets mediante técnicas de EDA desde un nivel introductorio hasta prácticas más avanzadas, incorporando visualización, estadística descriptiva y reporte automatizado.\n",
        "\n",
        "## Objetivos específicos\n",
        "- Realizar una lectura y exploración inicial de datasets con `pandas`, identificando estructura, tipos y calidad de datos.\n",
        "- Generar estadísticas descriptivas básicas y avanzadas que soporten hipótesis iniciales.\n",
        "- Producir visualizaciones univariadas y multivariadas para detectar patrones, sesgos y anomalías.\n",
        "- Elaborar un reporte de perfilado automático (si la librería está disponible) para acelerar el diagnóstico del dataset.\n",
        "- Documentar hallazgos iniciales de calidad y proponar acciones de mejora (limpieza/transformación) para etapas posteriores.\n",
        "\n",
        "## Prerrequisitos\n",
        "- Conocimientos básicos de Python (tipos de datos, funciones, estructuras de control).\n",
        "- Familiaridad mínima con `pandas` (lectura de CSV, `DataFrame`, operaciones elementales)."
      ]
    },
    {
      "cell_type": "markdown",
      "id": "b4409b4d",
      "metadata": {},
      "source": [
        "## Tema 1 — Introducción al Dataset: lectura, estructura y estadísticas descriptivas\n",
        "\n",
        "### Definición\n",
        "La exploración inicial de un dataset consiste en cargar la fuente de datos y realizar inspecciones básicas de su forma, tipos de datos, valores únicos, valores faltantes y estadísticas descriptivas (tendencia central, dispersión y rangos).\n",
        "\n",
        "### Importancia en programación y analítica de datos\n",
        "Este primer diagnóstico permite:\n",
        "- Comprender el dominio y la granularidad de los datos (filas = observaciones, columnas = variables).\n",
        "- Identificar rápidamente problemas de calidad (nulos, tipos incorrectos, duplicados).\n",
        "- Priorizar decisiones de limpieza y transformación antes de modelar o visualizar en profundidad.\n",
        "- Definir hipótesis y líneas de investigación (qué variables podrían explicar el comportamiento de interés).\n",
        "\n",
        "### Buenas prácticas profesionales y errores comunes\n",
        "**Buenas prácticas:**\n",
        "- Separar claramente la carga de datos, la inspección estructural y el análisis descriptivo.\n",
        "- Registrar supuestos (por ejemplo, codificación de categorías o unidades de medida).\n",
        "- Versionar datasets de trabajo (copias con fecha) para asegurar reproducibilidad.\n",
        "\n",
        "**Errores comunes:**\n",
        "- Confiar solo en `head()` y omitir `info()`/`describe()` o conteo de nulos.\n",
        "- No validar tipos (fechas como texto, categorías como enteros).\n",
        "- Asumir que no hay duplicados ni outliers sin verificar."
      ]
    },
    {
      "cell_type": "code",
      "execution_count": null,
      "id": "c253a845",
      "metadata": {},
      "outputs": [],
      "source": [
        "\n",
        "# TODO: Ejemplo en Python — Carga y exploración inicial\n",
        "# -------------------------------------------------------------------\n",
        "# Objetivo: cargar un dataset de ejemplo (Titanic si está disponible),\n",
        "#           con alternativa sintética en caso de que seaborn no esté instalado.\n",
        "# -------------------------------------------------------------------"
      ]
    },
    {
      "cell_type": "markdown",
      "id": "94209a1b",
      "metadata": {},
      "source": [
        "## Tema 2 — Perfilado Automático de Datos (reporte integral)\n",
        "\n",
        "### Definición\n",
        "El perfilado automático es la generación de un reporte integral que resume estructura, estadística descriptiva, valores faltantes, duplicados, correlaciones, interacciones y alertas de calidad, entre otros.\n",
        "\n",
        "### Importancia en programación y analítica de datos\n",
        "- Permite **acelerar el diagnóstico** y priorizar tareas de limpieza.\n",
        "- Facilita la **comunicación con stakeholders** al presentar un reporte navegable.\n",
        "- Estandariza un **checklist de calidad** (distribuciones, cardinalidades, tipos, outliers).\n",
        "\n",
        "### Buenas prácticas profesionales y errores comunes\n",
        "**Buenas prácticas:**\n",
        "- Acompañar el perfil con notas técnicas (supuestos, decisiones tomadas).\n",
        "- Versionar el reporte y asociarlo a un *commit* del dataset.\n",
        "\n",
        "**Errores comunes:**\n",
        "- Tratar el reporte como “verdad absoluta” sin análisis crítico del contexto del negocio.\n",
        "- Omitir la revisión manual de columnas clave o de alta cardinalidad."
      ]
    },
    {
      "cell_type": "code",
      "execution_count": null,
      "id": "0e92c278",
      "metadata": {},
      "outputs": [],
      "source": [
        "\n",
        "# TODO: Ejemplo en Python — ydata-profiling (opcional)\n",
        "# -------------------------------------------------------------------\n",
        "# Si está instalada la librería ydata-profiling, generará un reporte incrustado.\n",
        "# En caso contrario, se mostrará una alternativa manual resumida.\n",
        "# -------------------------------------------------------------------"
      ]
    },
    {
      "cell_type": "markdown",
      "id": "d2109ceb",
      "metadata": {},
      "source": [
        "## Tema 3 — Visualización básica: distribuciones y correlaciones\n",
        "\n",
        "### Definición\n",
        "La visualización descriptiva transforma datos en gráficos para identificar patrones, comparar grupos, reconocer sesgos y posibles anomalías. En EDA se utilizan principalmente histogramas, diagramas de caja y matrices de correlación.\n",
        "\n",
        "### Importancia en programación y analítica de datos\n",
        "- Permite **detectar sesgos** (asimetría), rangos atípicos y agrupamientos.\n",
        "- Complementa la estadística descriptiva con una **intuición visual**.\n",
        "- Identifica relaciones entre variables que orientan hipótesis y modelos.\n",
        "\n",
        "### Buenas prácticas profesionales y errores comunes\n",
        "**Buenas prácticas:**\n",
        "- Definir la pregunta antes del gráfico (¿qué quiero responder?).  \n",
        "- Etiquetar ejes y unidades cuando corresponda.  \n",
        "- Usar muestras/agrupaciones representativas para evitar interpretaciones erróneas.\n",
        "\n",
        "**Errores comunes:**\n",
        "- Hacer gráficos redundantes o poco legibles.  \n",
        "- Ignorar el tamaño de muestra o la presencia de valores extremos."
      ]
    },
    {
      "cell_type": "code",
      "execution_count": null,
      "id": "397e0a43",
      "metadata": {},
      "outputs": [],
      "source": [
        "\n",
        "# TODO: Ejemplo en Python — Visualización con matplotlib (evitando dependencias innecesarias)"
      ]
    },
    {
      "cell_type": "markdown",
      "id": "d46b2bde",
      "metadata": {},
      "source": [
        "# Ejercicios integradores\n",
        "\n",
        "A continuación se presentan ejercicios que abarcan los temas del bloque: exploración inicial, perfilado y visualización.\n",
        "Cada ejercicio incluye: contexto técnico, datos/entradas, requerimientos, criterios de aceptación y pistas.\n",
        "Se sugiere intentar resolverlos **antes** de revisar la solución propuesta."
      ]
    },
    {
      "cell_type": "markdown",
      "id": "d2cfee7a",
      "metadata": {},
      "source": [
        "### Ejercicio 1 — Diagnóstico inicial estructurado\n",
        "\n",
        "**Contexto técnico:**  \n",
        "Usted se desempeña como Analista de Datos en un equipo de auditoría interna. Recibe un extracto de pasajeros de un sistema histórico y debe entregar un diagnóstico preliminar de calidad para priorizar limpieza.\n",
        "\n",
        "**Datos/entradas:**  \n",
        "Utilice el dataset `df` cargado en este notebook (Titanic o sintético).\n",
        "\n",
        "**Requerimientos:**  \n",
        "1. Reporte número de filas/columnas y tipos de datos por variable.  \n",
        "2. Calcule el conteo de valores nulos por columna y la proporción (%) en relación con el total.  \n",
        "3. Presente estadísticas descriptivas de las variables numéricas y una lista de variables categóricas con su cardinalidad.\n",
        "\n",
        "**Criterios de aceptación:**  \n",
        "- El reporte debe contener una tabla con nulos por columna y proporción.  \n",
        "- Debe listar explícitamente columnas numéricas y categóricas y su conteo.\n",
        "\n",
        "**Pistas:**  \n",
        "- Use `df.shape`, `df.info()`, `df.isna().sum()`, `df.select_dtypes(...)`, `df.nunique()`."
      ]
    },
    {
      "cell_type": "code",
      "execution_count": null,
      "id": "8c17e30e",
      "metadata": {},
      "outputs": [],
      "source": [
        "\n",
        "# TODO: Solución Ejercicio 1"
      ]
    },
    {
      "cell_type": "markdown",
      "id": "1a70428b",
      "metadata": {},
      "source": [
        "### Ejercicio 2 — Visualización de distribuciones y sesgo\n",
        "\n",
        "**Contexto técnico:**  \n",
        "En un comité de control de riesgos se requiere un breve informe visual de la distribución de una variable clave para evaluar sesgo y presencia de valores extremos.\n",
        "\n",
        "**Datos/entradas:**  \n",
        "Seleccione cualquier columna numérica de `df` (por ejemplo, `age` o `fare` si existen).\n",
        "\n",
        "**Requerimientos:**  \n",
        "1. Dibuje un histograma con ~20 bins.  \n",
        "2. Genere un diagrama de caja (boxplot) de la misma variable.  \n",
        "3. Comente si la distribución parece simétrica, sesgada a la derecha/izquierda o presenta outliers evidentes.\n",
        "\n",
        "**Criterios de aceptación:**  \n",
        "- Se visualizan ambos gráficos sin errores.  \n",
        "- Hay una breve interpretación escrita (1–3 líneas).\n",
        "\n",
        "**Pistas:**  \n",
        "- Use `plt.hist(...)` y `plt.boxplot(...)`."
      ]
    },
    {
      "cell_type": "code",
      "execution_count": null,
      "id": "d8aad7b4",
      "metadata": {},
      "outputs": [],
      "source": [
        "\n",
        "# TODO: Solución Ejercicio 2"
      ]
    },
    {
      "cell_type": "markdown",
      "id": "663ddd5c",
      "metadata": {},
      "source": [
        "### Ejercicio 3 — Correlaciones y variables relevantes\n",
        "\n",
        "**Contexto técnico:**  \n",
        "Como parte de una prueba de hipótesis inicial, se solicita identificar posibles relaciones lineales entre variables numéricas para anticipar multicolinealidad y orientar modelos posteriores.\n",
        "\n",
        "**Datos/entradas:**  \n",
        "Utilice todas las columnas numéricas disponibles en `df`.\n",
        "\n",
        "**Requerimientos:**  \n",
        "1. Calcule la matriz de correlación.  \n",
        "2. Identifique al menos dos pares de variables con |correlación| ≥ 0.3 (si existen).  \n",
        "3. Visualice la matriz de correlación.\n",
        "\n",
        "**Criterios de aceptación:**  \n",
        "- La matriz de correlación se calcula correctamente.  \n",
        "- Los pares con correlación fuerte/moderada se identifican y listan.\n",
        "\n",
        "**Pistas:**  \n",
        "- Use `df.corr()` y `plt.imshow(...)`."
      ]
    },
    {
      "cell_type": "code",
      "execution_count": null,
      "id": "830efdb6",
      "metadata": {},
      "outputs": [],
      "source": [
        "\n",
        "# TODO: Solución Ejercicio 3"
      ]
    },
    {
      "cell_type": "markdown",
      "id": "09600a11",
      "metadata": {},
      "source": [
        "### Ejercicio 4 — Mini reporte ejecutivo de EDA inicial\n",
        "\n",
        "**Contexto técnico:**  \n",
        "Debe entregar un sumario ejecutivo de 8–12 líneas a un público técnico (equipo de ingeniería de datos) que resuma hallazgos y riesgos de calidad para planificar la limpieza.\n",
        "\n",
        "**Datos/entradas:**  \n",
        "Utilice los resultados de los ejercicios anteriores sobre `df`.\n",
        "\n",
        "**Requerimientos:**  \n",
        "1. Redacte un breve texto con hallazgos clave (nulos, tipos, distribuciones, outliers, correlaciones).  \n",
        "2. Proponga al menos tres acciones prioritarias de mejora (limpieza/transformación).\n",
        "\n",
        "**Criterios de aceptación:**  \n",
        "- El texto es conciso y cubre los aspectos solicitados.  \n",
        "- Las acciones son específicas y ejecutables.\n",
        "\n",
        "**Pistas:**  \n",
        "- Use viñetas y destaque riesgos con alto impacto en análisis o modelado."
      ]
    },
    {
      "cell_type": "code",
      "execution_count": null,
      "id": "b7ffe0ad",
      "metadata": {},
      "outputs": [],
      "source": [
        "\n",
        "# TODO: Solución Ejercicio 4"
      ]
    }
  ],
  "metadata": {
    "authors": [
      "Jhon Erik Navarrete Gómez",
      "Equipo de Instrucción – Curso Python (Asesoría)"
    ],
    "created": "2025-09-16T18:25:56+00:00",
    "description": "Bloque orientado a comprender, diagnosticar y perfilar datasets mediante técnicas de EDA desde un nivel introductorio hasta prácticas más avanzadas, incorporando visualización, estadística descriptiva y reporte automatizado.",
    "kernelspec": {
      "display_name": "Python 3",
      "language": "python",
      "name": "python3"
    },
    "language_info": {
      "name": "python",
      "version": "3.12.8"
    }
  },
  "nbformat": 4,
  "nbformat_minor": 5
}
