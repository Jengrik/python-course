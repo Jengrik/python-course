{
  "cells": [
    {
      "cell_type": "markdown",
      "metadata": {},
      "source": [
        "# Fundamentos de Probabilidad, Distribuciones y Estadística Inferencial\n",
        "\n",
        "**Curso:** Fundamentos de Programación y Analítica de Datos con Python  \n",
        "**Duración estimada del bloque:** 2 horas (dentro de la sesión de 4 horas)  \n",
        "\n",
        "## Objetivos específicos\n",
        "- Explicar formalmente los conceptos de probabilidad, variable aleatoria y distribución.\n",
        "- Simular fenómenos aleatorios y estimar parámetros con Python de forma reproducible.\n",
        "- Construir e interpretar intervalos de confianza para medias y proporciones.\n",
        "- Formular y ejecutar pruebas de hipótesis (t de Student, proporciones) e interpretar p-valores.\n",
        "- Adoptar buenas prácticas de reporte y validación estadística en análisis de datos.\n",
        "\n",
        "## Prerrequisitos\n",
        "- Conocimientos básicos de Python (tipos, control de flujo, funciones).\n",
        "- Nociones elementales de álgebra y cálculo diferencial (deseable, no obligatorio)."
      ]
    },
    {
      "cell_type": "markdown",
      "metadata": {},
      "source": [
        "## Tema 1 — Probabilidad, Variables Aleatorias y Distribuciones"
      ]
    },
    {
      "cell_type": "markdown",
      "metadata": {},
      "source": [
        "### Definición\n",
        "- **Probabilidad**: medida (entre 0 y 1) asociada a la ocurrencia de eventos bajo incertidumbre.\n",
        "- **Variable aleatoria (V.A.)**: función que asigna números a los resultados de un experimento aleatorio.\n",
        "- **Distribución**: describe la probabilidad (discreta) o densidad (continua) de una V.A. (p.ej., Bernoulli, Binomial, Poisson, Normal).\n",
        "\n",
        "Formalmente, una V.A. discreta \\(X\\) tiene **función de probabilidad** \\(P(X=x)\\).\n",
        "Una V.A. continua \\(Y\\) tiene **función de densidad** \\(f_Y(y)\\) y **función de distribución** \\(F_Y(y)=P(Y\\le y)\\)."
      ]
    },
    {
      "cell_type": "markdown",
      "metadata": {},
      "source": [
        "### Importancia en programación y analítica de datos\n",
        "- Modela fenómenos inciertos (demanda, fallas, tiempos de espera, ruido de medición).\n",
        "- Permite **simulación** para comprender comportamientos cuando no hay datos abundantes.\n",
        "- Facilita el **muestreo** y la **estimación** de parámetros usados en modelos de ML."
      ]
    },
    {
      "cell_type": "markdown",
      "metadata": {},
      "source": [
        "### Buenas prácticas y errores comunes\n",
        "**Buenas prácticas**\n",
        "- Fijar semillas aleatorias para reproducibilidad.\n",
        "- Verificar supuestos (independencia, forma de la distribución) antes de concluir.\n",
        "- Visualizar: histogramas para discretas/continuas, funciones de masa/densidad.\n",
        "\n",
        "**Errores comunes**\n",
        "- Confundir probabilidad con frecuencia relativa en muestras pequeñas.\n",
        "- Asumir normalidad sin contrastes visuales/numéricos."
      ]
    },
    {
      "cell_type": "code",
      "execution_count": null,
      "metadata": {},
      "outputs": [],
      "source": [
        "\n",
        "# TODO: Ejemplo: simulación de un dado y de una variable normal"
      ]
    },
    {
      "cell_type": "markdown",
      "metadata": {},
      "source": [
        "## Tema 2 — Estimación, Intervalos de Confianza y Pruebas de Hipótesis"
      ]
    },
    {
      "cell_type": "markdown",
      "metadata": {},
      "source": [
        "### Definición\n",
        "- **Estimación puntual**: obtener un valor para un parámetro (p.ej., \\(\\hat{\\mu}\\) para la media).\n",
        "- **Intervalo de confianza (IC)**: rango que, bajo supuestos, contiene al parámetro con una confianza (p.ej., 95%).\n",
        "- **Prueba de hipótesis**: contraste entre una hipótesis nula \\(H_0\\) y alternativa \\(H_1\\) usando un estadístico y p-valor."
      ]
    },
    {
      "cell_type": "markdown",
      "metadata": {},
      "source": [
        "### Importancia en programación y analítica de datos\n",
        "- Cuantifica la **incertidumbre** de estimaciones.\n",
        "- Permite tomar decisiones con **riesgo controlado** (nivel de significancia \\(\\alpha\\)).\n",
        "- Es base para validación temprana antes de usar modelos complejos."
      ]
    },
    {
      "cell_type": "markdown",
      "metadata": {},
      "source": [
        "### Buenas prácticas y errores comunes\n",
        "**Buenas prácticas**\n",
        "- Reportar IC junto con estimaciones puntuales.\n",
        "- Distinguir significancia estadística de **relevancia práctica**.\n",
        "- Verificar supuestos (independencia, normalidad aproximada, tamaño muestral).\n",
        "\n",
        "**Errores comunes**\n",
        "- Interpretar el IC como probabilidad “de que el parámetro esté en el intervalo” (frecuentista ≠ bayesiana).\n",
        "- Concluir causalidad a partir de correlación o diferencias significativas."
      ]
    },
    {
      "cell_type": "code",
      "execution_count": null,
      "metadata": {},
      "outputs": [],
      "source": [
        "\n",
        "# TODO: Ejemplo: IC de la media y prueba t de Student"
      ]
    },
    {
      "cell_type": "markdown",
      "metadata": {},
      "source": [
        "# Ejercicios Integradores"
      ]
    },
    {
      "cell_type": "markdown",
      "metadata": {},
      "source": [
        "A continuación se presentan ejercicios que integran los conceptos de probabilidad, simulación, estimación, intervalos y pruebas de hipótesis.\n",
        "Cada ejercicio incluye contexto técnico, datos/entradas, requerimientos, criterios de aceptación y pistas."
      ]
    },
    {
      "cell_type": "markdown",
      "metadata": {},
      "source": [
        "**Ejercicio 1 — Control de calidad en manufactura (proporciones)**\n",
        "\n",
        "- **Contexto técnico (rol/situación/impacto)**: \n",
        "  Eres analista de calidad en una planta. Quieres comprobar si la tasa de defectos supera el 3% establecido por contrato.\n",
        "- **Datos/entradas**: \n",
        "  Observaste \\(n=500\\) unidades y registraste \\(k=22\\) defectuosas.\n",
        "- **Requerimientos**:\n",
        "  1) Estimar la proporción \\(\\hat{p}\\) y construir un IC 95%.\n",
        "  2) Probar \\(H_0: p = 0.03\\) vs \\(H_1: p > 0.03\\) (nivel \\(\\alpha=0.05\\)).\n",
        "- **Criterios de aceptación**:\n",
        "  - Reportar \\(\\hat{p}\\), el IC (límite inferior/superior) y el p-valor de la prueba unilateral.\n",
        "  - Indicar decisión (rechazar/no rechazar \\(H_0\\)) y una interpretación en lenguaje claro.\n",
        "- **Pistas**:\n",
        "  - Usa aproximación normal de la proporción: \\(Z = \\frac{\\hat{p}-p_0}{\\sqrt{p_0(1-p_0)/n}}\\)."
      ]
    },
    {
      "cell_type": "code",
      "execution_count": null,
      "metadata": {},
      "outputs": [],
      "source": [
        "\n",
        "# TODO: Solución Ejercicio 1"
      ]
    },
    {
      "cell_type": "markdown",
      "metadata": {},
      "source": [
        "**Ejercicio 2 — Rendimiento de un proceso (media y t de Student)**\n",
        "\n",
        "- **Contexto técnico**: \n",
        "  Como ingeniero de datos, monitoreas un proceso donde la métrica de interés debería promediar 120 unidades/hora.\n",
        "- **Datos/entradas**:\n",
        "  Genera una muestra de tamaño \\(n=40\\) con distribución Normal(\\(\\mu=118\\), \\(\\sigma=10\\)). Fija semilla.\n",
        "- **Requerimientos**:\n",
        "  1) Estimar la media muestral y construir un IC 95% (desconoces \\(\\sigma\\)).\n",
        "  2) Probar \\(H_0: \\mu = 120\\) vs \\(H_1: \\mu \\ne 120\\).\n",
        "- **Criterios de aceptación**:\n",
        "  - Reportar \\(\\bar{x}\\), \\(s\\), IC y p-valor de la prueba t.\n",
        "  - Conclusión clara en términos del proceso (¿estamos por debajo de 120?).\n",
        "- **Pistas**:\n",
        "  - Usa `scipy.stats.t.interval` o percentil t crítico con `stats.t.ppf`."
      ]
    },
    {
      "cell_type": "code",
      "execution_count": null,
      "metadata": {},
      "outputs": [],
      "source": [
        "\n",
        "# TODO: Solución Ejercicio 2"
      ]
    },
    {
      "cell_type": "markdown",
      "metadata": {},
      "source": [
        "**Ejercicio 3 — Campaña de conversión (proporciones, muestra grande)**\n",
        "\n",
        "- **Contexto técnico**: \n",
        "  Marketing digital evalúa si una nueva landing mejora la conversión respecto a 5% histórico.\n",
        "- **Datos/entradas**:\n",
        "  Simula \\(n=3000\\) visitas con probabilidad de éxito \\(p=0.055\\). Cuenta éxitos \\(k\\).\n",
        "- **Requerimientos**:\n",
        "  1) Estimar \\(\\hat{p}\\) y construir IC 95%.\n",
        "  2) Probar \\(H_0: p = 0.05\\) vs \\(H_1: p > 0.05\\).\n",
        "- **Criterios de aceptación**:\n",
        "  - Reportar \\(\\hat{p}\\), IC y p-valor; concluir si hay evidencia de mejora.\n",
        "- **Pistas**:\n",
        "  - Para simular, usa `np.random.binomial(n, p)`."
      ]
    },
    {
      "cell_type": "code",
      "execution_count": null,
      "metadata": {},
      "outputs": [],
      "source": [
        "\n",
        "# TODO: Solución Ejercicio 3"
      ]
    },
    {
      "cell_type": "markdown",
      "metadata": {},
      "source": [
        "**Ejercicio 4 — Teorema Central del Límite (TCL) en práctica**\n",
        "\n",
        "- **Contexto técnico**: \n",
        "  Debes justificar a un stakeholder por qué la media de muestras “tiende a ser normal” incluso si el origen no lo es.\n",
        "- **Datos/entradas**:\n",
        "  Genera 2000 muestras de tamaño 30 desde una distribución **exponencial** con \\(\\lambda=1\\). Calcula la media de cada muestra.\n",
        "- **Requerimientos**:\n",
        "  - Visualizar el histograma de las medias muestrales y comparar con una Normal ajustada.\n",
        "  - Estimar la media y desviación estándar de las medias muestrales.\n",
        "- **Criterios de aceptación**:\n",
        "  - Gráfico único con histograma de medias; impresión de media/DE muestral.\n",
        "- **Pistas**:\n",
        "  - La media de una Exponencial(\\(\\lambda\\)) es \\(1/\\lambda\\)."
      ]
    },
    {
      "cell_type": "code",
      "execution_count": null,
      "metadata": {},
      "outputs": [],
      "source": [
        "\n",
        "# TODO: Solución Ejercicio 4"
      ]
    }
  ],
  "metadata": {
    "authors": [
      "Jhon Erik Navarrete Gómez (coordinación)",
      "Asesoría técnica: Instructor de Python y Analítica de Datos"
    ],
    "created": "2025-09-16T18:38:11",
    "description": "Bloque 8.1: Fundamentos de Probabilidad, Distribuciones y Estadística Inferencial. Sesión orientada a introducir conceptos de probabilidad, variables aleatorias, distribuciones, estimación e inferencia clásica con ejemplos prácticos en Python.",
    "kernelspec": {
      "display_name": "Python 3",
      "language": "python",
      "name": "python3"
    },
    "language_info": {
      "name": "python",
      "version": "3.12.8"
    }
  },
  "nbformat": 4,
  "nbformat_minor": 5
}
