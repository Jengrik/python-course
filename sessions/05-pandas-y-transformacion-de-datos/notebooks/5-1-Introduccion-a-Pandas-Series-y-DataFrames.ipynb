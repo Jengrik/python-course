{
  "cells": [
    {
      "cell_type": "markdown",
      "metadata": {},
      "source": [
        "# Introducción a Pandas: Series y DataFrames\n",
        "**Curso:** Fundamentos de Programación y Analítica de Datos con Python  \n",
        "Duración estimada: 4 horas\n",
        "\n",
        "## Objetivos específicos\n",
        "- Cargar datasets en memoria usando `pandas` desde fuentes comunes (CSV, Excel) y describir su estructura con métodos de inspección (`.head()`, `.info()`, `.describe()`).\n",
        "- Distinguir entre **Series** y **DataFrames**, creando ambos tipos desde objetos de Python y comprendiendo su indexación básica.\n",
        "- Seleccionar y filtrar datos con `loc` e `iloc` sobre DataFrames de forma segura y reproducible.\n",
        "- Aplicar operaciones simples de transformación y agregación inicial (`assign`, operaciones aritméticas columnares, `groupby` + `agg`) en DataFrames.\n",
        "\n",
        "## Prerrequisitos\n",
        "Conocimientos básicos de Python (tipos primitivos, listas/diccionarios, funciones) y nociones elementales de NumPy (arrays y operaciones vectorizadas). No se asume experiencia previa con Pandas.\n"
      ]
    },
    {
      "cell_type": "markdown",
      "metadata": {},
      "source": [
        "---\n"
      ]
    },
    {
      "cell_type": "markdown",
      "metadata": {},
      "source": [
        "## Tema 1 — Series\n",
        "\n",
        "### Definición\n",
        "Una **Serie** de Pandas es una estructura unidimensional etiquetada que puede almacenar cualquier tipo de dato (numérico, cadena, booleano, objetos), compuesta por un **array de valores** y un **índice** que etiqueta cada elemento. A diferencia de una lista, la Serie mantiene metadatos (índices) y ofrece operaciones vectorizadas y de alineación por etiquetas.\n",
        "\n",
        "### Importancia en programación y analítica de datos\n",
        "- Permite trabajar con vectores etiquetados, facilitando el acceso semántico a los elementos por nombre y no solo por posición.\n",
        "- Alinea automáticamente los datos por el índice durante operaciones entre Series, reduciendo errores de mezcla/orden.\n",
        "- Es la pieza base para construir columnas de un DataFrame y realizar transformaciones limpias y reproducibles.\n"
      ]
    },
    {
      "cell_type": "markdown",
      "metadata": {},
      "source": [
        "### Buenas prácticas profesionales y errores comunes\n",
        "- **Buena práctica:** documentar el **significado del índice** y mantenerlo único cuando represente identificadores.  \n",
        "- **Buena práctica:** preferir operaciones vectorizadas sobre bucles explícitos por rendimiento y claridad.  \n",
        "- **Error común:** asumir que el índice es siempre 0..n-1; validar el índice con `s.index` y considerar `s.reset_index(drop=True)` cuando se requiera.\n"
      ]
    },
    {
      "cell_type": "code",
      "execution_count": null,
      "metadata": {
        "trusted": true
      },
      "outputs": [],
      "source": [
        "\n",
        "#TODO: Ejemplo básico de Series"
      ]
    },
    {
      "cell_type": "markdown",
      "metadata": {},
      "source": [
        "---\n"
      ]
    },
    {
      "cell_type": "markdown",
      "metadata": {},
      "source": [
        "## Tema 2 — DataFrames\n",
        "\n",
        "### Definición\n",
        "Un **DataFrame** es una estructura bidimensional tabular con **filas** e **columnas etiquetadas**, donde cada columna es conceptualmente una Serie y todas comparten el mismo índice de filas. Admite tipos heterogéneos por columna, operaciones vectorizadas y funciones de alto nivel para limpieza y transformación.\n",
        "\n",
        "### Importancia en programación y analítica de datos\n",
        "- Modelo mental cercano a **SQL** y **Excel**, ideal para datos tabulares del mundo real.\n",
        "- Facilita la **inspección** (`.head()`, `.info()`, `.shape`, `.dtypes`), la **selección** (`loc`, `iloc`) y la **transformación** (`assign`, operaciones aritméticas, `groupby`, `agg`).  \n",
        "- Estandariza flujos de **carga → limpieza → transformación → análisis** con reproducibilidad y trazabilidad.\n"
      ]
    },
    {
      "cell_type": "markdown",
      "metadata": {},
      "source": [
        "### Buenas prácticas profesionales y errores comunes\n",
        "- **Buena práctica:** usar nombres de columnas en **snake_case** sin espacios para evitar errores en accesos y al exportar: `total_ventas`, `fecha_compra`.\n",
        "- **Buena práctica:** controlar tipos con `df.dtypes` y convertir explícitamente con `astype` cuando sea necesario.\n",
        "- **Error común:** mezclar `df.col` y `df[\"col\"]` indiscriminadamente; preferir `df[\"col\"]` por seguridad cuando el nombre de columna pueda colisionar con atributos.\n",
        "- **Error común:** olvidar `index=False` al exportar a CSV/Excel cuando el índice no es semántico.\n"
      ]
    },
    {
      "cell_type": "code",
      "execution_count": null,
      "metadata": {
        "trusted": true
      },
      "outputs": [],
      "source": [
        "\n",
        "# TODO: Ejemplo para la creación e inspección de un DataFrame"
      ]
    },
    {
      "cell_type": "code",
      "execution_count": null,
      "metadata": {
        "trusted": true
      },
      "outputs": [],
      "source": [
        "\n",
        "# TODO: Ejemplo de Selección y filtrado: loc e iloc"
      ]
    },
    {
      "cell_type": "code",
      "execution_count": null,
      "metadata": {
        "trusted": true
      },
      "outputs": [],
      "source": [
        "\n",
        "# TODO: Ejemplo de Transformaciones y agregaciones básicas"
      ]
    },
    {
      "cell_type": "code",
      "execution_count": null,
      "metadata": {
        "trusted": true
      },
      "outputs": [],
      "source": [
        "\n",
        "# TODO: Entrada/Salida de datos (I/O)"
      ]
    },
    {
      "cell_type": "markdown",
      "metadata": {},
      "source": [
        "---\n"
      ]
    },
    {
      "cell_type": "markdown",
      "metadata": {},
      "source": [
        "# Ejercicios integradores\n",
        "\n",
        "A continuación, se presentan ejercicios que integran los conceptos de **Series** y **DataFrames**. Se recomienda resolverlos de manera individual y luego discutir en grupo las soluciones y decisiones de diseño.\n"
      ]
    },
    {
      "cell_type": "markdown",
      "metadata": {},
      "source": [
        "## Ejercicio 1 — Control de inventario básico con Series\n",
        "**Contexto técnico:** Eres analista de inventarios en una tienda minorista. Necesitas modelar el stock actual por producto y proyectar el stock tras recibir un lote de reposición. La precisión en el manejo de índices es clave para evitar errores de consolidación.\n",
        "\n",
        "**Datos/entradas:** \n",
        "- Serie `stock_actual` con índices `[\"A\", \"B\", \"C\"]` y valores `[20, 35, 12]`.\n",
        "- Serie `reposicion` con índices `[\"A\", \"C\"]` y valores `[10, 8]`.\n",
        "\n",
        "**Requerimientos:**\n",
        "1. Crear ambas Series con los índices indicados.\n",
        "2. Calcular `stock_proyectado = stock_actual + reposicion` y explicar por qué aparecen `NaN` cuando una etiqueta no existe en ambas Series.\n",
        "3. Reemplazar los `NaN` por 0 antes de sumar (pista: `reindex` o `fillna`).\n",
        "\n",
        "**Criterios de aceptación:**\n",
        "- `stock_proyectado` tiene índices `[\"A\", \"B\", \"C\"]` y valores `[30, 35, 20]`.\n",
        "- No hay valores `NaN` en el resultado final.\n",
        "\n",
        "**Pistas:**\n",
        "- Revise la alineación por etiqueta en Series.\n",
        "- Use `add` con `fill_value=0` o normalice índices con `reindex`.\n"
      ]
    },
    {
      "cell_type": "code",
      "execution_count": null,
      "id": "56e2592a",
      "metadata": {
        "trusted": true
      },
      "outputs": [],
      "source": [
        "\n",
        "#TODO: Solución del Ejercicio 1"
      ]
    },
    {
      "cell_type": "markdown",
      "metadata": {},
      "source": [
        "## Ejercicio 2 — Resumen de ventas por producto con DataFrame\n",
        "**Contexto técnico:** Como analista comercial, necesitas un resumen de ventas por producto para presentar a gerencia. La trazabilidad de cálculos y la correcta selección de columnas son fundamentales.\n",
        "\n",
        "**Datos/entradas:**\n",
        "Construye un DataFrame con las columnas `producto`, `precio`, `cantidad` y `ciudad` con al menos 8 filas. Incluye al menos 3 productos y 3 ciudades.\n",
        "\n",
        "**Requerimientos:**\n",
        "1. Crear la columna `valor_total = precio * cantidad` usando `assign`.\n",
        "2. Generar un resumen por `producto` con `ventas_totales` (suma de `valor_total`) y `precio_promedio`.\n",
        "3. Ordenar el resultado por `ventas_totales` descendente.\n",
        "\n",
        "**Criterios de aceptación:**\n",
        "- El DataFrame de salida contiene las columnas `producto`, `ventas_totales`, `precio_promedio` y al menos una fila por producto.\n",
        "- El orden es descendente por `ventas_totales`.\n",
        "\n",
        "**Pistas:**\n",
        "- Use `groupby` y `agg` con nombres de columnas alias.\n",
        "- Revise `sort_values` para ordenar.\n"
      ]
    },
    {
      "cell_type": "code",
      "execution_count": null,
      "metadata": {
        "trusted": true
      },
      "outputs": [],
      "source": [
        "\n",
        "#TODO: Solución del Ejercicio 2"
      ]
    },
    {
      "cell_type": "markdown",
      "metadata": {},
      "source": [
        "## Ejercicio 3 — Selección y filtrado para control de calidad\n",
        "**Contexto técnico:** En un control de calidad, se deben identificar transacciones atípicas por ciudad y revisar casos con precio fuera de un rango esperado.\n",
        "\n",
        "**Datos/entradas:**\n",
        "Partiendo del DataFrame `df` del ejercicio anterior.\n",
        "\n",
        "**Requerimientos:**\n",
        "1. Seleccionar solo las filas de `Bogota` y `Cali` con `precio >= 10` usando filtrado booleano.\n",
        "2. Con `loc`, obtener las columnas `producto`, `precio` y `ciudad` de las primeras 5 filas filtradas.\n",
        "3. Con `iloc`, obtener las filas 0..2 y columnas 0..2 del DataFrame original para comparar.\n",
        "\n",
        "**Criterios de aceptación:**\n",
        "- El subconjunto filtrado contiene únicamente las ciudades objetivo con `precio >= 10`.\n",
        "- Las selecciones con `loc`/`iloc` retornan las dimensiones esperadas.\n",
        "\n",
        "**Pistas:**\n",
        "- Combine condiciones con `&` y paréntesis.\n",
        "- Recuerde que `loc` usa etiquetas y `iloc` posiciones enteras.\n"
      ]
    },
    {
      "cell_type": "code",
      "execution_count": null,
      "metadata": {
        "trusted": true
      },
      "outputs": [],
      "source": [
        "\n",
        "#TODO: Solución del Ejercicio 3"
      ]
    },
    {
      "cell_type": "markdown",
      "metadata": {},
      "source": [
        "## Ejercicio 4 — Exportación de resultados para reporte\n",
        "**Contexto técnico:** Necesitas entregar a un colega un archivo intercambiable para continuar el análisis. Se solicita un CSV con el resumen por producto.\n",
        "\n",
        "**Datos/entradas:**\n",
        "Usa el resultado `resumen` del Ejercicio 2.\n",
        "\n",
        "**Requerimientos:**\n",
        "1. Exportar `resumen` como `resumen_por_producto.csv` sin incluir el índice.\n",
        "2. Verificar el archivo leyendo nuevamente y comprobando número de filas y columnas.\n",
        "\n",
        "**Criterios de aceptación:**\n",
        "- El archivo `resumen_por_producto.csv` existe, no contiene índice y conserva las columnas correctas.\n",
        "- La verificación muestra el mismo número de filas/columnas que el DataFrame original exportado.\n",
        "\n",
        "**Pistas:**\n",
        "- Use `to_csv(\"resumen_por_producto.csv\", index=False)` y luego `pd.read_csv(...)`.\n"
      ]
    },
    {
      "cell_type": "code",
      "execution_count": null,
      "metadata": {
        "trusted": true
      },
      "outputs": [],
      "source": [
        "\n",
        "#TODO: Solución del Ejercicio 4"
      ]
    }
  ],
  "metadata": {
    "authors": [
      "Jhon Erik Navarrete Gómez",
      "Asistente — Instructor de Python"
    ],
    "created": "2025-09-16T12:57:25+00:00",
    "description": "Bloque introductorio al uso de Pandas, cubriendo Series y DataFrames, con foco en definición, importancia práctica, ejemplos pedagógicos y ejercicios integradores.",
    "kernelspec": {
      "display_name": "Python 3",
      "language": "python",
      "name": "python3"
    },
    "language_info": {
      "name": "python",
      "version": "3.12.8"
    }
  },
  "nbformat": 4,
  "nbformat_minor": 5
}
