{
  "cells": [
    {
      "cell_type": "markdown",
      "metadata": {},
      "source": [
        "# Introducción a Pandas: Series y DataFrames\n",
        "**Curso:** Fundamentos de Programación y Analítica de Datos con Python  \n",
        "Duración estimada: 4 horas\n",
        "\n",
        "## Objetivos específicos\n",
        "- Cargar datasets en memoria usando `pandas` desde fuentes comunes (CSV, Excel) y describir su estructura con métodos de inspección (`.head()`, `.info()`, `.describe()`).\n",
        "- Distinguir entre **Series** y **DataFrames**, creando ambos tipos desde objetos de Python y comprendiendo su indexación básica.\n",
        "- Seleccionar y filtrar datos con `loc` e `iloc` sobre DataFrames de forma segura y reproducible.\n",
        "- Aplicar operaciones simples de transformación y agregación inicial (`assign`, operaciones aritméticas columnares, `groupby` + `agg`) en DataFrames.\n",
        "\n",
        "## Prerrequisitos\n",
        "Conocimientos básicos de Python (tipos primitivos, listas/diccionarios, funciones) y nociones elementales de NumPy (arrays y operaciones vectorizadas). No se asume experiencia previa con Pandas.\n"
      ]
    },
    {
      "cell_type": "markdown",
      "metadata": {},
      "source": [
        "---\n"
      ]
    },
    {
      "cell_type": "markdown",
      "metadata": {},
      "source": [
        "## Tema 1 — Series\n",
        "\n",
        "### Definición\n",
        "Una **Serie** de Pandas es una estructura unidimensional etiquetada que puede almacenar cualquier tipo de dato (numérico, cadena, booleano, objetos), compuesta por un **array de valores** y un **índice** que etiqueta cada elemento. A diferencia de una lista, la Serie mantiene metadatos (índices) y ofrece operaciones vectorizadas y de alineación por etiquetas.\n",
        "\n",
        "### Importancia en programación y analítica de datos\n",
        "- Permite trabajar con vectores etiquetados, facilitando el acceso semántico a los elementos por nombre y no solo por posición.\n",
        "- Alinea automáticamente los datos por el índice durante operaciones entre Series, reduciendo errores de mezcla/orden.\n",
        "- Es la pieza base para construir columnas de un DataFrame y realizar transformaciones limpias y reproducibles.\n"
      ]
    },
    {
      "cell_type": "markdown",
      "metadata": {},
      "source": [
        "### Buenas prácticas profesionales y errores comunes\n",
        "- **Buena práctica:** documentar el **significado del índice** y mantenerlo único cuando represente identificadores.  \n",
        "- **Buena práctica:** preferir operaciones vectorizadas sobre bucles explícitos por rendimiento y claridad.  \n",
        "- **Error común:** asumir que el índice es siempre 0..n-1; validar el índice con `s.index` y considerar `s.reset_index(drop=True)` cuando se requiera.\n"
      ]
    },
    {
      "cell_type": "code",
      "execution_count": null,
      "metadata": {
        "trusted": true
      },
      "outputs": [
        {
          "name": "stdout",
          "output_type": "stream",
          "text": [
            "Serie creada para la población: \n",
            " Argentina    10000000\n",
            "Colombia     50000000\n",
            "Chile         5150000\n",
            "dtype: int64\n",
            "---------------------------------------- \n",
            "\n",
            "La población de Colombia es:  50000000\n",
            "Países con población mayor a 8 millones:\n",
            " Argentina    10000000\n",
            "Colombia     50000000\n",
            "dtype: int64 \n",
            "\n",
            "---------------------------------------- \n",
            "\n",
            "Crecimiento anual relativo: \n",
            " Argentina    0.01\n",
            "Colombia     0.05\n",
            "Chile        0.02\n",
            "dtype: float64\n",
            "\n",
            "Población proyectada para el próximo año: \n",
            " Argentina    10100000.0\n",
            "Colombia     52500000.0\n",
            "Chile         5253000.0\n",
            "dtype: float64 \n",
            "\n",
            "Crecimiento parcial: \n",
            " Argentina    0.03\n",
            "Chile        0.04\n",
            "dtype: float64\n",
            "\n",
            "Población proyectada con crecimiento parcial: \n",
            " Argentina    10300000.0\n",
            "Chile         5356000.0\n",
            "Colombia            NaN\n",
            "dtype: float64 \n",
            "\n",
            "-- Crecimiento con None explícito: \n",
            " Argentina    10300000.0\n",
            "Colombia            NaN\n",
            "Chile         5356000.0\n",
            "dtype: float64\n",
            "-- Crecimiento con valor anterior: \n",
            " Argentina    10300000.0\n",
            "Colombia     50000000.0\n",
            "Chile         5356000.0\n",
            "dtype: float64\n",
            "-- Crecimiento con valor anterior usando mul: \n",
            " Argentina    10300000.0\n",
            "Colombia     50000000.0\n",
            "Chile         5356000.0\n",
            "dtype: float64\n"
          ]
        }
      ],
      "source": [
        "\n",
        "#TODO: Ejemplo básico de Series\n",
        "import pandas as pd\n",
        "import numpy as np\n",
        "\n",
        "#* Serie con índice explícito\n",
        "poblacion = pd.Series([10_000_000, 50_000_000, 5_150_000], index=['Argentina', 'Colombia', 'Chile'])\n",
        "print(\"Serie creada para la población: \\n\", poblacion)\n",
        "print(\"-\" * 40, \"\\n\")\n",
        "\n",
        "#* Realizar acceso por etiquueta y por máscara booleana\n",
        "print(\"La población de Colombia es: \", poblacion['Colombia'])\n",
        "print(\"Países con población mayor a 8 millones:\\n\", poblacion[poblacion > 8_000_000], \"\\n\")\n",
        "print(\"-\" * 40, \"\\n\")\n",
        "\n",
        "#* Operaciones Vectorizadas\n",
        "crecimiento = pd.Series([0.01, 0.05, 0.02], index=['Argentina', 'Colombia', 'Chile'])\n",
        "print(\"Crecimiento anual relativo: \\n\", crecimiento)\n",
        "\n",
        "poblacion_proyectada = poblacion*( 1 + crecimiento)\n",
        "print(\"\\nPoblación proyectada para el próximo año: \\n\", poblacion_proyectada, \"\\n\")\n",
        "\n",
        "#* Observación sobre los indices: Alineación por etiquetas\n",
        "crecimiento_parcial = pd.Series([0.03, 0.04], index=['Argentina', 'Chile'])\n",
        "print(\"Crecimiento parcial: \\n\", crecimiento_parcial)\n",
        "print(\"\\nPoblación proyectada con crecimiento parcial: \\n\", poblacion*(1 + crecimiento_parcial), \"\\n\")\n",
        "\n",
        "#* -- Julian: Forzar null explícito\n",
        "crecimiento_null = crecimiento_parcial.reindex(poblacion.index, fill_value=None)\n",
        "resultado_null = poblacion * (1 + crecimiento_null)\n",
        "print(\"-- Crecimiento con None explícito: \\n\", resultado_null)\n",
        "\n",
        "#* -- Rafael: Valor anterior sin multiplicar\n",
        "crecimiento_valor_anterior = crecimiento_parcial.reindex(poblacion.index, fill_value=0)\n",
        "resultado_valor_anterior = poblacion * (1 + crecimiento_valor_anterior)\n",
        "print(\"-- Crecimiento con valor anterior: \\n\", resultado_valor_anterior)\n",
        "\n",
        "#* -- Rafael: Valor anterior multiplicando ( mul )\n",
        "resultado_multiplicando = poblacion.mul(1 + crecimiento_valor_anterior, fill_value=1)\n",
        "print(\"-- Crecimiento con valor anterior usando mul: \\n\", resultado_multiplicando)"
      ]
    },
    {
      "cell_type": "code",
      "execution_count": 53,
      "id": "2a5c31b7",
      "metadata": {},
      "outputs": [
        {
          "name": "stdout",
          "output_type": "stream",
          "text": [
            "Argentina    10300000.0\n",
            "Chile         5356000.0\n",
            "Colombia            NaN\n",
            "dtype: float64\n",
            "---------------------------------------- \n",
            "\n",
            "Suma total:  15656000.0\n",
            "Promedio:  7828000.0\n",
            "Máximo:  10300000.0\n",
            "Conteo de valores válidos: 2 de 3 registros\n"
          ]
        }
      ],
      "source": [
        "# Agregado adicional\n",
        "poblacion_proyectada = poblacion*(1 + crecimiento_parcial)\n",
        "print(poblacion_proyectada)\n",
        "print(\"-\" * 40, \"\\n\")\n",
        "\n",
        "print(\"Suma total: \", poblacion_proyectada.sum())\n",
        "print(\"Promedio: \", poblacion_proyectada.mean())\n",
        "print(\"Máximo: \", poblacion_proyectada.max())\n",
        "#* Cuando estamos utiliazndo series numéricas, los datos con NaN son ignorados ( se saltan ) en las operaciones\n",
        "\n",
        "print(f\"Conteo de valores válidos: {poblacion_proyectada.count()} de {poblacion_proyectada.size} registros\")"
      ]
    },
    {
      "cell_type": "markdown",
      "metadata": {},
      "source": [
        "---\n"
      ]
    },
    {
      "cell_type": "markdown",
      "metadata": {},
      "source": [
        "## Tema 2 — DataFrames\n",
        "\n",
        "### Definición\n",
        "Un **DataFrame** es una estructura bidimensional tabular con **filas** e **columnas etiquetadas**, donde cada columna es conceptualmente una Serie y todas comparten el mismo índice de filas. Admite tipos heterogéneos por columna, operaciones vectorizadas y funciones de alto nivel para limpieza y transformación.\n",
        "\n",
        "### Importancia en programación y analítica de datos\n",
        "- Modelo mental cercano a **SQL** y **Excel**, ideal para datos tabulares del mundo real.\n",
        "- Facilita la **inspección** (`.head()`, `.info()`, `.shape`, `.dtypes`), la **selección** (`loc`, `iloc`) y la **transformación** (`assign`, operaciones aritméticas, `groupby`, `agg`).  \n",
        "- Estandariza flujos de **carga → limpieza → transformación → análisis** con reproducibilidad y trazabilidad.\n"
      ]
    },
    {
      "cell_type": "markdown",
      "metadata": {},
      "source": [
        "### Buenas prácticas profesionales y errores comunes\n",
        "- **Buena práctica:** usar nombres de columnas en **snake_case** sin espacios para evitar errores en accesos y al exportar: `total_ventas`, `fecha_compra`.\n",
        "- **Buena práctica:** controlar tipos con `df.dtypes` y convertir explícitamente con `astype` cuando sea necesario.\n",
        "- **Error común:** mezclar `df.col` y `df[\"col\"]` indiscriminadamente; preferir `df[\"col\"]` por seguridad cuando el nombre de columna pueda colisionar con atributos.\n",
        "- **Error común:** olvidar `index=False` al exportar a CSV/Excel cuando el índice no es semántico.\n"
      ]
    },
    {
      "cell_type": "code",
      "execution_count": 19,
      "metadata": {
        "trusted": true
      },
      "outputs": [
        {
          "name": "stdout",
          "output_type": "stream",
          "text": [
            "  producto  precio  cantidad    ciudad\n",
            "0        A    10.0         1    Bogota\n",
            "1        B    20.0         2  Medellín\n",
            "2        C    15.0         1      Cali\n",
            "3        B    25.0         3    Bogotá\n",
            "4        A    12.0         2      Cali\n",
            "Dimensiones del DataFrame: (5, 4)\n",
            "Tipos de datos:\n",
            " producto     object\n",
            "precio      float64\n",
            "cantidad      int64\n",
            "ciudad       object\n",
            "dtype: object\n",
            "Estadísticas descriptivas:\n",
            "           precio  cantidad\n",
            "count   5.000000   5.00000\n",
            "mean   16.400000   1.80000\n",
            "std     6.107373   0.83666\n",
            "min    10.000000   1.00000\n",
            "25%    12.000000   1.00000\n",
            "50%    15.000000   2.00000\n",
            "75%    20.000000   2.00000\n",
            "max    25.000000   3.00000\n"
          ]
        }
      ],
      "source": [
        "\n",
        "# TODO: Ejemplo para la creación e inspección de un DataFrame\n",
        "import pandas as pd\n",
        "\n",
        "data = {\n",
        "  \"producto\": [\"A\", \"B\", \"C\", \"B\", \"A\"],\n",
        "  \"precio\": [10.0, 20.0, 15.0, 25.0, 12.0],\n",
        "  \"cantidad\": [1, 2, 1, 3, 2],\n",
        "  \"ciudad\": [\"Bogota\", \"Medellín\", \"Cali\", \"Bogotá\", \"Cali\"]\n",
        "}\n",
        "\n",
        "df = pd.DataFrame(data)\n",
        "print(df.head())\n",
        "print(\"Dimensiones del DataFrame:\", df.shape)\n",
        "print(\"Tipos de datos:\\n\", df.dtypes)\n",
        "print(\"Estadísticas descriptivas:\\n\", df.describe())\n",
        "\n",
        "#! Sanitización/Normalización de Dataframes\n"
      ]
    },
    {
      "cell_type": "code",
      "execution_count": 31,
      "metadata": {
        "trusted": true
      },
      "outputs": [
        {
          "name": "stdout",
          "output_type": "stream",
          "text": [
            "  producto  precio  cantidad    ciudad\n",
            "0        A    10.0         1    Bogota\n",
            "1        B    20.0         2  Medellín\n",
            "2        C    15.0         1      Cali\n",
            "3        B    25.0         3    Bogotá\n",
            "4        A    12.0         2      Cali\n",
            "Selección por iloc (filas 0 a 2, columnas 0 a 1):\n",
            "  producto  precio\n",
            "0        A    10.0\n",
            "1        B    20.0\n",
            "2        C    15.0\n",
            "Selección por loc (filas 0 a 2, columnas 'producto' y 'precio'):\n",
            "  producto  precio\n",
            "0        A    10.0\n",
            "1        B    20.0\n",
            "2        C    15.0\n",
            "Filtrado condicional (precio <= 14 y ciudad == 'Bogotá'):\n",
            "Empty DataFrame\n",
            "Columns: [producto, precio, cantidad, ciudad]\n",
            "Index: []\n"
          ]
        }
      ],
      "source": [
        "\n",
        "# TODO: Ejemplo de Selección y filtrado: loc e iloc\n",
        "# - loc: Selección por etiquetas ( filas/columnas )\n",
        "# - iloc: Selección por posición entera ( filas/columnas )\n",
        "\n",
        "print(df.head())\n",
        "\n",
        "#* Selección por iloc\n",
        "# Filas 0..2 y columnas 'producto' y 'precio'\n",
        "print(\"Selección por iloc (filas 0 a 2, columnas 0 a 1):\")\n",
        "print(df.iloc[0:3, 0:2])\n",
        "\n",
        "print(\"Selección por loc (filas 0 a 2, columnas 'producto' y 'precio'):\")\n",
        "print(df.loc[0:2, ['producto', 'precio']])\n",
        "\n",
        "# Filtrado condicional\n",
        "filtro = (df[\"precio\"] <= 14) & (df[\"ciudad\"] == \"Bogotá\")\n",
        "print(\"Filtrado condicional (precio <= 14 y ciudad == 'Bogotá'):\")\n",
        "print(df[filtro])\n"
      ]
    },
    {
      "cell_type": "code",
      "execution_count": null,
      "metadata": {
        "trusted": true
      },
      "outputs": [
        {
          "name": "stdout",
          "output_type": "stream",
          "text": [
            "DataFrame con nueva columna 'valor_total':\n",
            "   producto  precio  cantidad    ciudad  valor_total\n",
            "0        A    10.0         1    Bogota         10.0\n",
            "1        B    20.0         2  Medellín         40.0\n",
            "2        C    15.0         1      Cali         15.0\n",
            "3        B    25.0         3    Bogotá         75.0\n",
            "4        A    12.0         2      Cali         24.0\n",
            "Resumen por producto:\n",
            "   producto  ventas_totales  precio_promedio  qty\n",
            "0        A            34.0             11.0    2\n",
            "1        B           115.0             22.5    2\n",
            "2        C            15.0             15.0    1\n"
          ]
        }
      ],
      "source": [
        "\n",
        "# TODO: Ejemplo de Transformaciones y agregaciones básicas\n",
        "#* Nueva columna: valor_total y que sea igual al precio por la cantidad.\n",
        "df= df.assign(valor_total = df[\"precio\"]*df[\"cantidad\"])\n",
        "print(\"DataFrame con nueva columna 'valor_total':\\n\", df)\n",
        "\n",
        "# Agregación: Ventas Totales por Producto\n",
        "ventas_por_producto = df.groupby(\"producto\", as_index=False).agg(\n",
        "  ventas_totales = (\"valor_total\",\"sum\"),\n",
        "  precio_promedio = (\"precio\",\"mean\"),\n",
        "  qty = (\"producto\",\"count\")\n",
        ")\n",
        "print(\"Resumen por producto:\\n\", ventas_por_producto)"
      ]
    },
    {
      "cell_type": "markdown",
      "metadata": {},
      "source": [
        "---\n"
      ]
    },
    {
      "cell_type": "markdown",
      "metadata": {},
      "source": [
        "# Ejercicios integradores\n",
        "\n",
        "A continuación, se presentan ejercicios que integran los conceptos de **Series** y **DataFrames**. Se recomienda resolverlos de manera individual y luego discutir en grupo las soluciones y decisiones de diseño.\n"
      ]
    },
    {
      "cell_type": "markdown",
      "metadata": {},
      "source": [
        "## Ejercicio 1 — Control de inventario básico con Series\n",
        "**Contexto técnico:** Eres analista de inventarios en una tienda minorista. Necesitas modelar el stock actual por producto y proyectar el stock tras recibir un lote de reposición. La precisión en el manejo de índices es clave para evitar errores de consolidación.\n",
        "\n",
        "**Datos/entradas:** \n",
        "- Serie `stock_actual` con índices `[\"A\", \"B\", \"C\"]` y valores `[20, 35, 12]`.\n",
        "- Serie `reposicion` con índices `[\"A\", \"C\"]` y valores `[10, 8]`.\n",
        "\n",
        "**Requerimientos:**\n",
        "1. Crear ambas Series con los índices indicados.\n",
        "2. Calcular `stock_proyectado = stock_actual + reposicion` y explicar por qué aparecen `NaN` cuando una etiqueta no existe en ambas Series.\n",
        "3. Reemplazar los `NaN` por 0 antes de sumar (pista: `reindex` o `fillna`).\n",
        "\n",
        "**Criterios de aceptación:**\n",
        "- `stock_proyectado` tiene índices `[\"A\", \"B\", \"C\"]` y valores `[30, 35, 20]`.\n",
        "- No hay valores `NaN` en el resultado final.\n",
        "\n",
        "**Pistas:**\n",
        "- Revise la alineación por etiqueta en Series.\n",
        "- Use `add` con `fill_value=0` o normalice índices con `reindex`.\n"
      ]
    },
    {
      "cell_type": "code",
      "execution_count": null,
      "id": "56e2592a",
      "metadata": {
        "trusted": true
      },
      "outputs": [],
      "source": [
        "\n",
        "#TODO: Solución del Ejercicio 1"
      ]
    },
    {
      "cell_type": "markdown",
      "metadata": {},
      "source": [
        "## Ejercicio 2 — Resumen de ventas por producto con DataFrame\n",
        "**Contexto técnico:** Como analista comercial, necesitas un resumen de ventas por producto para presentar a gerencia. La trazabilidad de cálculos y la correcta selección de columnas son fundamentales.\n",
        "\n",
        "**Datos/entradas:**\n",
        "Construye un DataFrame con las columnas `producto`, `precio`, `cantidad` y `ciudad` con al menos 8 filas. Incluye al menos 3 productos y 3 ciudades.\n",
        "\n",
        "**Requerimientos:**\n",
        "1. Crear la columna `valor_total = precio * cantidad` usando `assign`.\n",
        "2. Generar un resumen por `producto` con `ventas_totales` (suma de `valor_total`) y `precio_promedio`.\n",
        "3. Ordenar el resultado por `ventas_totales` descendente.\n",
        "\n",
        "**Criterios de aceptación:**\n",
        "- El DataFrame de salida contiene las columnas `producto`, `ventas_totales`, `precio_promedio` y al menos una fila por producto.\n",
        "- El orden es descendente por `ventas_totales`.\n",
        "\n",
        "**Pistas:**\n",
        "- Use `groupby` y `agg` con nombres de columnas alias.\n",
        "- Revise `sort_values` para ordenar.\n"
      ]
    },
    {
      "cell_type": "code",
      "execution_count": null,
      "metadata": {
        "trusted": true
      },
      "outputs": [],
      "source": [
        "\n",
        "#TODO: Solución del Ejercicio 2"
      ]
    },
    {
      "cell_type": "markdown",
      "metadata": {},
      "source": [
        "## Ejercicio 3 — Selección y filtrado para control de calidad\n",
        "**Contexto técnico:** En un control de calidad, se deben identificar transacciones atípicas por ciudad y revisar casos con precio fuera de un rango esperado.\n",
        "\n",
        "**Datos/entradas:**\n",
        "Partiendo del DataFrame `df` del ejercicio anterior.\n",
        "\n",
        "**Requerimientos:**\n",
        "1. Seleccionar solo las filas de `Bogota` y `Cali` con `precio >= 10` usando filtrado booleano.\n",
        "2. Con `loc`, obtener las columnas `producto`, `precio` y `ciudad` de las primeras 5 filas filtradas.\n",
        "3. Con `iloc`, obtener las filas 0..2 y columnas 0..2 del DataFrame original para comparar.\n",
        "\n",
        "**Criterios de aceptación:**\n",
        "- El subconjunto filtrado contiene únicamente las ciudades objetivo con `precio >= 10`.\n",
        "- Las selecciones con `loc`/`iloc` retornan las dimensiones esperadas.\n",
        "\n",
        "**Pistas:**\n",
        "- Combine condiciones con `&` y paréntesis.\n",
        "- Recuerde que `loc` usa etiquetas y `iloc` posiciones enteras.\n"
      ]
    },
    {
      "cell_type": "code",
      "execution_count": null,
      "metadata": {
        "trusted": true
      },
      "outputs": [],
      "source": [
        "\n",
        "#TODO: Solución del Ejercicio 3"
      ]
    },
    {
      "cell_type": "markdown",
      "metadata": {},
      "source": [
        "## Ejercicio 4 — Exportación de resultados para reporte\n",
        "**Contexto técnico:** Necesitas entregar a un colega un archivo intercambiable para continuar el análisis. Se solicita un CSV con el resumen por producto.\n",
        "\n",
        "**Datos/entradas:**\n",
        "Usa el resultado `resumen` del Ejercicio 2.\n",
        "\n",
        "**Requerimientos:**\n",
        "1. Exportar `resumen` como `resumen_por_producto.csv` sin incluir el índice.\n",
        "2. Verificar el archivo leyendo nuevamente y comprobando número de filas y columnas.\n",
        "\n",
        "**Criterios de aceptación:**\n",
        "- El archivo `resumen_por_producto.csv` existe, no contiene índice y conserva las columnas correctas.\n",
        "- La verificación muestra el mismo número de filas/columnas que el DataFrame original exportado.\n",
        "\n",
        "**Pistas:**\n",
        "- Use `to_csv(\"resumen_por_producto.csv\", index=False)` y luego `pd.read_csv(...)`.\n"
      ]
    },
    {
      "cell_type": "code",
      "execution_count": null,
      "metadata": {
        "trusted": true
      },
      "outputs": [],
      "source": [
        "\n",
        "#TODO: Solución del Ejercicio 4"
      ]
    }
  ],
  "metadata": {
    "authors": [
      "Jhon Erik Navarrete Gómez",
      "Asistente — Instructor de Python"
    ],
    "created": "2025-09-16T12:57:25+00:00",
    "description": "Bloque introductorio al uso de Pandas, cubriendo Series y DataFrames, con foco en definición, importancia práctica, ejemplos pedagógicos y ejercicios integradores.",
    "kernelspec": {
      "display_name": "Python (python-course)",
      "language": "python",
      "name": "python-course"
    },
    "language_info": {
      "codemirror_mode": {
        "name": "ipython",
        "version": 3
      },
      "file_extension": ".py",
      "mimetype": "text/x-python",
      "name": "python",
      "nbconvert_exporter": "python",
      "pygments_lexer": "ipython3",
      "version": "3.12.8"
    }
  },
  "nbformat": 4,
  "nbformat_minor": 5
}
