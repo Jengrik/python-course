{
  "cells": [
    {
      "cell_type": "markdown",
      "metadata": {},
      "source": [
        "# Introducción a la Programación Orientada a Objetos\n",
        "\n",
        "**Curso:** Fundamentos de Programación y Analítica de Datos con Python  \n",
        "**Duración estimada del bloque:** 2 horas  \n",
        "**Autores:** Jhon Erik Navarrete Gómez  \n",
        "**Creado:** 2025-09-16T12:26:54+00:00\n",
        "\n",
        "## Objetivos específicos\n",
        "- Definir y explicar los conceptos de clase y objeto en Python, relacionándolos con problemas prácticos de software.\n",
        "- Implementar clases con atributos y métodos, utilizando `__init__` para la inicialización adecuada del estado.\n",
        "- Aplicar convenciones de encapsulamiento básico y documentar el comportamiento de los métodos.\n",
        "- Utilizar métodos especiales (`__repr__`, `__str__`) para mejorar la inspección y depuración de objetos.\n",
        "- Construir ejemplos funcionales que integren entrada/salida con POO para modelar entidades del dominio.\n",
        "\n",
        "## Prerrequisitos\n",
        "- Fundamentos de Python: tipos de datos, variables, control de flujo, funciones.\n",
        "- Elementos básicos de entrada/salida (input/print) y manejo de archivos.\n"
      ]
    },
    {
      "cell_type": "markdown",
      "metadata": {},
      "source": [
        "## Tema 1: Clases y Objetos\n",
        "\n",
        "### Definición\n",
        "Una **clase** es una plantilla que define la estructura y el comportamiento de un conjunto de objetos. Un **objeto** es una instancia concreta de una clase que posee **atributos** (estado) y **métodos** (comportamiento).\n",
        "\n",
        "### Importancia en programación y analítica de datos\n",
        "- Facilita el **modelado del dominio**: entidades como Estudiante, Sensor, Transacción o Dataset pueden representarse como clases.\n",
        "- Mejora **organización y mantenibilidad** en proyectos analíticos, donde se encapsulan transformaciones y validaciones.\n",
        "- Permite **reutilización** a través de instanciación de múltiples objetos con estados distintos.\n"
      ]
    },
    {
      "cell_type": "code",
      "execution_count": 9,
      "metadata": {},
      "outputs": [
        {
          "name": "stdout",
          "output_type": "stream",
          "text": [
            "Hola, mi nombre es Ana y tengo 30 años.\n",
            "Hola, mi nombre es María y tengo 22 años.\n",
            "--------------------\n",
            "Se ha creado un vehículo Chevrolet Camaro del año 2020 con una velocidad de 0 km/h.\n",
            "El Chevrolet Camaro ha acelerado a 50 km/h.\n",
            "El Chevrolet Camaro ha acelerado a 100 km/h.\n",
            "El Chevrolet Camaro ha reducido su velocidad a 20 km/h.\n",
            "Se ha creado un vehículo Lamborghini Aventador del año 2021 con una velocidad de 0 km/h.\n",
            "El Lamborghini Aventador ha acelerado a 100 km/h.\n",
            "El Lamborghini Aventador ha reducido su velocidad a 0 km/h.\n"
          ]
        }
      ],
      "source": [
        "\n",
        "# TODO: Ejemplo Clase Persona con estado y comportamiento básicos\n",
        "\n",
        "class Persona:\n",
        "  def __init__(self, nombre:str, edad: int):\n",
        "    # Atributos de la Instancia ( Estado )\n",
        "    self.nombre = nombre\n",
        "    self.edad = edad\n",
        "\n",
        "  def saludar(self) -> None:\n",
        "    # Método de la Instancia ( Corresponde al Comportamiento )\n",
        "    # [ Acciones ]\n",
        "    print(f\"Hola, mi nombre es {self.nombre} y tengo {self.edad} años.\")\n",
        "\n",
        "# Instanciar los objetos\n",
        "p1 = Persona(\"Ana\", 30)\n",
        "p2 = Persona(\"Luis\", 25)\n",
        "p3 = Persona(\"María\", 22)\n",
        "\n",
        "p1.saludar()\n",
        "p3.saludar()\n",
        "print(\"-\"*20)\n",
        "\n",
        "class Carro:\n",
        "  def __init__(self, marca: str, modelo: str, año: int) -> None:\n",
        "    self.marca = marca\n",
        "    self.modelo = modelo\n",
        "    self.año = año\n",
        "    self.velocidad = 0  # Velocidad inicial en km/h\n",
        "    print(f\"Se ha creado un vehículo {self.marca} {self.modelo} del año {self.año} con una velocidad de {self.velocidad} km/h.\")\n",
        "\n",
        "  def acelerar(self, incremento: int) -> None:\n",
        "    self.velocidad += incremento\n",
        "    print(f\"El {self.marca} {self.modelo} ha acelerado a {self.velocidad} km/h.\")\n",
        "\n",
        "  def frenar(self, decremento: int) -> None:\n",
        "    self.velocidad = max(0, self.velocidad - decremento)\n",
        "    print(f\"El {self.marca} {self.modelo} ha reducido su velocidad a {self.velocidad} km/h.\")\n",
        "\n",
        "chevrolet = Carro(\"Chevrolet\", \"Camaro\", 2020)\n",
        "chevrolet.acelerar(50)\n",
        "chevrolet.acelerar(50)\n",
        "chevrolet.frenar(80)\n",
        "\n",
        "lamborghini = Carro(\"Lamborghini\", \"Aventador\", 2021)\n",
        "lamborghini.acelerar(100)\n",
        "lamborghini.frenar(200)"
      ]
    },
    {
      "cell_type": "markdown",
      "metadata": {},
      "source": [
        "## Tema 2: Atributos y Métodos\n",
        "\n",
        "### Definición\n",
        "- **Atributos**: variables asociadas a un objeto (o a la clase) que almacenan su estado.\n",
        "- **Métodos**: funciones definidas dentro de una clase que describen su comportamiento.\n",
        "- `self` hace referencia a la instancia actual y permite acceder a sus atributos y métodos.\n",
        "\n",
        "### Importancia en programación y analítica de datos\n",
        "- Permiten **encapsular lógica** de transformación y validación (por ejemplo, limpieza de datos antes de calcular un indicador).\n",
        "- Habilitan **interfaces claras** para usar objetos en pipelines analíticos o simulaciones.\n"
      ]
    },
    {
      "cell_type": "code",
      "execution_count": 16,
      "metadata": {},
      "outputs": [
        {
          "name": "stdout",
          "output_type": "stream",
          "text": [
            "Error: La calificación 5.2 es inválida. Debe estar entre 0.0 y 5.0.\n",
            "El promedio de María Eugenia es: 4.38\n",
            "El promedio de Juan Sebastián es: 3.43\n"
          ]
        }
      ],
      "source": [
        "\n",
        "# TODO: Ejemplo Clase Estudiante con atributos y métodos para notas\n",
        "\n",
        "class Estudiante:\n",
        "  def __init__(self, nombre: str):\n",
        "    self.nombre = nombre\n",
        "    self.notas = []\n",
        "\n",
        "  def agregar_calificacion(self, calificacion: float) -> None:\n",
        "    # Validación: Nota entre 0.0 y 5.0\n",
        "    if 0.0 <= calificacion <= 5.0:\n",
        "      self.notas.append(calificacion)\n",
        "    else:\n",
        "      print(f\"Error: La calificación {calificacion} es inválida. Debe estar entre 0.0 y 5.0.\")\n",
        "\n",
        "  def obtener_promedio(self) -> float:\n",
        "    if not self.notas:\n",
        "      return 0.0\n",
        "    return sum(self.notas) / len(self.notas)\n",
        "\n",
        "maria = Estudiante(\"María Eugenia\")\n",
        "for calificacion in [4.5, 3.8, 5.0, 4.2, 5.2]:\n",
        "  maria.agregar_calificacion(calificacion)\n",
        "print(f\"El promedio de {maria.nombre} es: {maria.obtener_promedio():.2f}\")\n",
        "\n",
        "sebastian = Estudiante(\"Juan Sebastián\")\n",
        "for calificacion in [3.5, 4.0, 2.8]:\n",
        "  sebastian.agregar_calificacion(calificacion)\n",
        "print(f\"El promedio de {sebastian.nombre} es: {sebastian.obtener_promedio():.2f}\")"
      ]
    },
    {
      "cell_type": "markdown",
      "metadata": {},
      "source": [
        "## Tema 3: Encapsulamiento básico y convenciones\n",
        "\n",
        "### Definición\n",
        "El **encapsulamiento** busca ocultar detalles internos y exponer una interfaz clara. En Python no hay modificadores de acceso estrictos; se emplean **convenciones**:\n",
        "- Prefijo `_atributo`: indica uso interno (convención de \"protegido\").\n",
        "- Doble prefijo `__atributo`: activa *name mangling* para evitar colisiones de nombre en herencia.\n",
        "\n",
        "### Importancia en programación y analítica de datos\n",
        "- Evita manipulación directa de estados internos sensibles (por ejemplo, una caché de datos sin validar).\n",
        "- Facilita contratos estables entre componentes y reduce errores por uso indebido.\n",
        "\n",
        "### Buenas prácticas y errores comunes\n",
        "- **Buenas prácticas**:\n",
        "  - Exponer métodos públicos claros y documentados.\n",
        "  - Validar entradas en métodos que modifican el estado.\n",
        "  - Proveer representaciones útiles (`__repr__`) para depuración y trazabilidad.\n",
        "- **Errores comunes**:\n",
        "  - Modificar atributos internos desde fuera de la clase sin control.\n",
        "  - No validar entradas, causando estados inconsistentes.\n"
      ]
    },
    {
      "cell_type": "code",
      "execution_count": null,
      "metadata": {},
      "outputs": [
        {
          "name": "stdout",
          "output_type": "stream",
          "text": [
            "Cuenta creada para Ana María con saldo inicial de $1000.00\n",
            "Depósito de $200.00 realizado. Nuevo saldo: $1200.00\n",
            "Error: Fondos insuficientes para esta operación.\n",
            "-- Final de la Operación\n"
          ]
        }
      ],
      "source": [
        "\n",
        "# TODO: Ejemplo Encapsulamiento por convención y métodos públicos controlados\n",
        "class CuentaBancaria:\n",
        "  def __init__(self, titular: str, saldo_inicial: float = 0.0):\n",
        "    self.titular = titular\n",
        "    self._saldo = float(saldo_inicial)  # Atributo \"protegido\" por convención\n",
        "    print(f\"Cuenta creada para {self.titular} con saldo inicial de ${self._saldo:.2f}\")\n",
        "\n",
        "  def depositar(self, monto: float) -> None:\n",
        "    if monto > 0:\n",
        "      self._saldo += monto\n",
        "      print(f\"Depósito de ${monto:.2f} realizado. Nuevo saldo: ${self._saldo:.2f}\")\n",
        "    else:\n",
        "      raise ValueError(\"El monto a depositar debe ser positivo.\")\n",
        "\n",
        "  def retirar(self, monto: float) -> None:\n",
        "    if monto <= 0:\n",
        "      raise ValueError(\"El monto a retirar debe ser positivo.\")\n",
        "    if monto > self._saldo:\n",
        "      raise RuntimeError(\"Fondos insuficientes para esta operación.\")\n",
        "    self._saldo -= monto\n",
        "    print(f\"Retiro de ${monto:.2f} realizado. Nuevo saldo: ${self._saldo:.2f}\")\n",
        "\n",
        "\n",
        "davivienda = CuentaBancaria(\"Ana María\", 1000.0)\n",
        "try:\n",
        "  davivienda.depositar(200)\n",
        "  davivienda.retirar(1300)\n",
        "except ValueError as e:\n",
        "  print(f\"Error: {e}\")\n",
        "except RuntimeError as e:\n",
        "  print(f\"Error: {e}\")\n",
        "\n",
        "print(\"-- Final de la Operación\")"
      ]
    },
    {
      "cell_type": "markdown",
      "metadata": {},
      "source": [
        "## Tema 4: Métodos especiales (`__init__`, `__repr__`, `__str__`)\n",
        "\n",
        "### Definición\n",
        "Los **métodos especiales** permiten integrar las clases con el ecosistema de Python.\n",
        "- `__init__`: inicializa el estado del objeto.\n",
        "- `__repr__`: representación sin ambigüedades para depuración; idealmente ejecutable o informativa para desarrolladores.\n",
        "- `__str__`: representación legible para usuarios finales.\n",
        "\n",
        "### Importancia en programación y analítica de datos\n",
        "- Mejora trazabilidad en notebooks y logs al imprimir objetos intermedios de un pipeline.\n",
        "- Facilita depuración de modelos y estructuras de datos personalizadas.\n"
      ]
    },
    {
      "cell_type": "code",
      "execution_count": 28,
      "metadata": {},
      "outputs": [
        {
          "name": "stdout",
          "output_type": "stream",
          "text": [
            "Registro(id_registro=1, categoria='Temperatura', valor=23.5)\n",
            "[1] Temperatura: 23.5\n"
          ]
        }
      ],
      "source": [
        "\n",
        "# TODO: Ejemplo Representaciones útiles para inspección y logging\n",
        "\n",
        "class Registro:\n",
        "  def __init__(self, id_registro: int, categoria: str, valor: float):\n",
        "    self.id_registro = id_registro\n",
        "    self.categoria = categoria\n",
        "    self.valor = valor\n",
        "\n",
        "  def __repr__(self) -> str:\n",
        "    # Éste método está orientado al desarrollador: Sin ninguna ambiguedad.\n",
        "    return f\"Registro(id_registro={self.id_registro!r}, categoria={self.categoria!r}, valor={self.valor!r})\"\n",
        "\n",
        "  def __str__(self) -> str:\n",
        "    # Éste método está orientado al usuario final: Más amigable.\n",
        "    return f\"[{self.id_registro}] {self.categoria}: {self.valor}\"\n",
        "\n",
        "temperatura = Registro(1, \"Temperatura\", 23.5)\n",
        "print(repr(temperatura))\n",
        "print(str(temperatura))"
      ]
    },
    {
      "cell_type": "markdown",
      "metadata": {},
      "source": [
        "# Ejercicios integradores\n",
        "\n",
        "A continuación se presentan ejercicios que integran los conceptos de clases, objetos, atributos, métodos, encapsulamiento y métodos especiales. Cada ejercicio incluye contexto técnico, datos/entradas, requerimientos, criterios de aceptación y pistas. Tras cada enunciado se ofrece una **solución propuesta**.\n",
        "\n",
        "---\n",
        "\n",
        "## Ejercicio 1: Modelo de Lecturas de Sensores\n",
        "\n",
        "**Contexto técnico (2–4 líneas):**  \n",
        "Trabajas en un equipo que construye un pipeline de IoT para monitorear variables ambientales en una sala de servidores. Debes modelar un sensor que registre medidas con su categoría (ej. temperatura/humedad) y un valor numérico.\n",
        "\n",
        "**Datos/entradas:**  \n",
        "- ID de sensor entero, categoría en texto, valores flotantes.  \n",
        "- Crea 3 lecturas manualmente.\n",
        "\n",
        "**Requerimientos:**  \n",
        "- Implementar una clase `LecturaSensor` con atributos `id_sensor`, `categoria`, `valor`.  \n",
        "- Añadir un método `is_critica(umbral: float)` que devuelva `True` si `valor` supera el umbral.  \n",
        "- Implementar `__repr__` y `__str__` útiles.\n",
        "\n",
        "**Criterios de aceptación:**  \n",
        "- La llamada a `is_critica(umbral)` funciona correctamente con distintos umbrales.  \n",
        "- `print(objeto)` muestra una cadena útil para usuarios y `repr(objeto)` es informativa para desarrolladores.\n",
        "\n",
        "**Pistas:**  \n",
        "- Usar `__init__` para inicializar el estado.  \n",
        "- `__repr__` debería incluir nombres y valores de atributos.\n",
        "\n",
        "### Solución propuesta\n"
      ]
    },
    {
      "cell_type": "code",
      "execution_count": null,
      "metadata": {},
      "outputs": [],
      "source": [
        "\n",
        "# TODO: Solución 1"
      ]
    },
    {
      "cell_type": "markdown",
      "metadata": {},
      "source": [
        "---\n",
        "\n",
        "## Ejercicio 2: Cartera Simple con Control de Operaciones\n",
        "\n",
        "**Contexto técnico (2–4 líneas):**  \n",
        "Debes prototipar una **cartera** para registrar depósitos y retiros de un usuario. El estado no debe quedar inconsistente, y las operaciones deben validarse antes de aplicarse.\n",
        "\n",
        "**Datos/entradas:**  \n",
        "- Titular en texto, movimientos como números positivos.  \n",
        "- Secuencia de pruebas: depósito 200, retiro 50, retiro 300 (debe fallar).\n",
        "\n",
        "**Requerimientos:**  \n",
        "- Clase `Cartera` con atributo interno `_saldo`.  \n",
        "- Métodos `depositar(monto)` y `retirar(monto)` con validaciones.  \n",
        "- Método `__str__` que muestre el saldo vigente.\n",
        "\n",
        "**Criterios de aceptación:**  \n",
        "- Retiros no pueden exceder el saldo; lanzar excepción.  \n",
        "- El saldo final coincide con las operaciones válidas.\n",
        "\n",
        "**Pistas:**  \n",
        "- Reutiliza las ideas de encapsulamiento por convención (`_saldo`).  \n",
        "- Usa excepciones para los casos inválidos.\n",
        "\n",
        "### Solución propuesta\n"
      ]
    },
    {
      "cell_type": "code",
      "execution_count": null,
      "metadata": {},
      "outputs": [],
      "source": [
        "\n",
        "# TODO: Solución 2"
      ]
    },
    {
      "cell_type": "markdown",
      "metadata": {},
      "source": [
        "---\n",
        "\n",
        "## Ejercicio 3: Registro de Estudiantes con Cálculo de Promedio\n",
        "\n",
        "**Contexto técnico (2–4 líneas):**  \n",
        "Necesitas una estructura para gestionar estudiantes y sus calificaciones en un pequeño sistema académico. Requieres calcular el promedio y mostrar la información de manera clara.\n",
        "\n",
        "**Datos/entradas:**  \n",
        "- Crea 2 estudiantes con 3 notas cada uno (rango 0.0–5.0).\n",
        "\n",
        "**Requerimientos:**  \n",
        "- Clase `Estudiante` con `nombre` y `notas`.  \n",
        "- Métodos `agregar_nota(nota)` con validación y `promedio()`.  \n",
        "- `__repr__` para depurar y `__str__` para presentar resultados.\n",
        "\n",
        "**Criterios de aceptación:**  \n",
        "- Promedios correctos con redondeo a dos decimales.  \n",
        "- No se aceptan notas fuera del rango establecido.\n",
        "\n",
        "**Pistas:**  \n",
        "- Usa sumatorias y manejo de listas.  \n",
        "- Maneja excepciones con `try/except` al agregar notas inválidas.\n",
        "\n",
        "### Solución propuesta\n"
      ]
    },
    {
      "cell_type": "code",
      "execution_count": null,
      "metadata": {},
      "outputs": [],
      "source": [
        "\n",
        "# TODO: Solución 3"
      ]
    },
    {
      "cell_type": "markdown",
      "metadata": {},
      "source": [
        "---\n",
        "\n",
        "## Ejercicio 4 (opcional): Catálogo de Productos con Representación Clara\n",
        "\n",
        "**Contexto técnico (2–4 líneas):**  \n",
        "En un script de análisis de inventario, requieres objetos `Producto` que se impriman limpiamente en informes y logs, y que permitan calcular un valor total por cantidad.\n",
        "\n",
        "**Datos/entradas:**  \n",
        "- Crea 3 productos con `nombre`, `precio_unitario` y `cantidad`.\n",
        "\n",
        "**Requerimientos:**  \n",
        "- Clase `Producto` con `__repr__` y `__str__`.  \n",
        "- Método `valor_total()` que retorne `precio_unitario * cantidad`.\n",
        "\n",
        "**Criterios de aceptación:**  \n",
        "- Representaciones claras (desarrollador vs usuario).  \n",
        "- Cálculo correcto de valores totales.\n",
        "\n",
        "**Pistas:**  \n",
        "- Asegura tipos numéricos apropiados para precios y cantidades.\n",
        "- Formatea con dos decimales.\n",
        "\n",
        "### Solución propuesta\n"
      ]
    },
    {
      "cell_type": "code",
      "execution_count": null,
      "metadata": {},
      "outputs": [],
      "source": [
        "\n",
        "# TODO: Solución 4"
      ]
    }
  ],
  "metadata": {
    "authors": [
      "Jhon Erik Navarrete Gómez"
    ],
    "created": "2025-09-16T12:26:54+00:00",
    "description": "Bloque introductorio a la Programación Orientada a Objetos en Python. Se abordan clases, objetos, atributos, métodos, encapsulamiento básico y métodos especiales, con enfoque pedagógico y aplicado a analítica de datos.",
    "kernelspec": {
      "display_name": "Python (python-course)",
      "language": "python",
      "name": "python-course"
    },
    "language_info": {
      "codemirror_mode": {
        "name": "ipython",
        "version": 3
      },
      "file_extension": ".py",
      "mimetype": "text/x-python",
      "name": "python",
      "nbconvert_exporter": "python",
      "pygments_lexer": "ipython3",
      "version": "3.12.8"
    }
  },
  "nbformat": 4,
  "nbformat_minor": 5
}
