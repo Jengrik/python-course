{
  "cells": [
    {
      "cell_type": "markdown",
      "metadata": {},
      "source": [
        "# Bloque 1 — Estructuras de Datos en Python\n",
        "**Curso:** Fundamentos de Programación y Analítica de Datos con Python  \n",
        "**Duración estimada del bloque:** 2 horas\n",
        "\n",
        "## Objetivos específicos\n",
        "- Identificar y describir las características formales de listas, tuplas, diccionarios y conjuntos.\n",
        "- Manipular estructuras de datos nativas mediante operaciones básicas (inserción, eliminación, actualización, consulta).\n",
        "- Seleccionar la estructura de datos adecuada según el caso de uso (orden, mutabilidad, unicidad, acceso por clave).\n",
        "- Implementar ejemplos funcionales y pedagógicos que demuestren comprensión de los conceptos.\n",
        "- Reconocer errores comunes y aplicar buenas prácticas de uso en código Python.\n",
        "\n",
        "## Prerrequisitos\n",
        "- Conocimientos básicos de sintaxis de Python (variables, tipos primitivos, operaciones aritméticas y lógicas, `print`).\n",
        "- Entorno configurado con Python ≥ 3.11, preferiblemente 3.12.x, y Jupyter/VSCode.\n"
      ]
    },
    {
      "cell_type": "markdown",
      "metadata": {},
      "source": [
        "## Tema 1 — Listas (`list`)\n",
        "\n",
        "### Definición\n",
        "Una **lista** es una secuencia **ordenada** y **mutable** de elementos. Permite contener valores heterogéneos y soporta operaciones de inserción, eliminación, actualización y recorrido por índice.\n",
        "\n",
        "### Importancia en programación y analítica de datos\n",
        "- Estructura base para colecciones secuenciales, ideal para **acumular resultados**, **recorrer registros** y **aplicar transformaciones**.\n",
        "- Frecuente en ETL/ELT: lectura de filas, preprocesamiento y carga hacia estructuras tabulares (antes de Pandas).\n",
        "- Sirve como puente hacia estructuras de mayor nivel (p. ej., convertir listas de diccionarios a `DataFrame`).\n",
        "\n",
        "### Buenas prácticas y errores comunes\n",
        "- **Buenas prácticas:**\n",
        "  - Usar **comprensiones de listas** para transformaciones claras y concisas.\n",
        "  - Preferir **métodos específicos** (`append`, `extend`, `insert`, `remove`) para operaciones controladas.\n",
        "  - Documentar el **invariante** (qué tipo de elementos esperamos).\n",
        "- **Errores comunes:**\n",
        "  - Modificar una lista mientras se itera sobre ella (puede omitir elementos). En su lugar, crear una nueva lista filtrada.\n",
        "  - Usar `+` repetidamente en bucles grandes (coste acumulado). Considerar `extend` o comprensiones.\n"
      ]
    },
    {
      "cell_type": "code",
      "execution_count": 22,
      "metadata": {},
      "outputs": [
        {
          "name": "stdout",
          "output_type": "stream",
          "text": [
            "Lista Inicial:  ['manzana', 'banana', 'cereza']\n",
            "Después de append:  ['manzana', 'banana', 'cereza', 'naranja']\n",
            "Después de extend:  ['manzana', 'banana', 'cereza', 'naranja', 'kiwi', 'mango']\n",
            "Elemento en índice 2:  cereza\n",
            "Después de actualizar índice 2:  ['manzana', 'banana', 'fresa', 'naranja', 'kiwi', 'mango']\n",
            "Después de insert:  ['manzana', 'pera', 'banana', 'fresa', 'naranja', 'kiwi', 'mango']\n",
            "Después de remove:  ['manzana', 'pera', 'fresa', 'naranja', 'kiwi', 'mango']\n",
            "Después de pop:  ['manzana', 'pera', 'fresa', 'naranja', 'kiwi']\n",
            "Rebanado frutas[1:4]:  ['pera', 'fresa', 'naranja']\n",
            "Rebanado frutas[2:]:  ['fresa', 'naranja', 'kiwi']\n",
            "Rebanado frutas[:2]:  ['manzana', 'pera', 'fresa']\n",
            "Longitudes de las frutas:  [7, 4, 5, 7, 4]\n",
            "Frutas sin 'a':  ['kiwi']\n"
          ]
        }
      ],
      "source": [
        "\n",
        "# TODO: Ejemplo de Listas\n",
        "frutas = [\"manzana\", \"banana\", \"cereza\"]\n",
        "print(\"Lista Inicial: \", frutas)\n",
        "\n",
        "# Agregar Elementos\n",
        "frutas.append(\"naranja\")\n",
        "print(\"Después de append: \", frutas)\n",
        "frutas.extend([\"kiwi\", \"mango\"])\n",
        "print(\"Después de extend: \", frutas)\n",
        "\n",
        "# Acceso y la actualización por índice\n",
        "print(\"Elemento en índice 2: \", frutas[2])\n",
        "frutas[2] = \"fresa\"\n",
        "print(\"Después de actualizar índice 2: \", frutas)\n",
        "\n",
        "# Inserción y Eliminación de Elementos\n",
        "frutas.insert(1, \"pera\")\n",
        "print(\"Después de insert: \", frutas)\n",
        "frutas.remove(\"banana\")\n",
        "print(\"Después de remove: \", frutas)\n",
        "frutas.pop()\n",
        "print(\"Después de pop: \", frutas)\n",
        "\n",
        "# Rebanando (Slicing)\n",
        "print(\"Rebanado frutas[1:4]: \", frutas[1:4])\n",
        "print(\"Rebanado frutas[2:]: \", frutas[2:])\n",
        "print(\"Rebanado frutas[:2]: \", frutas[:3])\n",
        "\n",
        "# Comprensión de Listas\n",
        "#* .map -> Transformación de Listas, elemento a elemento\n",
        "longitudes = [len(fruta) for fruta in frutas]\n",
        "print(\"Longitudes de las frutas: \", longitudes)\n",
        "#* .filter -> Filtrado de Listas, según una condición\n",
        "frutas_sin_a = [fruta for fruta in frutas if \"a\" not in fruta]\n",
        "print(\"Frutas sin 'a': \", frutas_sin_a)"
      ]
    },
    {
      "cell_type": "code",
      "execution_count": 47,
      "id": "50e1bb18",
      "metadata": {},
      "outputs": [
        {
          "name": "stdout",
          "output_type": "stream",
          "text": [
            "Arreglo de Números:  ['3', '7', '2', '4']\n"
          ]
        }
      ],
      "source": [
        "import re\n",
        "\n",
        "codigos = [\"at\", \"bt003\", \"ct007\", \"dt-02\", \"et004\"]\n",
        "patron = re.compile(r\"\\d$\")\n",
        "\n",
        "numeros = [m.group(0) for codigo in codigos if (m := patron.search(codigo))]\n",
        "print(\"Arreglo de Números: \", numeros)"
      ]
    },
    {
      "cell_type": "markdown",
      "metadata": {},
      "source": [
        "## Tema 2 — Tuplas (`tuple`)\n",
        "\n",
        "### Definición\n",
        "Una **tupla** es una secuencia **ordenada** e **inmutable**. Tras su creación, sus elementos no pueden modificarse. Es adecuada para representar **registros** o **coordenadas** con estructura fija.\n",
        "\n",
        "### Importancia en programación y analítica de datos\n",
        "- Útiles para **empaquetar/desempaquetar** valores y para **claves** en estructuras como **diccionarios**.\n",
        "- Su inmutabilidad puede servir como **contrato**: indica que un conjunto de valores no cambiará.\n",
        "\n",
        "### Buenas prácticas y errores comunes\n",
        "- **Buenas prácticas:** usar tuplas para datos **posicionales** y de **longitud fija**; nombrar las variables al desempaquetar para claridad.\n",
        "- **Errores comunes:** forzar la tupla donde se requiere mutabilidad; en ese caso, una lista es más apropiada.\n"
      ]
    },
    {
      "cell_type": "code",
      "execution_count": 53,
      "metadata": {},
      "outputs": [
        {
          "name": "stdout",
          "output_type": "stream",
          "text": [
            "Coordenada Inicial:  (10.5, 20.7)\n",
            "Latitud:  10.5 Longitud:  20.7\n",
            "Mínimo:  1 Máximo:  12\n",
            "Mediciones:  {(2025, 9, 18): {'temperatura': 22.5, 'humedad': 60}}\n"
          ]
        }
      ],
      "source": [
        "\n",
        "# TODO: Ejemplo de Tuplas\n",
        "# Latitud y Longitud\n",
        "coordenada = (10.5, 20.7)\n",
        "print(\"Coordenada Inicial: \", coordenada)\n",
        "\n",
        "# Desempaquetado\n",
        "lat, lon = coordenada\n",
        "print (\"Latitud: \", lat, \"Longitud: \", lon)\n",
        "\n",
        "# Tuplas como Retorno Multiple\n",
        "def min_max(valores):\n",
        "    return (min(valores), max(valores))\n",
        "\n",
        "minimo, maximo = min_max([3, 1, 4, 1, 12, 9])\n",
        "print(\"Mínimo: \", minimo, \"Máximo: \", maximo)\n",
        "\n",
        "# Tupla como clave de diccionario\n",
        "mediciones = {}\n",
        "mediciones[(2025, 9, 18)] = {\"temperatura\": 22.5, \"humedad\": 60}\n",
        "print(\"Mediciones: \", mediciones)"
      ]
    },
    {
      "cell_type": "markdown",
      "metadata": {},
      "source": [
        "## Tema 3 — Diccionarios (`dict`)\n",
        "\n",
        "### Definición\n",
        "Un **diccionario** es una colección de **pares clave–valor**, no ordenada en versiones antiguas y de **inserción ordenada** desde Python 3.7+. Las claves deben ser **hashables** (inmutables o con un `__hash__` estable).\n",
        "\n",
        "### Importancia en programación y analítica de datos\n",
        "- Base para estructuras estilo **JSON** y para **configuración**.\n",
        "- Facilita accesos directos por clave y modelado de **registros** o **entidades**.\n",
        "\n",
        "### Buenas prácticas y errores comunes\n",
        "- **Buenas prácticas:** usar `get` con valores por defecto; `dict`/`update` para fusiones controladas; **comprensiones** para transformar.\n",
        "- **Errores comunes:** asumir la existencia de una clave sin validarla; usar claves mutables (p. ej., listas).\n"
      ]
    },
    {
      "cell_type": "code",
      "execution_count": 68,
      "metadata": {},
      "outputs": [
        {
          "name": "stdout",
          "output_type": "stream",
          "text": [
            "Diccionario Inicial:  {'nombre': 'Juan', 'edad': 30, 'ciudad': 'Madrid', 'profesion': 'Ingeniero'}\n",
            "Nombre:  Juan\n",
            "Diccionario Actualizado:  {'nombre': 'Juan', 'edad': 30, 'ciudad': 'Madrid', 'profesion': 'Ingeniero', 'RH': 'O+'}\n",
            "Después de actualizar edad:  {'nombre': 'Juan', 'edad': 25, 'ciudad': 'Madrid', 'profesion': 'Ingeniero', 'RH': 'O+'}\n",
            "Después de eliminar ciudad:  {'nombre': 'Juan', 'edad': 25, 'profesion': 'Ingeniero', 'RH': 'O+'}\n",
            "NOMBRE: Juan\n",
            "EDAD: 25\n",
            "PROFESION: Ingeniero\n",
            "RH: O+\n",
            "Precios Iniciales:  {'manzana': 0.5, 'banana': 0.3, 'cereza': 0.2}\n",
            "Precios con impuesto:  {'manzana': 0.55, 'banana': 0.33, 'cereza': 0.22000000000000003}\n",
            "Datos Iniciales:  {'nombres': ['Ana', 'Luis', 'Carlos'], 'edades': [28, 34, 22]}\n",
            "Filas:  [{'nombres': 'Ana', 'edades': 28}, {'nombres': 'Luis', 'edades': 34}, {'nombres': 'Carlos', 'edades': 22}]\n"
          ]
        }
      ],
      "source": [
        "\n",
        "# TODO: Ejemplo de Diccionarios\n",
        "persona = {\"nombre\": \"Juan\", \"edad\": 30, \"ciudad\": \"Madrid\", \"profesion\": \"Ingeniero\"}\n",
        "print(\"Diccionario Inicial: \", persona)\n",
        "\n",
        "# Acceso Seguro\n",
        "print(\"Nombre: \", persona.get(\"nombre\", \"NN\"))\n",
        "\n",
        "# Inserción y Actualización\n",
        "persona[\"RH\"] = \"O+\"\n",
        "print(\"Diccionario Actualizado: \", persona)\n",
        "persona.update({\"edad\": 25})\n",
        "print(\"Después de actualizar edad: \", persona)\n",
        "\n",
        "# Eliminación de Elementos\n",
        "del persona[\"ciudad\"]\n",
        "print(\"Después de eliminar ciudad: \", persona)\n",
        "\n",
        "# Iteración sobre Claves y Valores\n",
        "for clave, valor in persona.items():\n",
        "  print(f\"{clave.upper()}: {valor}\")\n",
        "\n",
        "# Comprensión de Diccionarios\n",
        "precios = {\"manzana\": 0.5, \"banana\": 0.3, \"cereza\": 0.2}\n",
        "print(\"Precios Iniciales: \", precios)\n",
        "precios_con_impuesto = {k: v * 1.1 for k, v in precios.items()}\n",
        "print(\"Precios con impuesto: \", precios_con_impuesto)\n",
        "\n",
        "# Diccionarios de Listas\n",
        "datos = {\"nombres\": [\"Ana\", \"Luis\", \"Carlos\"], \"edades\": [28, 34, 22]}\n",
        "print(\"Datos Iniciales: \", datos)\n",
        "filas = [dict(zip(datos.keys(), valores)) for valores in zip(*datos.values())]\n",
        "print(\"Filas: \", filas)\n"
      ]
    },
    {
      "cell_type": "markdown",
      "metadata": {},
      "source": [
        "## Tema 4 — Conjuntos (`set` y `frozenset`)\n",
        "\n",
        "### Definición\n",
        "Un **conjunto** es una colección **no ordenada** de elementos **únicos**. `set` es mutable y `frozenset` es inmutable (hashable).\n",
        "\n",
        "### Importancia en programación y analítica de datos\n",
        "- Eliminación de **duplicados**, operaciones de **teoría de conjuntos** (unión, intersección, diferencia).\n",
        "- Chequeos de pertenencia eficientes y deduplicación previa a análisis o uniones tabulares.\n",
        "\n",
        "### Buenas prácticas y errores comunes\n",
        "- **Buenas prácticas:** convertir listas a `set` para eliminar duplicados; usar operaciones de conjuntos para filtros rápidos.\n",
        "- **Errores comunes:** asumir orden o indexación; si se necesita orden estable, considerar `list(dict.fromkeys(seq))` para deduplicar preservando orden.\n"
      ]
    },
    {
      "cell_type": "code",
      "execution_count": 76,
      "metadata": {},
      "outputs": [
        {
          "name": "stdout",
          "output_type": "stream",
          "text": [
            "Conjunto a:  {1, 2, 3}\n",
            "Conjunto b:  {3, 4, 5}\n",
            "Unión:  {1, 2, 3, 4, 5}\n",
            "Intersección:  {3}\n",
            "Diferencia:  {1, 2}\n",
            "Diferencia Simétrica:  {1, 2, 4, 5}\n",
            "Lista Original:  ['C', 'A', 'B', 'A', 'C', 'B']\n",
            "Lista Sin-Duplicados manteniendo el orden:  ['C', 'A', 'B']\n",
            "Tabla con frozenset como clave:  {frozenset({'x', 'y'}): 'Par XY'}\n"
          ]
        }
      ],
      "source": [
        "\n",
        "# TODO: Ejemplo de Conjuntos\n",
        "a = {1, 2, 3, 3, 2}\n",
        "b = {3, 4, 5}\n",
        "print(\"Conjunto a: \", a)\n",
        "print(\"Conjunto b: \", b)\n",
        "\n",
        "# Operaciones de Conjuntos\n",
        "print(\"Unión: \", a | b)\n",
        "print(\"Intersección: \", a & b)\n",
        "print(\"Diferencia: \", a - b)\n",
        "print(\"Diferencia Simétrica: \", a ^ b)\n",
        "\n",
        "# Pertenencia y Deduplicación manteniendo el orden\n",
        "lista = [ \"C\", \"A\", \"B\", \"A\", \"C\", \"B\" ]\n",
        "dedup_orden = list(dict.fromkeys(lista))\n",
        "print(\"Lista Original: \", lista)\n",
        "print(\"Lista Sin-Duplicados manteniendo el orden: \", dedup_orden)\n",
        "\n",
        "# Frozenset (Conjunto Inmutable)\n",
        "fs = frozenset({\"x\", \"y\"})\n",
        "tabla = {fs: \"Par XY\"}\n",
        "print(\"Tabla con frozenset como clave: \", tabla)"
      ]
    },
    {
      "cell_type": "markdown",
      "metadata": {},
      "source": [
        "# Ejercicios Integradores\n",
        "\n",
        "A continuación, se presentan ejercicios que integran **listas, tuplas, diccionarios y conjuntos**. Cada ejercicio incluye contexto, datos/entradas, requerimientos, criterios de aceptación y pistas.\n"
      ]
    },
    {
      "cell_type": "markdown",
      "metadata": {},
      "source": [
        "## Ejercicio 1 — Catálogo de productos único\n",
        "\n",
        "**Contexto técnico:** Eres parte de un equipo de analítica que necesita consolidar un catálogo de productos sin duplicados para preparar un análisis de ventas. Debes deduplicar códigos y preparar una estructura limpia para exportación.\n",
        "\n",
        "**Datos/entradas:**  \n",
        "- Lista de códigos con repetidos: `[\"A1\", \"B2\", \"A1\", \"C3\", \"B2\", \"D4\"]`  \n",
        "- Lista paralela de precios: `[100, 80, 100, 120, 80, 150]` (alineada por índice)\n",
        "\n",
        "**Requerimientos:**  \n",
        "1. Deduplicar los códigos preservando el primer precio visto.  \n",
        "2. Construir una lista de diccionarios con claves `codigo` y `precio`.  \n",
        "3. Calcular el conjunto de códigos únicos y su cardinalidad.\n",
        "\n",
        "**Criterios de aceptación:**  \n",
        "- La lista final no contiene repeticiones y mantiene el primer precio observado para cada código.  \n",
        "- El conteo de únicos coincide con el tamaño del conjunto.  \n",
        "\n",
        "**Pistas:**  \n",
        "- Considera `dict.fromkeys` para preservar orden sin duplicados o un bucle que acumule vistos.  \n",
        "- Puedes usar `zip` para iterar en paralelo.\n"
      ]
    },
    {
      "cell_type": "code",
      "execution_count": null,
      "metadata": {},
      "outputs": [],
      "source": [
        "\n",
        "# TODO: Solución propuesta Ejercicio 1"
      ]
    },
    {
      "cell_type": "markdown",
      "metadata": {},
      "source": [
        "## Ejercicio 2 — Geolocalización con tuplas\n",
        "\n",
        "**Contexto técnico:** Te asignan normalizar ubicaciones capturadas por un sensor que devuelve pares `(lat, lon)`. Debes validar y transformar datos para un módulo de mapas.\n",
        "\n",
        "**Datos/entradas:**  \n",
        "- Lista de tuplas: `[(4.65, -74.05), (999, 20.0), (48.85, 2.35)]`\n",
        "\n",
        "**Requerimientos:**  \n",
        "1. Filtrar tuplas inválidas: latitud debe estar en [-90, 90], longitud en [-180, 180].  \n",
        "2. Construir un diccionario con claves `\"validas\"` y `\"invalidas\"` mapeando a listas de tuplas.  \n",
        "3. Obtener, a partir de las válidas, una lista de latitudes y otra de longitudes.\n",
        "\n",
        "**Criterios de aceptación:**  \n",
        "- Solo se consideran válidas las tuplas dentro de los rangos indicados.  \n",
        "- Las listas de latitudes/longitudes conservan el orden de aparición.\n",
        "\n",
        "**Pistas:**  \n",
        "- Usa **desempaquetado** de tuplas y condiciones lógicas.  \n",
        "- Considera comprensiones de listas para las proyecciones de lat/lon.\n"
      ]
    },
    {
      "cell_type": "code",
      "execution_count": 77,
      "metadata": {},
      "outputs": [
        {
          "name": "stdout",
          "output_type": "stream",
          "text": [
            "Resultado: {'validas': [(4.65, -74.05), (48.85, 2.35)], 'invalidas': [(999, 20.0)]}\n",
            "Latitudes: [4.65, 48.85]\n",
            "Longitudes: [-74.05, 2.35]\n"
          ]
        }
      ],
      "source": [
        "\n",
        "# TODO: Solución propuesta Ejercicio 2\n",
        "# Solución propuesta Ejercicio 2\n",
        "puntos = [(4.65, -74.05), (999, 20.0), (48.85, 2.35)]\n",
        "\n",
        "validas, invalidas = [], []\n",
        "for lat, lon in puntos:\n",
        "    if -90 <= lat <= 90 and -180 <= lon <= 180:\n",
        "        validas.append((lat, lon))\n",
        "    else:\n",
        "        invalidas.append((lat, lon))\n",
        "\n",
        "resultado = {\"validas\": validas, \"invalidas\": invalidas}\n",
        "lats = [lat for lat, _ in validas]\n",
        "lons = [lon for _, lon in validas]\n",
        "\n",
        "print(\"Resultado:\", resultado)\n",
        "print(\"Latitudes:\", lats)\n",
        "print(\"Longitudes:\", lons)"
      ]
    },
    {
      "cell_type": "markdown",
      "metadata": {},
      "source": [
        "## Ejercicio 3 — Panel mínimo de estudiantes\n",
        "\n",
        "**Contexto técnico:** Como analista académico, necesitas construir una estructura para un panel simple que consolide información de estudiantes y métricas derivadas para un reporte rápido.\n",
        "\n",
        "**Datos/entradas:**  \n",
        "- Lista de nombres: `[\"Ana\", \"Luis\", \"Marta\", \"Ana\"]`  \n",
        "- Lista de edades: `[21, 23, 22, 21]`\n",
        "\n",
        "**Requerimientos:**  \n",
        "1. Crear una lista de **diccionarios** con claves `nombre` y `edad`, preservando el orden.  \n",
        "2. Construir un **conjunto** de nombres únicos para dimensionar el universo.  \n",
        "3. Calcular la **edad promedio** y la **edad máxima**.\n",
        "\n",
        "**Criterios de aceptación:**  \n",
        "- La estructura por filas está alineada por índice correctamente.  \n",
        "- Los nombres únicos se calculan con `set` y corresponden con lo esperado.  \n",
        "- Las métricas se calculan con precisión (usar `round` si es necesario).\n",
        "\n",
        "**Pistas:**  \n",
        "- Usa `zip` y `dict` para normalizar filas.  \n",
        "- Considera `sum`/`len` para el promedio y `max` para el valor máximo.\n"
      ]
    },
    {
      "cell_type": "code",
      "execution_count": null,
      "metadata": {},
      "outputs": [],
      "source": [
        "\n",
        "# TODO: Solución propuesta Ejercicio 3"
      ]
    },
    {
      "cell_type": "markdown",
      "metadata": {},
      "source": [
        "## Ejercicio 4 — Normalización de etiquetas para un pipeline\n",
        "\n",
        "**Contexto técnico:** En un pipeline de clasificación de texto, recibes etiquetas ruidosas con repetidos y mayúsculas/minúsculas mezcladas. Necesitas normalizarlas para construir un vocabulario base.\n",
        "\n",
        "**Datos/entradas:**  \n",
        "- Lista de etiquetas: `[\"Spam\", \"spam\", \"Ham\", \"SPAM\", \"ham\", \"Spam\"]`\n",
        "\n",
        "**Requerimientos:**  \n",
        "1. Normalizar a minúsculas y deduplicar preservando el orden de primera aparición.  \n",
        "2. Construir un **diccionario** con:\n",
        "   - `\"vocabulario\"` → lista de etiquetas normalizadas únicas.\n",
        "   - `\"indice\"` → diccionario que mapea etiqueta → índice (posición en vocabulario).\n",
        "3. Validar pertenencia con un **conjunto** auxiliar para O(1) promedio.\n",
        "\n",
        "**Criterios de aceptación:**  \n",
        "- `vocabulario` queda como `[\"spam\", \"ham\"]`.  \n",
        "- `indice` debe ser `{\"spam\": 0, \"ham\": 1}`.\n",
        "\n",
        "**Pistas:**  \n",
        "- Considera `str.lower`, `dict.fromkeys` y comprensiones.  \n",
        "- El conjunto puede ayudar a verificar si ya has visto una etiqueta.\n"
      ]
    },
    {
      "cell_type": "code",
      "execution_count": null,
      "metadata": {},
      "outputs": [],
      "source": [
        "\n",
        "# TODO: Solución propuesta Ejercicio 4"
      ]
    }
  ],
  "metadata": {
    "authors": [
      {
        "name": "Equipo de Instrucción – Curso Fundamentos de Programación y Analítica de Datos con Python"
      }
    ],
    "created": "2025-09-16T10:48:56Z",
    "description": "Bloque 1: Estructuras de Datos en Python. Introducción formal a listas, tuplas, diccionarios y conjuntos, con énfasis en su importancia práctica para programación y analítica de datos.",
    "kernelspec": {
      "display_name": "Python (python-course)",
      "language": "python",
      "name": "python-course"
    },
    "language_info": {
      "codemirror_mode": {
        "name": "ipython",
        "version": 3
      },
      "file_extension": ".py",
      "mimetype": "text/x-python",
      "name": "python",
      "nbconvert_exporter": "python",
      "pygments_lexer": "ipython3",
      "version": "3.12.8"
    }
  },
  "nbformat": 4,
  "nbformat_minor": 5
}
