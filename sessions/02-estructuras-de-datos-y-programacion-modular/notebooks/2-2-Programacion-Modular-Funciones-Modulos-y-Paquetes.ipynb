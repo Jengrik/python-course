{
 "cells": [
  {
   "cell_type": "markdown",
   "id": "d05b076b",
   "metadata": {},
   "source": [
    "\n",
    "# Programación Modular: Funciones, Módulos y Paquetes\n",
    "\n",
    "**Curso:** Fundamentos de Programación y Analítica de Datos con Python  \n",
    "**Duración estimada del bloque:** 2 horas\n",
    "\n",
    "## Objetivos específicos\n",
    "- Diseñar y utilizar funciones puras con parámetros y retorno, aplicando tipado opcional y documentación mínima.\n",
    "- Diferenciar el alcance de variables (LEGB) y aplicar correctamente `global` y `nonlocal` cuando corresponda.\n",
    "- Crear y reutilizar módulos con `import`, alias, `from ... import ...` y el patrón `if __name__ == \"__main__\":`.\n",
    "- Estructurar paquetes con `__init__.py`, importaciones absolutas/relativas y organización básica por responsabilidades.\n",
    "\n",
    "## Prerrequisitos\n",
    "- Fundamentos de Python: tipos básicos, operaciones aritméticas y control de flujo.\n",
    "- Conocimientos mínimos de entorno: uso de editor (VSCode), ejecución de scripts y notebooks.\n"
   ]
  },
  {
   "cell_type": "markdown",
   "id": "b8786520",
   "metadata": {},
   "source": [
    "\n",
    "## Tema 1: Funciones\n",
    "\n",
    "### Definición\n",
    "Una función es una unidad modular de código que encapsula una operación específica y puede recibir **parámetros** y retornar **resultados**. En Python se declara típicamente con `def` y puede incluir **anotaciones de tipo** y **docstrings**.\n",
    "\n",
    "### Importancia en programación y analítica de datos\n",
    "- Favorecen la **reutilización** y la **composición** de soluciones.\n",
    "- Permiten separar **cálculo** de **E/S**, facilitando pruebas unitarias y mantenimiento.\n",
    "- En analítica, ayudan a crear **pipelines** de transformación y validación de datos.\n",
    "- Disminuyen la duplicación y mejoran la **legibilidad** y la **trazabilidad**.\n",
    "\n",
    "### Buenas prácticas profesionales y errores comunes\n",
    "- Preferir **funciones puras** (sin efectos secundarios) para facilitar pruebas y razonamiento.\n",
    "- Escribir **docstrings** concisos que describan propósito, parámetros y retorno.\n",
    "- Evitar **parámetros con valores mutables** por defecto (usar `None` y asignar dentro).\n",
    "- Usar **anotaciones de tipo** y nombres descriptivos.\n",
    "- Error común: mezclar **lógica** con **E/S** dentro de la misma función.\n"
   ]
  },
  {
   "cell_type": "code",
   "execution_count": 8,
   "id": "3489ff60",
   "metadata": {},
   "outputs": [
    {
     "name": "stdout",
     "output_type": "stream",
     "text": [
      "La suma de las posiciones es 15\n",
      "La cantidad de elementos es 5\n",
      "La media de [1, 2, 3, 4, 5] es 3.0\n",
      "Aplicando un aumento del 10% a [1, 2, 3, 4, 5] obtenemos [1.1, 2.2, 3.3000000000000003, 4.4, 5.5]\n"
     ]
    }
   ],
   "source": [
    "\n",
    "# TODO: Ejemplo: funciones con parámetros, retorno, tipos y docstring\n",
    "from __future__ import annotations\n",
    "from typing import Optional, Iterable, Callable\n",
    "\n",
    "def media(numeros: Iterable[float]) -> float:\n",
    "  \"\"\"Calcula la media aritmética de una lista de números.\n",
    "\n",
    "  :param numeros: Una lista o iterable de números (int o float).\n",
    "  :return: La media aritmética de los números.\n",
    "  :raises ValueError: Si la lista está vacía.\n",
    "  \"\"\"\n",
    "  lista = list(numeros)\n",
    "  if not lista:\n",
    "    raise ValueError(\"La lista no puede estar vacía.\")\n",
    "\n",
    "  print(f\"La suma de las posiciones es {sum(lista)}\")\n",
    "  print(f\"La cantidad de elementos es {len(lista)}\")\n",
    "  return sum(lista)/len(lista)\n",
    "\n",
    "def aplicar(f: Callable[[float], float], valores: Iterable[float]) -> list[float]:\n",
    "  \"\"\"Aplica una función a cada elemento de un iterable y devuelve una lista con los resultados.\"\"\"\n",
    "  return [f(v) for v in valores]\n",
    "\n",
    "# Uso de la función: media\n",
    "datos = [1, 2, 3, 4, 5]\n",
    "resultado = media(datos)\n",
    "print(f\"La media de {datos} es {resultado}\")\n",
    "\n",
    "resultado = aplicar(lambda x: x*1.1, datos)\n",
    "print(f\"Aplicando un aumento del 10% a {datos} obtenemos {resultado}\")\n"
   ]
  },
  {
   "cell_type": "code",
   "execution_count": 14,
   "id": "bb634084",
   "metadata": {},
   "outputs": [
    {
     "name": "stdout",
     "output_type": "stream",
     "text": [
      "['manzana']\n",
      "['banano']\n"
     ]
    }
   ],
   "source": [
    "\n",
    "# TODO: Parámetros por defecto y el problema de los mutables\n",
    "from typing import List\n",
    "\n",
    "def agregar_item(item: str, acumulador: Optional[List[str]] = None) -> List[str]:\n",
    "  \"\"\"Acumula elementos en una lista nueva por invocación\"\"\"\n",
    "  if acumulador is None:\n",
    "    acumulador = []\n",
    "  acumulador.append(item)\n",
    "  return acumulador\n",
    "\n",
    "print(agregar_item(\"manzana\"))\n",
    "print(agregar_item(\"banano\"))"
   ]
  },
  {
   "cell_type": "markdown",
   "id": "d7716747",
   "metadata": {},
   "source": [
    "\n",
    "## Tema 2: Ámbito de variables y modelo LEGB\n",
    "\n",
    "### Definición\n",
    "El **ámbito** determina dónde una variable es visible y modificable. Python resuelve nombres siguiendo el modelo **LEGB**: Local, Enclosing, Global, Built-in.\n",
    "\n",
    "### Importancia en programación y analítica de datos\n",
    "- Controlar efectos secundarios y **estado** evita errores difíciles de rastrear.\n",
    "- Comprender **closures** y **`nonlocal`** habilita patrones funcionales y decoradores simples.\n",
    "- Manejar **`global`** con cautela; preferir parámetros/retornos o inyección de dependencias.\n",
    "\n",
    "### Buenas prácticas y errores comunes\n",
    "- Evitar modificar variables globales desde funciones; preferir retornos.\n",
    "- Usar **`nonlocal`** solo cuando se justifique en closures.\n",
    "- Error común: suponer que la asignación dentro de una función modifica el nombre externo.\n"
   ]
  },
  {
   "cell_type": "code",
   "execution_count": null,
   "id": "3e9d5cb5",
   "metadata": {},
   "outputs": [
    {
     "name": "stdout",
     "output_type": "stream",
     "text": [
      "Global x: 10\n",
      "Inner x: (25, 25)\n",
      "Global x después: 10\n",
      "Contador: 0 1 2\n"
     ]
    }
   ],
   "source": [
    "\n",
    "# TODO: Demostración LEGB, global y nonlocal\n",
    "x = 10 # Variable global\n",
    "\n",
    "def ejemplo_scope():\n",
    "  x = 20 # Local\n",
    "  def inner():\n",
    "    nonlocal x\n",
    "    x += 5 # Modifica la variable local de la función contenedora\n",
    "    return x\n",
    "  nueva_x = inner()\n",
    "  return x, nueva_x\n",
    "\n",
    "print(\"Global x:\", x)\n",
    "print(\"Inner x:\", ejemplo_scope())\n",
    "print(\"Global x después:\", x)\n",
    "\n",
    "# Uso de 'Global' - Utilizar sólo en casos excepcionales\n",
    "contador = 0 # Variable global\n",
    "\n",
    "def incrementar():\n",
    "  global contador\n",
    "  contador += 1\n",
    "  return contador\n",
    "\n",
    "print(\"Contador:\", contador, incrementar(), incrementar())"
   ]
  },
  {
   "cell_type": "markdown",
   "id": "6bee4ea8",
   "metadata": {},
   "source": [
    "\n",
    "## Tema 3: Módulos\n",
    "\n",
    "### Definición\n",
    "Un **módulo** es un archivo `.py` que agrupa funciones, clases y constantes relacionadas. Se importa con `import` o `from ... import ...`.\n",
    "\n",
    "### Importancia en programación y analítica de datos\n",
    "- Permite organizar el código por **responsabilidades** (p. ej., `io.py`, `limpieza.py`).\n",
    "- Facilita **pruebas unitarias**, reutilización y colaboración entre equipos.\n",
    "- Mejora la **descubrilidad** y el **versionamiento** de componentes.\n",
    "\n",
    "### Buenas prácticas y errores comunes\n",
    "- Nombrar módulos con minúsculas y guiones bajos (`snake_case`).\n",
    "- Evitar importaciones circulares; extraer dependencias comunes.\n",
    "- Usar `if __name__ == \"__main__\":` para ejecutar pruebas locales o CLIs.\n"
   ]
  },
  {
   "cell_type": "code",
   "execution_count": 26,
   "id": "30cbd4e7",
   "metadata": {},
   "outputs": [
    {
     "name": "stdout",
     "output_type": "stream",
     "text": [
      "PI: 3.14159\n",
      "Área círculo radio 3: 28.27431\n"
     ]
    }
   ],
   "source": [
    "\n",
    "# TODO: Simulación de módulo dentro del notebook usando types.ModuleType (solo a modo demostrativo)\n",
    "import types, sys\n",
    "\n",
    "codigo_modulo = '''\n",
    "\"\"\"operaciones.py: Utilidades aritméticas básicas.\"\"\"\n",
    "from __future__ import annotations\n",
    "\n",
    "PI = 3.14159\n",
    "\n",
    "def area_circulo(radio: float) -> float:\n",
    "  \"\"\"Calcula el área de un círculo dado su radio.\"\"\"\n",
    "  return PI * radio**2\n",
    "\n",
    "def es_par(n: int) -> bool:\n",
    "  \"\"\"Determina si un número es par.\"\"\"\n",
    "  return n % 2 == 0\n",
    "\n",
    "if __name__ == \"__main__\":\n",
    "  # Pruebas locales\n",
    "  print(\"Area del Circulo de radio 5: \", area_circulo(5))\n",
    "  print(\"Es 4 par?: \", es_par(4))\n",
    "'''\n",
    "\n",
    "modulo_operaciones = types.ModuleType(\"operaciones\")\n",
    "exec(codigo_modulo, modulo_operaciones.__dict__)\n",
    "sys.modules[\"operaciones\"] = modulo_operaciones\n",
    "# Registrar para permitir import operaciones\n",
    "\n",
    "import operaciones\n",
    "print(\"PI:\", operaciones.PI)\n",
    "print(\"Área círculo radio 3:\", operaciones.area_circulo(3))\n",
    "\n"
   ]
  },
  {
   "cell_type": "markdown",
   "id": "dd9a0dc3",
   "metadata": {},
   "source": [
    "\n",
    "## Tema 4: Paquetes\n",
    "\n",
    "### Definición\n",
    "Un **paquete** es un directorio que contiene múltiples módulos relacionados. Tradicionalmente incluye un archivo `__init__.py` que puede exponer una API pública.\n",
    "\n",
    "### Importancia en programación y analítica de datos\n",
    "- Escala la organización modular a **dominios** o **subdominios** (p. ej., `mi_app/ingesta`, `mi_app/transform`).\n",
    "- Facilita la **separación de capas** y el diseño de **pipelines**.\n",
    "- Habilita importaciones absolutas y relativas para dependencias internas.\n",
    "\n",
    "### Buenas prácticas y errores comunes\n",
    "- Definir una **API pública** mínima en `__init__.py`.\n",
    "- Usar **importaciones absolutas** para claridad en proyectos medianos/grandes.\n",
    "- Evitar barajar responsabilidades; mantener alta **cohesión** y bajo **acoplamiento**.\n"
   ]
  },
  {
   "cell_type": "code",
   "execution_count": null,
   "id": "5a448b42",
   "metadata": {},
   "outputs": [
    {
     "name": "stdout",
     "output_type": "stream",
     "text": [
      "Suma 5 + 3: 8\n",
      "Saludo: Hola, Juan!\n"
     ]
    }
   ],
   "source": [
    "\n",
    "# TODO: Simulación de un paquete en memoria\n",
    "# Nota: En proyectos reales se crean carpetas y archivos .py.\n",
    "\n",
    "import types, sys\n",
    "\n",
    "# Creación de Sub-Modules\n",
    "mod_math = types.ModuleType(\"mi_paquete.math\")\n",
    "mod_math.__dict__.update({\n",
    "  \"sumar\": lambda a, b: a + b,\n",
    "  \"restar\": lambda a, b: a - b,\n",
    "  \"cuadrado\": lambda x: x**2\n",
    "})\n",
    "\n",
    "mod_string = types.ModuleType(\"mi_paquete.string\")\n",
    "def saludar(nombre: str) -> str:\n",
    "  return f\"Hola, {nombre}!\"\n",
    "mod_string.__dict__.update({\n",
    "  \"saludar\": saludar\n",
    "})\n",
    "\n",
    "# Cración de Pseudo-Paquete\n",
    "pkg = types.ModuleType(\"mi_paquete\")\n",
    "pkg.__path__ = []  # Marca como paquete - import machinery\n",
    "pkg.__all__ = [\"math\", \"string\"] # type: ignore\n",
    "\n",
    "# Registrar los sys.modules\n",
    "sys.modules[\"mi_paquete\"] = pkg\n",
    "sys.modules[\"mi_paquete.math\"] = mod_math\n",
    "sys.modules[\"mi_paquete.string\"] = mod_string\n",
    "\n",
    "# Uso con importaciones\n",
    "from mi_paquete import math, string\n",
    "print(\"Suma 5 + 3:\", math.sumar(5, 3))\n",
    "print(\"Saludo:\", string.saludar(\"Juan\"))\n"
   ]
  },
  {
   "cell_type": "markdown",
   "id": "aa327d8c",
   "metadata": {},
   "source": [
    "\n",
    "# Ejercicios integradores\n",
    "\n",
    "A continuación se presentan ejercicios que integran funciones, ámbito, módulos y paquetes. Cada ejercicio incluye contexto técnico, datos/entradas, requerimientos, criterios de aceptación y pistas. Se proporciona una celda de solución después de cada enunciado.\n"
   ]
  },
  {
   "cell_type": "markdown",
   "id": "f173e6cb",
   "metadata": {},
   "source": [
    "\n",
    "## Ejercicio 1: Normalizador de calificaciones\n",
    "\n",
    "**Contexto técnico:** Eres responsable de un pequeño módulo de utilidades académicas. Necesitas una función que normalice calificaciones de 0–100 a 0–5 para reportes consolidados. Se usará dentro de un pipeline de análisis.\n",
    "\n",
    "**Datos/entradas:** Lista de enteros o flotantes en el rango 0–100, por ejemplo: `[55, 70, 92, 100, 0]`.\n",
    "\n",
    "**Requerimientos:**\n",
    "- Implementar una función pura `normalizar(calificacion: float) -> float` que proyecte 0–100 a 0–5 con dos decimales.\n",
    "- Implementar `normalizar_lista(valores: Iterable[float]) -> list[float]` usando composición.\n",
    "- Manejar entradas fuera de rango con `ValueError`.\n",
    "\n",
    "**Criterios de aceptación:**\n",
    "- `normalizar(100) == 5.0`, `normalizar(0) == 0.0`.\n",
    "- Para `[55, 70, 92]` retornar `[2.75, 3.5, 4.6]`.\n",
    "- Lanza `ValueError` si algún valor < 0 o > 100.\n",
    "\n",
    "**Pistas:** Usa una función auxiliar de validación. Evita redondeos prematuros salvo en el resultado final.\n"
   ]
  },
  {
   "cell_type": "code",
   "execution_count": 39,
   "id": "94f123d8",
   "metadata": {},
   "outputs": [
    {
     "name": "stdout",
     "output_type": "stream",
     "text": [
      "Normalización y redondeo de 100: 5.0\n",
      "Normalización y redondeo de 0: 0.0\n",
      "Normalización y redondeo de 80: 4.0\n",
      "Error esperado: La calificacion es 200 y debe estar entre 0 y 100.\n"
     ]
    }
   ],
   "source": [
    "\n",
    "# TODO: Ejercicio 1\n",
    "from typing import Iterable\n",
    "\n",
    "def _validar_rango(calificacion: float) -> None:\n",
    "  if not (0 <= calificacion <= 100):\n",
    "    raise ValueError(f\"La calificacion es {calificacion} y debe estar entre 0 y 100.\")\n",
    "\n",
    "def normalizar(calificacion: float) -> float:\n",
    "  \"\"\"Normaliza una calificación de 0-100 a 0-5.\"\"\"\n",
    "  _validar_rango(calificacion)\n",
    "  return (calificacion / 100.0)*5.0\n",
    "\n",
    "def redondear(calificacion: float) -> float:\n",
    "  \"\"\"Redondea una calificación a la décima más cercana.\"\"\"\n",
    "  return round(calificacion, 2)\n",
    "\n",
    "def normalizar_lista(calificaciones: Iterable[float]) -> list[float]:\n",
    "  \"\"\"Normaliza y redondea una lista de calificaciones.\"\"\"\n",
    "  return [redondear(normalizar(calificacion)) for calificacion in calificaciones]\n",
    "\n",
    "# Pruebas\n",
    "print(\"Normalización y redondeo de 100:\", redondear(normalizar(100)))\n",
    "print(\"Normalización y redondeo de 0:\", redondear(normalizar(0)))\n",
    "print(\"Normalización y redondeo de 80:\", redondear(normalizar(80)))\n",
    "\n",
    "try:\n",
    "  normalizar(200)\n",
    "except ValueError as e:\n",
    "  print(\"Error esperado:\", e)\n"
   ]
  },
  {
   "cell_type": "markdown",
   "id": "8c16e4e4",
   "metadata": {},
   "source": [
    "## Ejercicio 1.2\n",
    "Escribir una función que calcule el total de una factura tras aplicarle el IVA. La función debe recibir la cantidad sin IVA y el porcentaje de IVA a aplicar, y devolver el total de la factura. Si se invoca la función sin pasarle el porcentaje de IVA, deberá aplicar un 21%."
   ]
  },
  {
   "cell_type": "code",
   "execution_count": 43,
   "id": "2c5673dc",
   "metadata": {},
   "outputs": [
    {
     "name": "stdout",
     "output_type": "stream",
     "text": [
      "Error esperado: El IVA no puede ser negativo, el valor introducido fue: -5\n"
     ]
    }
   ],
   "source": [
    "\n",
    "# TODO: Ejercicio 1.2\n",
    "\n",
    "def _validar_iva(iva: float) -> None:\n",
    "  if iva < 0:\n",
    "    raise ValueError(f\"El IVA no puede ser negativo, el valor introducido fue: {iva}\")\n",
    "\n",
    "def calculo_precio_final(precio: float, iva:float = 21) -> float:\n",
    "  \"\"\"Calcula el precio final tras aplicar el IVA.\"\"\"\n",
    "  _validar_iva(iva)\n",
    "  return precio*(1 + iva/100)\n",
    "\n",
    "try:\n",
    "  print(calculo_precio_final(100, -5))   # Error esperado\n",
    "  print(calculo_precio_final(100))       # Con IVA por defecto (21%)\n",
    "  print(calculo_precio_final(100, 10))   # Con IVA del 10%\n",
    "except ValueError as e:\n",
    "  print(\"Error esperado:\", e)"
   ]
  },
  {
   "cell_type": "markdown",
   "id": "487b3273",
   "metadata": {},
   "source": [
    "\n",
    "## Ejercicio 2: Módulo de estadísticas descriptivas\n",
    "\n",
    "**Contexto técnico:** En un análisis exploratorio, necesitas centralizar cálculos de tendencia central en un **módulo** para reutilizarlo entre notebooks y scripts.\n",
    "\n",
    "**Datos/entradas:** Secuencias numéricas como `[2, 4, 4, 4, 5, 5, 7, 9]`.\n",
    "\n",
    "**Requerimientos:**\n",
    "- Crear un módulo llamado `estadisticas` con funciones `media`, `mediana` y `moda`.\n",
    "- Manejar secuencias vacías con `ValueError`.\n",
    "- Proveer un punto de ejecución local con `if __name__ == \"__main__\":` para pruebas.\n",
    "\n",
    "**Criterios de aceptación:**\n",
    "- `media([2,2]) == 2.0`, `mediana([1,3,2]) == 2`, `moda([1,1,2]) == 1`.\n",
    "- Importar el módulo y utilizar sus funciones desde el notebook.\n",
    "\n",
    "**Pistas:** Puedes simular el módulo con `types.ModuleType` en este entorno. Implementa `moda` contando frecuencias.\n"
   ]
  },
  {
   "cell_type": "code",
   "execution_count": null,
   "id": "7617433d",
   "metadata": {},
   "outputs": [],
   "source": [
    "\n",
    "# TODO: Ejercicio 2\n"
   ]
  },
  {
   "cell_type": "markdown",
   "id": "4df4ff2d",
   "metadata": {},
   "source": [
    "\n",
    "## Ejercicio 3: Paquete de utilidades para limpieza de texto\n",
    "\n",
    "**Contexto técnico:** Estás construyendo un **paquete** interno `textutils` para preprocesamiento de texto en un pipeline de analítica (normalización y tokens). Debe ser reutilizable y con API clara.\n",
    "\n",
    "**Datos/entradas:** Cadenas como `\"  Hola,   Mundo!!  \"` y `\"analítica de Datos en PYTHON\"`.\n",
    "\n",
    "**Requerimientos:**\n",
    "- Crear un paquete `textutils` con módulos `normalize` y `tokenize`.\n",
    "- `normalize.clean(s: str) -> str`: recorta espacios, baja a minúsculas y elimina signos de puntuación simples `, . ! ? ; :`.\n",
    "- `tokenize.words(s: str) -> list[str]`: divide por espacios y filtra tokens vacíos.\n",
    "- Exponer en `textutils/__init__.py` una API mínima con `clean` y `words`.\n",
    "\n",
    "**Criterios de aceptación:**\n",
    "- `clean(\"  Hola,   Mundo!!  \") == \"hola mundo\"`\n",
    "- `words(\"hola   mundo  python\") == [\"hola\", \"mundo\", \"python\"]`\n",
    "- Importación: `from textutils import clean, words` funciona.\n",
    "\n",
    "**Pistas:** Simula el paquete en memoria con `types.ModuleType` y registra en `sys.modules`.\n"
   ]
  },
  {
   "cell_type": "code",
   "execution_count": null,
   "id": "2bc4411e",
   "metadata": {},
   "outputs": [],
   "source": [
    "\n",
    "# TODO: Ejercicio 3\n"
   ]
  }
 ],
 "metadata": {
  "authors": [
   "Equipo de Instrucción – Curso de Fundamentos de Programación y Analítica de Datos con Python"
  ],
  "created": "2025-09-16T10:55:25+00:00",
  "description": "Bloque dedicado a la Programación Modular en Python, abarcando funciones, ámbito de variables, módulos y paquetes. Incluye definiciones, importancia para programación y analítica de datos, buenas prácticas, ejemplos ejecutables y ejercicios integradores con criterios de aceptación.",
  "kernelspec": {
   "display_name": "Python (python-course)",
   "language": "python",
   "name": "python-course"
  },
  "language_info": {
   "codemirror_mode": {
    "name": "ipython",
    "version": 3
   },
   "file_extension": ".py",
   "mimetype": "text/x-python",
   "name": "python",
   "nbconvert_exporter": "python",
   "pygments_lexer": "ipython3",
   "version": "3.12.8"
  }
 },
 "nbformat": 4,
 "nbformat_minor": 5
}
