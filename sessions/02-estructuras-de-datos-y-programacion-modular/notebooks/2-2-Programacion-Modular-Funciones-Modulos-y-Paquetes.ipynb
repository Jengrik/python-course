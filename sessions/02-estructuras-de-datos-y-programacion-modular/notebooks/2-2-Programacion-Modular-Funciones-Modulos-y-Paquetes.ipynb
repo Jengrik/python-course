{
 "cells": [
  {
   "cell_type": "markdown",
   "id": "d05b076b",
   "metadata": {},
   "source": [
    "\n",
    "# Programación Modular: Funciones, Módulos y Paquetes\n",
    "\n",
    "**Curso:** Fundamentos de Programación y Analítica de Datos con Python  \n",
    "**Duración estimada del bloque:** 2 horas\n",
    "\n",
    "## Objetivos específicos\n",
    "- Diseñar y utilizar funciones puras con parámetros y retorno, aplicando tipado opcional y documentación mínima.\n",
    "- Diferenciar el alcance de variables (LEGB) y aplicar correctamente `global` y `nonlocal` cuando corresponda.\n",
    "- Crear y reutilizar módulos con `import`, alias, `from ... import ...` y el patrón `if __name__ == \"__main__\":`.\n",
    "- Estructurar paquetes con `__init__.py`, importaciones absolutas/relativas y organización básica por responsabilidades.\n",
    "\n",
    "## Prerrequisitos\n",
    "- Fundamentos de Python: tipos básicos, operaciones aritméticas y control de flujo.\n",
    "- Conocimientos mínimos de entorno: uso de editor (VSCode), ejecución de scripts y notebooks.\n"
   ]
  },
  {
   "cell_type": "markdown",
   "id": "b8786520",
   "metadata": {},
   "source": [
    "\n",
    "## Tema 1: Funciones\n",
    "\n",
    "### Definición\n",
    "Una función es una unidad modular de código que encapsula una operación específica y puede recibir **parámetros** y retornar **resultados**. En Python se declara típicamente con `def` y puede incluir **anotaciones de tipo** y **docstrings**.\n",
    "\n",
    "### Importancia en programación y analítica de datos\n",
    "- Favorecen la **reutilización** y la **composición** de soluciones.\n",
    "- Permiten separar **cálculo** de **E/S**, facilitando pruebas unitarias y mantenimiento.\n",
    "- En analítica, ayudan a crear **pipelines** de transformación y validación de datos.\n",
    "- Disminuyen la duplicación y mejoran la **legibilidad** y la **trazabilidad**.\n",
    "\n",
    "### Buenas prácticas profesionales y errores comunes\n",
    "- Preferir **funciones puras** (sin efectos secundarios) para facilitar pruebas y razonamiento.\n",
    "- Escribir **docstrings** concisos que describan propósito, parámetros y retorno.\n",
    "- Evitar **parámetros con valores mutables** por defecto (usar `None` y asignar dentro).\n",
    "- Usar **anotaciones de tipo** y nombres descriptivos.\n",
    "- Error común: mezclar **lógica** con **E/S** dentro de la misma función.\n"
   ]
  },
  {
   "cell_type": "code",
   "execution_count": null,
   "id": "3489ff60",
   "metadata": {},
   "outputs": [],
   "source": [
    "\n",
    "# TODO: Ejemplo: funciones con parámetros, retorno, tipos y docstring\n"
   ]
  },
  {
   "cell_type": "code",
   "execution_count": null,
   "id": "bb634084",
   "metadata": {},
   "outputs": [],
   "source": [
    "\n",
    "# TODO: Parámetros por defecto y el problema de los mutables\n"
   ]
  },
  {
   "cell_type": "markdown",
   "id": "d7716747",
   "metadata": {},
   "source": [
    "\n",
    "## Tema 2: Ámbito de variables y modelo LEGB\n",
    "\n",
    "### Definición\n",
    "El **ámbito** determina dónde una variable es visible y modificable. Python resuelve nombres siguiendo el modelo **LEGB**: Local, Enclosing, Global, Built-in.\n",
    "\n",
    "### Importancia en programación y analítica de datos\n",
    "- Controlar efectos secundarios y **estado** evita errores difíciles de rastrear.\n",
    "- Comprender **closures** y **`nonlocal`** habilita patrones funcionales y decoradores simples.\n",
    "- Manejar **`global`** con cautela; preferir parámetros/retornos o inyección de dependencias.\n",
    "\n",
    "### Buenas prácticas y errores comunes\n",
    "- Evitar modificar variables globales desde funciones; preferir retornos.\n",
    "- Usar **`nonlocal`** solo cuando se justifique en closures.\n",
    "- Error común: suponer que la asignación dentro de una función modifica el nombre externo.\n"
   ]
  },
  {
   "cell_type": "code",
   "execution_count": null,
   "id": "3e9d5cb5",
   "metadata": {},
   "outputs": [],
   "source": [
    "\n",
    "# TODO: Demostración LEGB, global y nonlocal\n"
   ]
  },
  {
   "cell_type": "markdown",
   "id": "6bee4ea8",
   "metadata": {},
   "source": [
    "\n",
    "## Tema 3: Módulos\n",
    "\n",
    "### Definición\n",
    "Un **módulo** es un archivo `.py` que agrupa funciones, clases y constantes relacionadas. Se importa con `import` o `from ... import ...`.\n",
    "\n",
    "### Importancia en programación y analítica de datos\n",
    "- Permite organizar el código por **responsabilidades** (p. ej., `io.py`, `limpieza.py`).\n",
    "- Facilita **pruebas unitarias**, reutilización y colaboración entre equipos.\n",
    "- Mejora la **descubrilidad** y el **versionamiento** de componentes.\n",
    "\n",
    "### Buenas prácticas y errores comunes\n",
    "- Nombrar módulos con minúsculas y guiones bajos (`snake_case`).\n",
    "- Evitar importaciones circulares; extraer dependencias comunes.\n",
    "- Usar `if __name__ == \"__main__\":` para ejecutar pruebas locales o CLIs.\n"
   ]
  },
  {
   "cell_type": "code",
   "execution_count": null,
   "id": "30cbd4e7",
   "metadata": {},
   "outputs": [],
   "source": [
    "\n",
    "\n",
    "# TODO: Simulación de módulo dentro del notebook usando types.ModuleType (solo a modo demostrativo)\n"
   ]
  },
  {
   "cell_type": "markdown",
   "id": "dd9a0dc3",
   "metadata": {},
   "source": [
    "\n",
    "## Tema 4: Paquetes\n",
    "\n",
    "### Definición\n",
    "Un **paquete** es un directorio que contiene múltiples módulos relacionados. Tradicionalmente incluye un archivo `__init__.py` que puede exponer una API pública.\n",
    "\n",
    "### Importancia en programación y analítica de datos\n",
    "- Escala la organización modular a **dominios** o **subdominios** (p. ej., `mi_app/ingesta`, `mi_app/transform`).\n",
    "- Facilita la **separación de capas** y el diseño de **pipelines**.\n",
    "- Habilita importaciones absolutas y relativas para dependencias internas.\n",
    "\n",
    "### Buenas prácticas y errores comunes\n",
    "- Definir una **API pública** mínima en `__init__.py`.\n",
    "- Usar **importaciones absolutas** para claridad en proyectos medianos/grandes.\n",
    "- Evitar barajar responsabilidades; mantener alta **cohesión** y bajo **acoplamiento**.\n"
   ]
  },
  {
   "cell_type": "code",
   "execution_count": null,
   "id": "5a448b42",
   "metadata": {},
   "outputs": [],
   "source": [
    "\n",
    "# TODO: Simulación pedagógica de un paquete en memoria\n",
    "# Nota: En proyectos reales se crean carpetas y archivos .py.\n"
   ]
  },
  {
   "cell_type": "markdown",
   "id": "aa327d8c",
   "metadata": {},
   "source": [
    "\n",
    "# Ejercicios integradores\n",
    "\n",
    "A continuación se presentan ejercicios que integran funciones, ámbito, módulos y paquetes. Cada ejercicio incluye contexto técnico, datos/entradas, requerimientos, criterios de aceptación y pistas. Se proporciona una celda de solución después de cada enunciado.\n"
   ]
  },
  {
   "cell_type": "markdown",
   "id": "f173e6cb",
   "metadata": {},
   "source": [
    "\n",
    "## Ejercicio 1: Normalizador de calificaciones\n",
    "\n",
    "**Contexto técnico:** Eres responsable de un pequeño módulo de utilidades académicas. Necesitas una función que normalice calificaciones de 0–100 a 0–5 para reportes consolidados. Se usará dentro de un pipeline de análisis.\n",
    "\n",
    "**Datos/entradas:** Lista de enteros o flotantes en el rango 0–100, por ejemplo: `[55, 70, 92, 100, 0]`.\n",
    "\n",
    "**Requerimientos:**\n",
    "- Implementar una función pura `normalizar(calificacion: float) -> float` que proyecte 0–100 a 0–5 con dos decimales.\n",
    "- Implementar `normalizar_lista(valores: Iterable[float]) -> list[float]` usando composición.\n",
    "- Manejar entradas fuera de rango con `ValueError`.\n",
    "\n",
    "**Criterios de aceptación:**\n",
    "- `normalizar(100) == 5.0`, `normalizar(0) == 0.0`.\n",
    "- Para `[55, 70, 92]` retornar `[2.75, 3.5, 4.6]`.\n",
    "- Lanza `ValueError` si algún valor < 0 o > 100.\n",
    "\n",
    "**Pistas:** Usa una función auxiliar de validación. Evita redondeos prematuros salvo en el resultado final.\n"
   ]
  },
  {
   "cell_type": "code",
   "execution_count": null,
   "id": "94f123d8",
   "metadata": {},
   "outputs": [],
   "source": [
    "\n",
    "# TODO: Ejercicio 1\n"
   ]
  },
  {
   "cell_type": "markdown",
   "id": "487b3273",
   "metadata": {},
   "source": [
    "\n",
    "## Ejercicio 2: Módulo de estadísticas descriptivas\n",
    "\n",
    "**Contexto técnico:** En un análisis exploratorio, necesitas centralizar cálculos de tendencia central en un **módulo** para reutilizarlo entre notebooks y scripts.\n",
    "\n",
    "**Datos/entradas:** Secuencias numéricas como `[2, 4, 4, 4, 5, 5, 7, 9]`.\n",
    "\n",
    "**Requerimientos:**\n",
    "- Crear un módulo llamado `estadisticas` con funciones `media`, `mediana` y `moda`.\n",
    "- Manejar secuencias vacías con `ValueError`.\n",
    "- Proveer un punto de ejecución local con `if __name__ == \"__main__\":` para pruebas.\n",
    "\n",
    "**Criterios de aceptación:**\n",
    "- `media([2,2]) == 2.0`, `mediana([1,3,2]) == 2`, `moda([1,1,2]) == 1`.\n",
    "- Importar el módulo y utilizar sus funciones desde el notebook.\n",
    "\n",
    "**Pistas:** Puedes simular el módulo con `types.ModuleType` en este entorno. Implementa `moda` contando frecuencias.\n"
   ]
  },
  {
   "cell_type": "code",
   "execution_count": null,
   "id": "7617433d",
   "metadata": {},
   "outputs": [],
   "source": [
    "\n",
    "# TODO: Ejercicio 2\n"
   ]
  },
  {
   "cell_type": "markdown",
   "id": "4df4ff2d",
   "metadata": {},
   "source": [
    "\n",
    "## Ejercicio 3: Paquete de utilidades para limpieza de texto\n",
    "\n",
    "**Contexto técnico:** Estás construyendo un **paquete** interno `textutils` para preprocesamiento de texto en un pipeline de analítica (normalización y tokens). Debe ser reutilizable y con API clara.\n",
    "\n",
    "**Datos/entradas:** Cadenas como `\"  Hola,   Mundo!!  \"` y `\"analítica de Datos en PYTHON\"`.\n",
    "\n",
    "**Requerimientos:**\n",
    "- Crear un paquete `textutils` con módulos `normalize` y `tokenize`.\n",
    "- `normalize.clean(s: str) -> str`: recorta espacios, baja a minúsculas y elimina signos de puntuación simples `, . ! ? ; :`.\n",
    "- `tokenize.words(s: str) -> list[str]`: divide por espacios y filtra tokens vacíos.\n",
    "- Exponer en `textutils/__init__.py` una API mínima con `clean` y `words`.\n",
    "\n",
    "**Criterios de aceptación:**\n",
    "- `clean(\"  Hola,   Mundo!!  \") == \"hola mundo\"`\n",
    "- `words(\"hola   mundo  python\") == [\"hola\", \"mundo\", \"python\"]`\n",
    "- Importación: `from textutils import clean, words` funciona.\n",
    "\n",
    "**Pistas:** Simula el paquete en memoria con `types.ModuleType` y registra en `sys.modules`.\n"
   ]
  },
  {
   "cell_type": "code",
   "execution_count": null,
   "id": "2bc4411e",
   "metadata": {},
   "outputs": [],
   "source": [
    "\n",
    "# TODO: Ejercicio 3\n"
   ]
  }
 ],
 "metadata": {
  "authors": [
   "Equipo de Instrucción – Curso de Fundamentos de Programación y Analítica de Datos con Python"
  ],
  "created": "2025-09-16T10:55:25+00:00",
  "description": "Bloque dedicado a la Programación Modular en Python, abarcando funciones, ámbito de variables, módulos y paquetes. Incluye definiciones, importancia para programación y analítica de datos, buenas prácticas, ejemplos ejecutables y ejercicios integradores con criterios de aceptación.",
  "kernelspec": {
   "display_name": "Python 3",
   "name": "python3"
  },
  "language_info": {
   "name": "python",
   "version": "3.12.8"
  }
 },
 "nbformat": 4,
 "nbformat_minor": 5
}
