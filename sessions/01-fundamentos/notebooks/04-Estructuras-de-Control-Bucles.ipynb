{
  "cells": [
    {
      "cell_type": "markdown",
      "id": "1d048914",
      "metadata": {},
      "source": [
        "# Estructuras de Control: Bucles\n",
        "\n",
        "**Curso:** Fundamentos de Programación y Analítica de Datos con Python  \n",
        "**Duración estimada del bloque:** 40 minutos (recomendado dentro de la Sesión 1)\n",
        "\n",
        "## Objetivos específicos\n",
        "- Identificar las estructuras de bucle disponibles en Python (`for` y `while`) y comprender su sintaxis.\n",
        "- Aplicar iteración controlada con `range`, `enumerate` y `zip` en problemas sencillos de programación y analítica de datos.\n",
        "- Utilizar `break`, `continue` y la cláusula `else` de los bucles para controlar el flujo de ejecución de forma segura.\n",
        "- Reconocer y evitar errores comunes (off-by-one, bucles infinitos) mediante buenas prácticas y pruebas rápidas.\n",
        "- Iterar sobre diccionarios y colecciones anidadas, construyendo soluciones legibles y mantenibles.\n",
        "\n",
        "## Prerrequisitos\n",
        "- Conocimientos básicos de Python: variables, tipos primitivos (`int`, `float`, `str`, `bool`) y operadores.\n",
        "- Nociones mínimas de uso de VSCode y ejecución de celdas en Jupyter Notebook.\n"
      ]
    },
    {
      "cell_type": "markdown",
      "id": "208a817f",
      "metadata": {},
      "source": [
        "\n",
        "## Tema 1: Bucle `for` y `range`\n",
        "\n",
        "### Definición\n",
        "El bucle `for` en Python itera sobre elementos de un objeto iterable (por ejemplo, listas, cadenas, rangos), ejecutando un bloque de código para cada elemento. La función integrada `range(start, stop, step)` genera secuencias de enteros (no inclusiva en `stop`), útil para control de iteraciones.\n",
        "\n",
        "### Importancia en programación y analítica de datos\n",
        "La iteración es central en tareas de transformación, filtrado y agregación de datos. En flujos de analítica, `for` y `range` permiten recorrer registros, limpiar valores, realizar cálculos acumulativos y preparar datos para visualización o modelado.\n",
        "\n",
        "### Buenas prácticas y errores comunes\n",
        "- Preferir nombres de variables significativos (`indice`, `registro`) frente a genéricos (`i`, `x`) cuando mejore la legibilidad.\n",
        "- Evitar off-by-one verificando límites (recordar que `range(stop)` va de `0` a `stop-1`).\n",
        "- Usar `range(len(seq))` solo cuando realmente se necesite el índice; de lo contrario, iterar directamente por elementos de la secuencia.\n"
      ]
    },
    {
      "cell_type": "code",
      "execution_count": null,
      "id": "8f1fd8db",
      "metadata": {},
      "outputs": [],
      "source": [
        "\n",
        "# TODO: For and Ranges example"
      ]
    },
    {
      "cell_type": "markdown",
      "id": "adfc54d6",
      "metadata": {},
      "source": [
        "\n",
        "## Tema 2: `while`, condiciones y control de terminación\n",
        "\n",
        "### Definición\n",
        "El bucle `while` ejecuta un bloque de código mientras una condición booleana sea verdadera. Requiere modificar el estado interno (por ejemplo, un contador) para evitar ejecuciones indefinidas.\n",
        "\n",
        "### Importancia en programación y analítica de datos\n",
        "`while` es útil cuando el número de iteraciones no es conocido de antemano (p. ej., lectura de flujos, espera de eventos, validaciones repetidas). En análisis, puede emplearse para procesos interactivos o búsqueda de convergencia.\n",
        "\n",
        "### Buenas prácticas y errores comunes\n",
        "- Asegurar que la condición de salida se alcanzará (evitar bucles infinitos).\n",
        "- Mantener actualizaciones claras del estado (incrementos o cambios en cada iteración).\n",
        "- Limitar el alcance y la complejidad dentro del bucle para mejorar la mantenibilidad.\n"
      ]
    },
    {
      "cell_type": "code",
      "execution_count": null,
      "id": "03c9a8a7",
      "metadata": {},
      "outputs": [],
      "source": [
        "\n",
        "#TODO: Ejemplos con While"
      ]
    },
    {
      "cell_type": "markdown",
      "id": "0ac86be4",
      "metadata": {},
      "source": [
        "\n",
        "## Tema 3: `enumerate` y `zip` para iteración estructurada\n",
        "\n",
        "### Definición\n",
        "- `enumerate(iterable, start=0)` produce pares `(indice, elemento)`, facilitando el acceso simultáneo al índice y al valor.\n",
        "- `zip(a, b, ...)` agrega múltiples iterables en tuplas alineadas por posición, útil para recorrer colecciones en paralelo.\n",
        "\n",
        "### Importancia en programación y analítica de datos\n",
        "Permiten escribir bucles claros al trabajar con índices, etiquetas y valores observados simultáneamente, evitando patrones frágiles como sincronizar manualmente contadores.\n",
        "\n",
        "### Buenas prácticas y errores comunes\n",
        "- Preferir `enumerate` frente a `range(len(seq))` cuando se necesite el índice.\n",
        "- Al usar `zip`, considerar longitudes desiguales: por defecto, se trunca a la más corta.\n"
      ]
    },
    {
      "cell_type": "code",
      "execution_count": null,
      "id": "d4e8345b",
      "metadata": {},
      "outputs": [],
      "source": [
        "\n",
        "# TODO: Break and Continue example"
      ]
    },
    {
      "cell_type": "markdown",
      "id": "63ba9a23",
      "metadata": {},
      "source": [
        "\n",
        "## Tema 4: Control de flujo en bucles: `break`, `continue` y `else`\n",
        "\n",
        "### Definición\n",
        "- `break`: finaliza el bucle inmediato.\n",
        "- `continue`: salta a la siguiente iteración.\n",
        "- `else` en bucles: se ejecuta cuando el bucle termina sin haber ejecutado `break`.\n",
        "\n",
        "### Importancia en programación y analítica de datos\n",
        "Mejoran la expresividad del control de flujo, por ejemplo, para búsqueda y validación en secuencias, evitando banderas auxiliares.\n"
      ]
    },
    {
      "cell_type": "code",
      "execution_count": null,
      "id": "eafd7380",
      "metadata": {},
      "outputs": [],
      "source": [
        "\n",
        "# TODO: Break and Continue example"
      ]
    },
    {
      "cell_type": "markdown",
      "id": "73becfef",
      "metadata": {},
      "source": [
        "\n",
        "## Tema 5: Iteración sobre diccionarios y colecciones anidadas\n",
        "\n",
        "### Definición\n",
        "Los diccionarios se recorren mediante sus vistas: `keys()`, `values()`, `items()`. En colecciones anidadas (listas de diccionarios, diccionarios de listas), se combinan bucles para acceder a niveles internos.\n",
        "\n",
        "### Importancia en programación y analítica de datos\n",
        "Datos tabulares y registros suelen representarse como listas de diccionarios. Saber iterarlos permite limpiar, transformar y validar datos antes del análisis.\n",
        "\n",
        "### Buenas prácticas y errores comunes\n",
        "- Elegir adecuadamente la vista: `items()` cuando se requieren claves y valores.\n",
        "- Evitar modificar el diccionario mientras se itera sobre él; preferir construir una nueva estructura.\n"
      ]
    },
    {
      "cell_type": "code",
      "execution_count": null,
      "id": "2adbfb56",
      "metadata": {},
      "outputs": [],
      "source": [
        "\n",
        "# TODO: Iterators in dictionaries example\n"
      ]
    },
    {
      "cell_type": "markdown",
      "id": "60faa91d",
      "metadata": {},
      "source": [
        "\n",
        "## Tema 6 (opcional): Comprensiones de listas y diccionarios\n",
        "\n",
        "### Definición\n",
        "Las comprensiones son atajos declarativos para construir nuevas colecciones a partir de iterables, con posible filtrado condicional.\n",
        "\n",
        "### Importancia en programación y analítica de datos\n",
        "Facilitan transformaciones compactas y legibles cuando la lógica es simple (map/filter). En casos complejos, preferir bucles explícitos para mantener claridad.\n",
        "\n",
        "### Buenas prácticas y errores comunes\n",
        "- Mantener las comprensiones cortas y legibles.\n",
        "- Evitar anidamientos excesivos; considerar bucles `for` normales si hay múltiples condiciones o pasos.\n"
      ]
    },
    {
      "cell_type": "code",
      "execution_count": null,
      "id": "fad825c8",
      "metadata": {},
      "outputs": [],
      "source": [
        "\n",
        "# TODO: List & Dictionary comprehensions"
      ]
    },
    {
      "cell_type": "markdown",
      "id": "547f880d",
      "metadata": {},
      "source": [
        "\n",
        "# Ejercicios integradores\n",
        "\n",
        "A continuación se proponen ejercicios que integran los temas tratados. Cada enunciado incluye contexto técnico, datos/entradas, requerimientos, criterios de aceptación y pistas. Tras cada ejercicio se presenta una posible solución.\n",
        "\n",
        "---\n",
        "\n",
        "## Ejercicio 1: Control de inventario simple (for + dict)\n",
        "\n",
        "**Contexto técnico:** Eres analista de operaciones en una tienda. Debes calcular el inventario total por categoría para un resumen diario; estos datos alimentan un tablero de control de logística.\n",
        "\n",
        "**Datos/entradas:** Lista de registros con `categoria` y `cantidad`:\n",
        "```python\n",
        "registros = [\n",
        "    {\"categoria\": \"alimentos\", \"cantidad\": 5},\n",
        "    {\"categoria\": \"higiene\", \"cantidad\": 3},\n",
        "    {\"categoria\": \"alimentos\", \"cantidad\": 2},\n",
        "    {\"categoria\": \"limpieza\", \"cantidad\": 4},\n",
        "]\n",
        "```\n",
        "\n",
        "**Requerimientos:**\n",
        "- Iterar la lista y acumular cantidades por `categoria` en un diccionario `totales`.\n",
        "- Usar un bucle `for` y acceso a `items()` cuando corresponda.\n",
        "\n",
        "**Criterios de aceptación:**\n",
        "- `totales` debe ser `{\"alimentos\": 7, \"higiene\": 3, \"limpieza\": 4}`.\n",
        "- Código legible, sin modificar la lista original.\n",
        "\n",
        "**Pistas:**\n",
        "- Inicializa `totales = {}` y usa `totales.get(clave, 0)` para acumular.\n",
        "\n",
        "\n",
        "---\n",
        "\n",
        "## Ejercicio 2: Evaluación de calidad de datos (while + validación)\n",
        "\n",
        "**Contexto técnico:** Como analista de datos, recibes mediciones que podrían contener valores fuera de rango. Se debe verificar que cada valor esté entre 0 y 100 antes de procesarlo.\n",
        "\n",
        "**Datos/entradas:** Lista de mediciones: `mediciones = [10, -5, 98, 101, 45]`\n",
        "\n",
        "**Requerimientos:**\n",
        "- Usar un bucle `while` para recorrer la lista por índice.\n",
        "- Contar cuántos valores son válidos (en rango [0, 100]) y cuántos inválidos.\n",
        "- Detener el conteo si se encuentran 2 valores inválidos consecutivos (usar `break`).\n",
        "\n",
        "**Criterios de aceptación:**\n",
        "- Imprimir totales de válidos e inválidos.\n",
        "- Si se detiene por dos inválidos seguidos, indicarlo explícitamente.\n",
        "\n",
        "**Pistas:**\n",
        "- Mantén una variable para recordar si el último fue inválido.\n",
        "\n",
        "\n",
        "---\n",
        "\n",
        "## Ejercicio 3: Cruce de listas (zip + enumerate)\n",
        "\n",
        "**Contexto técnico:** Como científico de datos, debes combinar etiquetas y mediciones para una verificación rápida antes de cargar un dataset a un sistema.\n",
        "\n",
        "**Datos/entradas:**\n",
        "```python\n",
        "etiquetas = [\"A\", \"B\", \"C\", \"D\"]\n",
        "valores = [3.5, 7.2, 1.1, 6.0]\n",
        "```\n",
        "\n",
        "**Requerimientos:**\n",
        "- Recorrer `etiquetas` y `valores` en paralelo con `zip`.\n",
        "- Imprimir líneas numeradas (comenzando en 1) usando `enumerate` para revisión.\n",
        "\n",
        "**Criterios de aceptación:**\n",
        "- Salida con formato: `\"1) A -> 3.5\"`, `\"2) B -> 7.2\"`, etc.\n",
        "\n",
        "**Pistas:**\n",
        "- Puedes aplicar `enumerate(zip(...), start=1)`.\n",
        "\n",
        "\n",
        "---\n",
        "\n",
        "## Ejercicio 4: Búsqueda y reporte (for + else + continue)\n",
        "\n",
        "**Contexto técnico:** En un pequeño pipeline, necesitas localizar un valor \"sentinela\" que indique el final lógico de un lote de procesamiento.\n",
        "\n",
        "**Datos/entradas:** `numeros = [2, 4, 0, 5, 0, 7]`, el sentinela es `0`.\n",
        "\n",
        "**Requerimientos:**\n",
        "- Recorrer la lista e imprimir solo los números positivos distintos de cero.\n",
        "- Al encontrar el primer `0`, detener la búsqueda con `break`.\n",
        "- Si no se encuentra `0`, usar la cláusula `else` del bucle para reportarlo.\n",
        "\n",
        "**Criterios de aceptación:**\n",
        "- Se imprimen solo los valores previos al primer `0`.\n",
        "- Mensaje adecuado dependiendo de si se encontró o no el sentinela.\n",
        "\n",
        "**Pistas:**\n",
        "- Usa `continue` para saltar no deseados; `break` para terminar al ver el sentinela.\n"
      ]
    }
  ],
  "metadata": {
    "authors": [
      "Jhon Erik Navarrete Gómez",
      "Instructor: ChatGPT (GPT-5 Thinking)"
    ],
    "created": "2025-09-11T12:52:54.412774+00:00",
    "description": "Bloque focalizado en estructuras de control iterativas en Python (for, while), patrones de iteración sobre secuencias y diccionarios, control de flujo (break, continue, else en bucles), y buenas prácticas para evitar errores comunes como bucles infinitos y off-by-one.",
    "kernelspec": {
      "display_name": "Python 3",
      "language": "python",
      "name": "python3"
    },
    "language_info": {
      "name": "python",
      "version": "3.12.8"
    }
  },
  "nbformat": 4,
  "nbformat_minor": 5
}
