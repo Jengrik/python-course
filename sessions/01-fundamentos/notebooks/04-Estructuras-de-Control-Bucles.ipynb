{
  "cells": [
    {
      "cell_type": "markdown",
      "id": "1d048914",
      "metadata": {},
      "source": [
        "# Estructuras de Control: Bucles\n",
        "\n",
        "**Curso:** Fundamentos de Programación y Analítica de Datos con Python  \n",
        "**Duración estimada del bloque:** 40 minutos (recomendado dentro de la Sesión 1)\n",
        "\n",
        "## Objetivos específicos\n",
        "- Identificar las estructuras de bucle disponibles en Python (`for` y `while`) y comprender su sintaxis.\n",
        "- Aplicar iteración controlada con `range`, `enumerate` y `zip` en problemas sencillos de programación y analítica de datos.\n",
        "- Utilizar `break`, `continue` y la cláusula `else` de los bucles para controlar el flujo de ejecución de forma segura.\n",
        "- Reconocer y evitar errores comunes (off-by-one, bucles infinitos) mediante buenas prácticas y pruebas rápidas.\n",
        "- Iterar sobre diccionarios y colecciones anidadas, construyendo soluciones legibles y mantenibles.\n",
        "\n",
        "## Prerrequisitos\n",
        "- Conocimientos básicos de Python: variables, tipos primitivos (`int`, `float`, `str`, `bool`) y operadores.\n",
        "- Nociones mínimas de uso de VSCode y ejecución de celdas en Jupyter Notebook.\n"
      ]
    },
    {
      "cell_type": "markdown",
      "id": "208a817f",
      "metadata": {},
      "source": [
        "\n",
        "## Tema 1: Bucle `for` y `range`\n",
        "\n",
        "### Definición\n",
        "El bucle `for` en Python itera sobre elementos de un objeto iterable (por ejemplo, listas, cadenas, rangos), ejecutando un bloque de código para cada elemento. La función integrada `range(start, stop, step)` genera secuencias de enteros (no inclusiva en `stop`), útil para control de iteraciones.\n",
        "\n",
        "### Importancia en programación y analítica de datos\n",
        "La iteración es central en tareas de transformación, filtrado y agregación de datos. En flujos de analítica, `for` y `range` permiten recorrer registros, limpiar valores, realizar cálculos acumulativos y preparar datos para visualización o modelado.\n",
        "\n",
        "### Buenas prácticas y errores comunes\n",
        "- Preferir nombres de variables significativos (`indice`, `registro`) frente a genéricos (`i`, `x`) cuando mejore la legibilidad.\n",
        "- Evitar off-by-one verificando límites (recordar que `range(stop)` va de `0` a `stop-1`).\n",
        "- Usar `range(len(seq))` solo cuando realmente se necesite el índice; de lo contrario, iterar directamente por elementos de la secuencia.\n"
      ]
    },
    {
      "cell_type": "code",
      "execution_count": 6,
      "id": "8f1fd8db",
      "metadata": {},
      "outputs": [
        {
          "name": "stdout",
          "output_type": "stream",
          "text": [
            "Iteración: 0\n",
            "Iteración: 1\n",
            "Iteración: 2\n",
            "Iteración: 3\n",
            "Iteración: 4\n",
            "\n",
            "\n",
            "Número par: 2\n",
            "Número par: 4\n",
            "Número par: 6\n",
            "Número par: 8\n",
            "Número par: 10\n",
            "Número par: 12\n",
            "Número par: 14\n",
            "\n",
            "\n",
            "Fruta: manzana\n",
            "Fruta: banana\n",
            "Fruta: cereza\n"
          ]
        }
      ],
      "source": [
        "\n",
        "# TODO: For and Ranges example\n",
        "for numero in range(5):\n",
        "    print(\"Iteración:\", numero)\n",
        "print(\"\\n\")\n",
        "for par in range(2,15,2):\n",
        "    print(\"Número par:\", par)\n",
        "print(\"\\n\")\n",
        "frutas = [\"manzana\", \"banana\", \"cereza\"]\n",
        "for fruta in frutas:\n",
        "    print(\"Fruta:\", fruta)"
      ]
    },
    {
      "cell_type": "markdown",
      "id": "adfc54d6",
      "metadata": {},
      "source": [
        "\n",
        "## Tema 2: `while`, condiciones y control de terminación\n",
        "\n",
        "### Definición\n",
        "El bucle `while` ejecuta un bloque de código mientras una condición booleana sea verdadera. Requiere modificar el estado interno (por ejemplo, un contador) para evitar ejecuciones indefinidas.\n",
        "\n",
        "### Importancia en programación y analítica de datos\n",
        "`while` es útil cuando el número de iteraciones no es conocido de antemano (p. ej., lectura de flujos, espera de eventos, validaciones repetidas). En análisis, puede emplearse para procesos interactivos o búsqueda de convergencia.\n",
        "\n",
        "### Buenas prácticas y errores comunes\n",
        "- Asegurar que la condición de salida se alcanzará (evitar bucles infinitos).\n",
        "- Mantener actualizaciones claras del estado (incrementos o cambios en cada iteración).\n",
        "- Limitar el alcance y la complejidad dentro del bucle para mejorar la mantenibilidad.\n"
      ]
    },
    {
      "cell_type": "code",
      "execution_count": null,
      "id": "03c9a8a7",
      "metadata": {},
      "outputs": [
        {
          "name": "stdout",
          "output_type": "stream",
          "text": [
            "Contador: 0\n",
            "Contador: 1\n",
            "Contador: 2\n",
            "Contador: 3\n",
            "Contador: 4\n",
            "El idx es:  1 Y la clave es:  123\n",
            "Autenticado: True\n"
          ]
        }
      ],
      "source": [
        "\n",
        "#TODO: Ejemplos con While\n",
        "contador = 0\n",
        "limite = 5;\n",
        "\n",
        "while contador < limite:\n",
        "    print(\"Contador:\", contador)\n",
        "    contador += 1\n",
        "\n",
        "#TODO2:\n",
        "intentos = [\"abc\", \"123\", \"xyz\", \"123\"]\n",
        "clave_correcta = \"123\"\n",
        "idx = 0\n",
        "autenticado = False\n",
        "\n",
        "while idx <len(intentos):\n",
        "    intento = intentos[idx]\n",
        "    if intento == clave_correcta:\n",
        "        autenticado = True\n",
        "        break\n",
        "    idx += 1\n",
        "\n",
        "print(\"El idx es: \", idx, \"Y la clave es: \", intentos[idx])\n",
        "print(\"Autenticado:\", autenticado)"
      ]
    },
    {
      "cell_type": "markdown",
      "id": "0ac86be4",
      "metadata": {},
      "source": [
        "\n",
        "## Tema 3: `enumerate` y `zip` para iteración estructurada\n",
        "\n",
        "### Definición\n",
        "- `enumerate(iterable, start=0)` produce pares `(indice, elemento)`, facilitando el acceso simultáneo al índice y al valor.\n",
        "- `zip(a, b, ...)` agrega múltiples iterables en tuplas alineadas por posición, útil para recorrer colecciones en paralelo.\n",
        "\n",
        "### Importancia en programación y analítica de datos\n",
        "Permiten escribir bucles claros al trabajar con índices, etiquetas y valores observados simultáneamente, evitando patrones frágiles como sincronizar manualmente contadores.\n",
        "\n",
        "### Buenas prácticas y errores comunes\n",
        "- Preferir `enumerate` frente a `range(len(seq))` cuando se necesite el índice.\n",
        "- Al usar `zip`, considerar longitudes desiguales: por defecto, se trunca a la más corta.\n"
      ]
    },
    {
      "cell_type": "code",
      "execution_count": 3,
      "id": "d4e8345b",
      "metadata": {},
      "outputs": [
        {
          "name": "stdout",
          "output_type": "stream",
          "text": [
            "27 - Ana\n",
            "28 - Luis\n",
            "29 - Pedro\n",
            "30 - María\n",
            "31 - Juan\n",
            "Marca: Toyota -> Precio: 20000.0\n",
            "Marca: Ford -> Precio: 25000\n",
            "Marca: BMW -> Precio: 35000.5\n",
            "Marca: Audi -> Precio: 40000\n",
            "Marca: Mercedes -> Precio: 45000.99\n"
          ]
        }
      ],
      "source": [
        "\n",
        "# TODO: Break and Continue example\n",
        "nombres = [\"Ana\", \"Luis\", \"Pedro\", \"María\", \"Juan\"]\n",
        "for idx, nombre in enumerate (nombres, start=27):\n",
        "    print(f\"{idx} - {nombre}\")\n",
        "#* --Ejemplo 2\n",
        "marcas = [\"Toyota\", \"Ford\", \"BMW\", \"Audi\", \"Mercedes\"]\n",
        "precios = [20000.00, 25000, 35000.5, 40000, 45000.99]\n",
        "\n",
        "for marca, precio in zip(marcas, precios):\n",
        "    print(f\"Marca: {marca} -> Precio: {precio}\")"
      ]
    },
    {
      "cell_type": "markdown",
      "id": "63ba9a23",
      "metadata": {},
      "source": [
        "\n",
        "## Tema 4: Control de flujo en bucles: `break`, `continue` y `else`\n",
        "\n",
        "### Definición\n",
        "- `break`: finaliza el bucle inmediato.\n",
        "- `continue`: salta a la siguiente iteración.\n",
        "- `else` en bucles: se ejecuta cuando el bucle termina sin haber ejecutado `break`.\n",
        "\n",
        "### Importancia en programación y analítica de datos\n",
        "Mejoran la expresividad del control de flujo, por ejemplo, para búsqueda y validación en secuencias, evitando banderas auxiliares.\n"
      ]
    },
    {
      "cell_type": "code",
      "execution_count": 6,
      "id": "eafd7380",
      "metadata": {},
      "outputs": [
        {
          "name": "stdout",
          "output_type": "stream",
          "text": [
            "No es el valor objetivo: 1\n",
            "No es el valor objetivo: 3\n",
            "No es el valor objetivo: 5\n",
            "No es el valor objetivo: 7\n",
            "Se encontró el valor objetivo: 9 y está en la posición: 4\n",
            "EL número 1 es Impar\n",
            "EL número 3 es Impar\n",
            "EL número 5 es Impar\n",
            "EL número 7 es Impar\n"
          ]
        }
      ],
      "source": [
        "\n",
        "# TODO: Break and Continue example\n",
        "\n",
        "objetivo = 9\n",
        "valores = [1,3,5,7,9]\n",
        "\n",
        "for idx, valor in enumerate(valores):\n",
        "    if (valor == objetivo):\n",
        "        print(\"Se encontró el valor objetivo:\", valor, \"y está en la posición:\", idx)\n",
        "        break\n",
        "    else:\n",
        "        print(\"No es el valor objetivo:\", valor)\n",
        "else:\n",
        "    print(\"No se encontró el valor objetivo en la lista.\")\n",
        "\n",
        "# Ejemplo\n",
        "\n",
        "for valor in range(8):\n",
        "    if valor % 2 == 0:\n",
        "        continue\n",
        "    print(\"EL número\", valor, \"es Impar\")"
      ]
    },
    {
      "cell_type": "markdown",
      "id": "73becfef",
      "metadata": {},
      "source": [
        "\n",
        "## Tema 5: Iteración sobre diccionarios y colecciones anidadas\n",
        "\n",
        "### Definición\n",
        "Los diccionarios se recorren mediante sus vistas: `keys()`, `values()`, `items()`. En colecciones anidadas (listas de diccionarios, diccionarios de listas), se combinan bucles para acceder a niveles internos.\n",
        "\n",
        "### Importancia en programación y analítica de datos\n",
        "Datos tabulares y registros suelen representarse como listas de diccionarios. Saber iterarlos permite limpiar, transformar y validar datos antes del análisis.\n",
        "\n",
        "### Buenas prácticas y errores comunes\n",
        "- Elegir adecuadamente la vista: `items()` cuando se requieren claves y valores.\n",
        "- Evitar modificar el diccionario mientras se itera sobre él; preferir construir una nueva estructura.\n"
      ]
    },
    {
      "cell_type": "code",
      "execution_count": 9,
      "id": "2adbfb56",
      "metadata": {},
      "outputs": [
        {
          "name": "stdout",
          "output_type": "stream",
          "text": [
            "para la clave id, el valor es: 101\n",
            "para la clave nombre, el valor es: Producto X\n",
            "para la clave precio, el valor es: 20\n",
            "Ingresos por producto: {'A': 30.0, 'B': 75.0, 'C': 11.0}\n"
          ]
        }
      ],
      "source": [
        "\n",
        "# TODO: Iterators in dictionaries example\n",
        "registro = {\"id\": 101, \"nombre\": \"Producto X\", \"precio\": 20}\n",
        "\n",
        "for key, value in registro.items():\n",
        "    print(f\"para la clave {key}, el valor es: {value}\")\n",
        "\n",
        "# Lista de Diccionarios\n",
        "ventas =[{\"producto\": \"A\", \"unidades\": 3, \"precio\": 10},\n",
        "         {\"producto\": \"B\", \"unidades\": 5, \"precio\": 15},\n",
        "         {\"producto\": \"C\", \"unidades\": 2, \"precio\": 5.5}\n",
        "        ]\n",
        "\n",
        "ingresos = {}\n",
        "for venta in ventas:\n",
        "    producto = venta[\"producto\"]\n",
        "    subtotal = venta[\"unidades\"] * venta[\"precio\"]\n",
        "    ingresos[producto] = ingresos.get(producto, 0.00) + subtotal\n",
        "print(\"Ingresos por producto:\", ingresos)"
      ]
    },
    {
      "cell_type": "markdown",
      "id": "60faa91d",
      "metadata": {},
      "source": [
        "\n",
        "## Tema 6 (opcional): Comprensiones de listas y diccionarios\n",
        "\n",
        "### Definición\n",
        "Las comprensiones son atajos declarativos para construir nuevas colecciones a partir de iterables, con posible filtrado condicional.\n",
        "\n",
        "### Importancia en programación y analítica de datos\n",
        "Facilitan transformaciones compactas y legibles cuando la lógica es simple (map/filter). En casos complejos, preferir bucles explícitos para mantener claridad.\n",
        "\n",
        "### Buenas prácticas y errores comunes\n",
        "- Mantener las comprensiones cortas y legibles.\n",
        "- Evitar anidamientos excesivos; considerar bucles `for` normales si hay múltiples condiciones o pasos.\n"
      ]
    },
    {
      "cell_type": "code",
      "execution_count": 17,
      "id": "fad825c8",
      "metadata": {},
      "outputs": [
        {
          "name": "stdout",
          "output_type": "stream",
          "text": [
            "{'DIAN': 4, 'datos': 5, 'Python': 6, 'bucle': 5}\n"
          ]
        }
      ],
      "source": [
        "\n",
        "# TODO: List & Dictionary comprehensions\n",
        "# cuadrados_impares = []\n",
        "# for n in range(16):\n",
        "#     if n%2 != 0:\n",
        "#         cuadrados_impares.append(n*n)\n",
        "# print(cuadrados_impares)#f\"El cuadrado de {n} es: {n**2}\")\n",
        "\n",
        "# cuadrados_impares = [n**2 for n in range(16) if n%2 != 0]\n",
        "# print(cuadrados_impares)\n",
        "\n",
        "palabras = [\"DIAN\",\"datos\",\"Python\",\"bucle\"]\n",
        "longitudes = {p: len(p) for p in palabras}\n",
        "print(longitudes)"
      ]
    },
    {
      "cell_type": "markdown",
      "id": "547f880d",
      "metadata": {},
      "source": [
        "\n",
        "# Ejercicios integradores\n",
        "\n",
        "A continuación se proponen ejercicios que integran los temas tratados. Cada enunciado incluye contexto técnico, datos/entradas, requerimientos, criterios de aceptación y pistas. Tras cada ejercicio se presenta una posible solución.\n",
        "\n",
        "---\n",
        "\n",
        "## Ejercicio 1: Control de inventario simple (for + dict)\n",
        "\n",
        "**Contexto técnico:** Eres analista de operaciones en una tienda. Debes calcular el inventario total por categoría para un resumen diario; estos datos alimentan un tablero de control de logística.\n",
        "\n",
        "**Datos/entradas:** Lista de registros con `categoria` y `cantidad`:\n",
        "```python\n",
        "registros = [\n",
        "    {\"categoria\": \"alimentos\", \"cantidad\": 5},\n",
        "    {\"categoria\": \"higiene\", \"cantidad\": 3},\n",
        "    {\"categoria\": \"alimentos\", \"cantidad\": 2},\n",
        "    {\"categoria\": \"limpieza\", \"cantidad\": 4},\n",
        "]\n",
        "```\n",
        "\n",
        "**Requerimientos:**\n",
        "- Iterar la lista y acumular cantidades por `categoria` en un diccionario `totales`.\n",
        "- Usar un bucle `for` y acceso a `items()` cuando corresponda.\n",
        "\n",
        "**Criterios de aceptación:**\n",
        "- `totales` debe ser `{\"alimentos\": 7, \"higiene\": 3, \"limpieza\": 4}`.\n",
        "- Código legible, sin modificar la lista original.\n",
        "\n",
        "**Pistas:**\n",
        "- Inicializa `totales = {}` y usa `totales.get(clave, 0)` para acumular.\n",
        "\n",
        "\n",
        "---\n",
        "\n",
        "## Ejercicio 2: Evaluación de calidad de datos (while + validación)\n",
        "\n",
        "**Contexto técnico:** Como analista de datos, recibes mediciones que podrían contener valores fuera de rango. Se debe verificar que cada valor esté entre 0 y 100 antes de procesarlo.\n",
        "\n",
        "**Datos/entradas:** Lista de mediciones: `mediciones = [10, -5, 98, 101, 45]`\n",
        "\n",
        "**Requerimientos:**\n",
        "- Usar un bucle `while` para recorrer la lista por índice.\n",
        "- Contar cuántos valores son válidos (en rango [0, 100]) y cuántos inválidos.\n",
        "- Detener el conteo si se encuentran 2 valores inválidos consecutivos (usar `break`).\n",
        "\n",
        "**Criterios de aceptación:**\n",
        "- Imprimir totales de válidos e inválidos.\n",
        "- Si se detiene por dos inválidos seguidos, indicarlo explícitamente.\n",
        "\n",
        "**Pistas:**\n",
        "- Mantén una variable para recordar si el último fue inválido.\n",
        "\n",
        "\n",
        "---\n",
        "\n",
        "## Ejercicio 3: Cruce de listas (zip + enumerate)\n",
        "\n",
        "**Contexto técnico:** Como científico de datos, debes combinar etiquetas y mediciones para una verificación rápida antes de cargar un dataset a un sistema.\n",
        "\n",
        "**Datos/entradas:**\n",
        "```python\n",
        "etiquetas = [\"A\", \"B\", \"C\", \"D\"]\n",
        "valores = [3.5, 7.2, 1.1, 6.0]\n",
        "```\n",
        "\n",
        "**Requerimientos:**\n",
        "- Recorrer `etiquetas` y `valores` en paralelo con `zip`.\n",
        "- Imprimir líneas numeradas (comenzando en 1) usando `enumerate` para revisión.\n",
        "\n",
        "**Criterios de aceptación:**\n",
        "- Salida con formato: `\"1) A -> 3.5\"`, `\"2) B -> 7.2\"`, etc.\n",
        "\n",
        "**Pistas:**\n",
        "- Puedes aplicar `enumerate(zip(...), start=1)`.\n",
        "\n",
        "\n",
        "---\n",
        "\n",
        "## Ejercicio 4: Búsqueda y reporte (for + else + continue)\n",
        "\n",
        "**Contexto técnico:** En un pequeño pipeline, necesitas localizar un valor \"sentinela\" que indique el final lógico de un lote de procesamiento.\n",
        "\n",
        "**Datos/entradas:** `numeros = [2, 4, 0, 5, 0, 7]`, el sentinela es `0`.\n",
        "\n",
        "**Requerimientos:**\n",
        "- Recorrer la lista e imprimir solo los números positivos distintos de cero.\n",
        "- Al encontrar el primer `0`, detener la búsqueda con `break`.\n",
        "- Si no se encuentra `0`, usar la cláusula `else` del bucle para reportarlo.\n",
        "\n",
        "**Criterios de aceptación:**\n",
        "- Se imprimen solo los valores previos al primer `0`.\n",
        "- Mensaje adecuado dependiendo de si se encontró o no el sentinela.\n",
        "\n",
        "**Pistas:**\n",
        "- Usa `continue` para saltar no deseados; `break` para terminar al ver el sentinela.\n"
      ]
    },
    {
      "cell_type": "code",
      "execution_count": 22,
      "id": "f985a4ca",
      "metadata": {},
      "outputs": [
        {
          "name": "stdout",
          "output_type": "stream",
          "text": [
            "{'alimentos': 7, 'higiene': 3, 'limpieza': 4}\n",
            "\n",
            "Resumen de Totales:\n",
            "alimentos = 7\n",
            "higiene = 3\n",
            "limpieza = 4\n"
          ]
        }
      ],
      "source": [
        "# Actividad 1\n",
        "registros = [\n",
        "    {\"categoria\": \"alimentos\", \"cantidad\": 5},\n",
        "    {\"categoria\": \"higiene\", \"cantidad\": 3},\n",
        "    {\"categoria\": \"alimentos\", \"cantidad\": 2},\n",
        "    {\"categoria\": \"limpieza\", \"cantidad\": 4},\n",
        "]\n",
        "totales = {}\n",
        "for registro in registros:\n",
        "    categoria = registro[\"categoria\"]\n",
        "    cantidad = registro[\"cantidad\"]\n",
        "    totales[categoria] = totales.get(categoria, 0) + cantidad\n",
        "print(totales)\n",
        "print(\"\\nResumen de Totales:\")\n",
        "for categoria, total_final in totales.items():\n",
        "    print(f\"{categoria} = {total_final}\")"
      ]
    },
    {
      "cell_type": "code",
      "execution_count": null,
      "id": "518bcc54",
      "metadata": {},
      "outputs": [
        {
          "name": "stdout",
          "output_type": "stream",
          "text": [
            "Se encontraron 2 valores inválidos consecutivos en el index 4. Deteniendo conteo.\n",
            "Total válidos: 2, Total inválidos: 3\n"
          ]
        }
      ],
      "source": [
        "# Actividad 2\n",
        "\n",
        "mediciones = [10, -5, 98, 101, 45]\n",
        "validos = 0\n",
        "invalidos = 0\n",
        "idx = 0\n",
        "ultimo_invalido = False\n",
        "\n",
        "while idx < len(mediciones):\n",
        "    medicion = mediciones[idx]\n",
        "    if 0 <= medicion <= 100:\n",
        "        validos += 1\n",
        "        ultimo_invalido = False\n",
        "    else:\n",
        "        invalidos += 1\n",
        "        if ultimo_invalido:\n",
        "            print(f\"Se encontraron 2 valores inválidos consecutivos en el index {idx}. Deteniendo conteo.\")\n",
        "            break\n",
        "        ultimo_invalido = True\n",
        "    idx += 1\n",
        "print(f\"Total válidos: {validos}, Total inválidos: {invalidos}\")"
      ]
    },
    {
      "cell_type": "code",
      "execution_count": null,
      "id": "3042f1b0",
      "metadata": {},
      "outputs": [
        {
          "name": "stdout",
          "output_type": "stream",
          "text": [
            "1) A -> 3.5\n",
            "2) B -> 7.2\n",
            "3) C -> 1.1\n",
            "4) D -> 6.0\n"
          ]
        }
      ],
      "source": [
        "# Actividad 3\n",
        "etiquetas = [\"A\", \"B\", \"C\", \"D\"]\n",
        "valores = [3.5, 7.2, 1.1, 6.0]\n",
        "\n",
        "for idx, (etiqueta, valor) in enumerate(zip(etiquetas, valores), start=1):\n",
        "    print(f\"{idx}) {etiqueta} -> {valor}\")"
      ]
    },
    {
      "cell_type": "code",
      "execution_count": 52,
      "id": "fe6b1513",
      "metadata": {},
      "outputs": [
        {
          "name": "stdout",
          "output_type": "stream",
          "text": [
            "Número No deseado encontrado en el indice:  0 . Continua Busqueda...\n",
            "Número No deseado encontrado en el indice:  4 . Continua Busqueda...\n",
            "Se encontró el sentinela en el indice:  5\n",
            "Números positivos encontrados, previos al sentinela: [4, 1, 5]\n"
          ]
        }
      ],
      "source": [
        "# Actividad 4\n",
        "\n",
        "numeros = [-1, 4, 1, 5, -2, 0]\n",
        "sentinela = 0\n",
        "\n",
        "GrThZe = []\n",
        "for idx, n in enumerate(numeros):\n",
        "    if n < sentinela:\n",
        "        print(\"Número No deseado encontrado en el indice: \", idx, \". Continua Busqueda...\")\n",
        "        continue\n",
        "    elif n > sentinela:\n",
        "        GrThZe.append(n)\n",
        "    elif n == sentinela:\n",
        "        print(\"Se encontró el sentinela en el indice: \", idx)\n",
        "        break\n",
        "    else:\n",
        "        print(\"No se encontró el sentinela en la lista\")\n",
        "print(\"Números positivos encontrados, previos al sentinela:\", GrThZe)"
      ]
    }
  ],
  "metadata": {
    "authors": [
      "Jhon Erik Navarrete Gómez",
      "Instructor: ChatGPT (GPT-5 Thinking)"
    ],
    "created": "2025-09-11T12:52:54.412774+00:00",
    "description": "Bloque focalizado en estructuras de control iterativas en Python (for, while), patrones de iteración sobre secuencias y diccionarios, control de flujo (break, continue, else en bucles), y buenas prácticas para evitar errores comunes como bucles infinitos y off-by-one.",
    "kernelspec": {
      "display_name": "Python 3",
      "language": "python",
      "name": "python3"
    },
    "language_info": {
      "codemirror_mode": {
        "name": "ipython",
        "version": 3
      },
      "file_extension": ".py",
      "mimetype": "text/x-python",
      "name": "python",
      "nbconvert_exporter": "python",
      "pygments_lexer": "ipython3",
      "version": "3.13.7"
    }
  },
  "nbformat": 4,
  "nbformat_minor": 5
}
