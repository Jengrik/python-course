{
 "cells": [
  {
   "cell_type": "markdown",
   "id": "3f13ab22",
   "metadata": {},
   "source": [
    "# Estructuras de Control: Condicionales\n",
    "**Curso:** “Fundamentos de Programación y Analítica de Datos con Python”  \n",
    "**Duración estimada del bloque:** 30–45 minutos (clase guiada) + 20–30 minutos (práctica autónoma)\n",
    "\n",
    "## Objetivos específicos\n",
    "- Comprender formalmente la estructura y semántica de `if`, `elif` y `else` en Python.\n",
    "- Aplicar condicionales a la resolución de problemas simples de programación y analítica.\n",
    "- Diferenciar entre evaluación booleana explícita e implícita (truthiness/falsiness) y su impacto en el control de flujo.\n",
    "- Utilizar expresiones condicionales (operador ternario) en contextos donde mejore la legibilidad.\n",
    "- Reconocer errores comunes y adoptar buenas prácticas profesionales en el uso de condicionales.\n",
    "\n",
    "## Prerrequisitos\n",
    "- Conocimientos básicos de tipos de datos en Python (`int`, `float`, `str`, `bool`).\n",
    "- Operadores aritméticos, de comparación y lógicos.\n",
    "- Manejo básico del entorno: Python 3.12.8+, VSCode y Jupyter Notebook.\n"
   ]
  },
  {
   "cell_type": "markdown",
   "id": "7decfb2b",
   "metadata": {},
   "source": [
    "## 1. Definición: `if`, `elif`, `else`\n",
    "**Definición.** Una estructura condicional evalúa una o varias condiciones booleanas para decidir qué bloque de código ejecutar. En Python, la sintaxis canónica emplea `if` para la primera condición, `elif` (opcional, repetible) para condiciones intermedias y `else` (opcional) para el caso por defecto.\n",
    "\n",
    "### Importancia en programación y analítica de datos\n",
    "- Permiten bifurcar la lógica según valores, estados o calidad de los datos.\n",
    "- Resultan esenciales en **validación de entradas**, **limpieza de datos**, **reglas de negocio** y **control de errores**.\n",
    "- En pipelines de analítica, habilitan decisiones locales (e.g., imputar, descartar o transformar según reglas).\n",
    "\n",
    "### Buenas prácticas y errores comunes\n",
    "- **Claridad sobre concisión:** priorizar legibilidad; evitar anidar excesivamente cuando existan alternativas más claras.\n",
    "- **Ramas exhaustivas y consistentes:** cubrir casos relevantes; si hay un “catch-all”, usar `else` con cuidado.\n",
    "- **Evitar repetir condiciones costosas:** calcular una vez y reutilizar resultados si es necesario.\n",
    "- **Errores comunes:** comparaciones ambiguas, mezclar efectos secundarios con condiciones y confundir `=` (asignación) con `==` (comparación).\n"
   ]
  },
  {
   "cell_type": "code",
   "execution_count": null,
   "id": "6bdcdda0",
   "metadata": {},
   "outputs": [
    {
     "name": "stdout",
     "output_type": "stream",
     "text": [
      "Nota: 0.8 -> Deficiente\n"
     ]
    }
   ],
   "source": [
    "# TODO: Ejemplo con clasificación simple de una nota numérica\n",
    "\n",
    "nota = 0.8 # Nota está entre 0.0 y 5.0\n",
    "\n",
    "if nota >= 4.5:\n",
    "  resultado = \"Excelente\"\n",
    "elif nota >= 3.5:\n",
    "  resultado = \"Sobresaliente\"\n",
    "elif nota >= 3:\n",
    "  resultado = \"Aceptable\"\n",
    "elif nota >= 1:\n",
    "  resultado = \"Insuficiente\"\n",
    "else:\n",
    "  resultado = \"Deficiente\"\n",
    "\n",
    "print(f\"Nota: {nota} -> {resultado}\")"
   ]
  },
  {
   "cell_type": "markdown",
   "id": "2f28bf34",
   "metadata": {},
   "source": [
    "## 2. Evaluación booleana: truthiness y falsiness\n",
    "**Definición.** En Python, muchas expresiones se evalúan a un valor booleano de manera implícita. Por convención:\n",
    "- **Falso**: `False`, `None`, `0` (numéricos), `\"\"` (cadena vacía), estructuras vacías (`[]`, `{}`, `set()`, `tuple()`), y objetos personalizados que definan `__bool__` o `__len__ == 0`.\n",
    "- **Verdadero**: todo lo demás.\n",
    "\n",
    "### Importancia en programación y analítica de datos\n",
    "- Permite escribir condiciones más expresivas (p. ej., comprobar si una lista tiene elementos sin comparar explícitamente su longitud con cero).\n",
    "- En validación de datos, facilita descartar valores vacíos, nulos o faltantes.\n",
    "- Reduce ruido visual en condiciones, pero debe usarse con criterio para evitar ambigüedades.\n",
    "\n",
    "### Buenas prácticas y errores comunes\n",
    "- Ser explícito cuando la semántica lo requiera (e.g., `if len(lista) == 0:` puede ser preferible a `if not lista:` en contextos críticos).\n",
    "- Evitar confundir `None` con cadena vacía `\"\"` o con el número `0`.\n"
   ]
  },
  {
   "cell_type": "code",
   "execution_count": 14,
   "id": "798f197f",
   "metadata": {},
   "outputs": [
    {
     "name": "stdout",
     "output_type": "stream",
     "text": [
      "Valor:          0 -> Falso (falsy)\n",
      "Valor:          1 -> Verdadero (truthy)\n",
      "Valor:         -1 -> Verdadero (truthy)\n",
      "Valor:         '' -> Falso (falsy)\n",
      "Valor:     'data' -> Verdadero (truthy)\n",
      "Valor:         [] -> Falso (falsy)\n",
      "Valor:     [1, 2] -> Verdadero (truthy)\n",
      "Valor:         {} -> Falso (falsy)\n",
      "Valor: {'k': 'v'} -> Verdadero (truthy)\n",
      "Valor:       None -> Falso (falsy)\n"
     ]
    }
   ],
   "source": [
    "# Ejemplos de truthiness/falsiness\n",
    "valores = [0, 1, -1, \"\", \"data\", [], [1, 2], {}, {\"k\": \"v\"}, None]\n",
    "\n",
    "for v in valores:\n",
    "    if v:\n",
    "        estado = \"Verdadero (truthy)\"\n",
    "    else:\n",
    "        estado = \"Falso (falsy)\"\n",
    "    print(f\"Valor: {repr(v):>10} -> {estado}\")\n"
   ]
  },
  {
   "cell_type": "markdown",
   "id": "2ad79082",
   "metadata": {},
   "source": [
    "## 3. Condiciones con operadores de comparación y lógicos\n",
    "**Definición.** Las condiciones suelen combinar **comparaciones** (`==`, `!=`, `<`, `<=`, `>`, `>=`) con **operadores lógicos** (`and`, `or`, `not`). Python evalúa con **cortocircuito**: si el resultado se determina por la primera parte, no evalúa la segunda.\n",
    "\n",
    "### Importancia en programación y analítica de datos\n",
    "- Reglas de negocio y filtros sobre datos (e.g., seleccionar filas según múltiples criterios).\n",
    "- Validaciones compuestas (rango, tipo, presencia).\n",
    "\n",
    "### Buenas prácticas\n",
    "- Agrupar condiciones con paréntesis para legibilidad y precedencia explícita.\n",
    "- Evitar condiciones demasiado largas; extraer subexpresiones con nombres descriptivos.\n"
   ]
  },
  {
   "cell_type": "code",
   "execution_count": 19,
   "id": "92e544b4",
   "metadata": {},
   "outputs": [
    {
     "name": "stdout",
     "output_type": "stream",
     "text": [
      "Registro válido\n"
     ]
    }
   ],
   "source": [
    "# TODO: Ejemplo Validador simple de registro\n",
    "edad = 20\n",
    "tiene_CC = True\n",
    "pais = \"AR\"\n",
    "\n",
    "paises_validos = {\"CO\", \"MX\", \"PE\", \"CL\", \"AR\"}\n",
    "\n",
    "es_mayor_edad = edad >= 18\n",
    "es_pais_valido = pais in paises_validos\n",
    "\n",
    "if es_mayor_edad and tiene_CC and es_pais_valido:\n",
    "    print(\"Registro válido\")\n",
    "else:\n",
    "    print(\"Registro inválido y será rechazado\")"
   ]
  },
  {
   "cell_type": "markdown",
   "id": "2b81e049",
   "metadata": {},
   "source": [
    "## 4. Expresión condicional (operador ternario)\n",
    "**Definición.** La **expresión condicional** permite elegir entre dos valores en una sola línea:  \n",
    "`valor_si_verdadero if condición else valor_si_falso`.\n",
    "\n",
    "### Importancia\n",
    "- Útil para asignaciones simples y expresivas sin abrir un bloque `if` completo.\n",
    "- Mejora la legibilidad cuando la lógica es corta y simétrica.\n",
    "\n",
    "### Buenas prácticas\n",
    "- No encadenar múltiples ternarios si afecta la claridad. En esos casos, preferir `if/elif/else`.\n"
   ]
  },
  {
   "cell_type": "code",
   "execution_count": 24,
   "id": "0f19d36e",
   "metadata": {},
   "outputs": [
    {
     "name": "stdout",
     "output_type": "stream",
     "text": [
      "Temperatura: 18°C -> Sensación térmica: Frio\n"
     ]
    }
   ],
   "source": [
    "# TODO: Ejemplo Etiquetar temperatura con un ternario\n",
    "temp_c = 18\n",
    "\n",
    "sensacion_termica = \"Frio\" if temp_c < 20 else \"Cálido\"\n",
    "print(f\"Temperatura: {temp_c}°C -> Sensación térmica: {sensacion_termica}\")\n"
   ]
  },
  {
   "cell_type": "markdown",
   "id": "9ffa405c",
   "metadata": {},
   "source": [
    "## 5. Condicionales anidadas y *guard clauses*\n",
    "**Definición.** Las **condicionales anidadas** combinan decisiones dentro de otras. Las **guard clauses** (cláusulas de guarda) son retornos tempranos que evitan anidamientos profundos.\n",
    "\n",
    "### Importancia\n",
    "- Favorecen funciones más legibles y con menor complejidad ciclomática.\n",
    "- Permiten gestionar “casos borde” al inicio, manteniendo el “camino feliz” despejado.\n",
    "\n",
    "### Buenas prácticas\n",
    "- Identificar y manejar casos inválidos al inicio de la función.\n",
    "- Mantener las ramas cortas y con una única responsabilidad.\n"
   ]
  },
  {
   "cell_type": "code",
   "execution_count": null,
   "id": "61098262",
   "metadata": {},
   "outputs": [
    {
     "name": "stdout",
     "output_type": "stream",
     "text": [
      "Descuento VIP en $1000: 150.0\n",
      "Descuento EST en $1000: 100.0\n",
      "Descuento en $1000 para Categoria desconocida: 0.0\n",
      "0.0\n"
     ]
    }
   ],
   "source": [
    "# TODO: Ejemplo Guard Clauses\n",
    "def calcular_descuento(precio: float, categoria: str | None) -> float:\n",
    "  if precio <= 0 or categoria is None:\n",
    "    return 0.0\n",
    "\n",
    "  categoria = categoria.upper()\n",
    "  if categoria == \"VIP\":\n",
    "    return precio * 0.15\n",
    "  elif categoria == \"EST\":\n",
    "    return precio * 0.10\n",
    "  else:\n",
    "    return 0.0\n",
    "\n",
    "print(\"Descuento VIP en $1000:\", calcular_descuento(1000, \"vip\"))\n",
    "print(\"Descuento EST en $1000:\", calcular_descuento(1000, \"EST\"))\n",
    "print(\"Descuento en $1000 para Categoria desconocida:\", calcular_descuento(1000, \"PROF\"))\n",
    "print(calcular_descuento(-1000, \"VIP\"))"
   ]
  },
  {
   "cell_type": "markdown",
   "id": "7da97a1e",
   "metadata": {},
   "source": [
    "## 6. Validación básica e input seguro con condicionales\n",
    "**Definición.** Antes de procesar datos de usuario o archivos, conviene validar su forma, tipo y rango. Aunque el manejo de excepciones (`try/except`) se verá a profundidad más adelante, podemos ilustrar cómo **condicionales** ayudan en controles previos.\n",
    "\n",
    "### Importancia\n",
    "- Reduce errores en etapas posteriores de un pipeline.\n",
    "- Previene estados inválidos y mejora los mensajes al usuario.\n",
    "\n",
    "### Buenas prácticas\n",
    "- Mensajes claros y acciones consecuentes (e.g., abortar o corregir).\n",
    "- No duplicar validaciones; centralizarlas en funciones auxiliares cuando sea posible.\n"
   ]
  },
  {
   "cell_type": "code",
   "execution_count": 39,
   "id": "61908cc2",
   "metadata": {},
   "outputs": [
    {
     "name": "stdout",
     "output_type": "stream",
     "text": [
      "Edad válida.\n"
     ]
    }
   ],
   "source": [
    "# TODO: Ejemplo Validación simple de edad ingresada como texto\n",
    "edad = \"20\"\n",
    "\n",
    "es_digito = edad.isdigit()\n",
    "if not es_digito:\n",
    "  print(\"Edad inválida, no es un número.\")\n",
    "else:\n",
    "  edad = int(edad)\n",
    "  if 0<= edad <= 100:\n",
    "    print(\"Edad válida.\")\n",
    "  else:\n",
    "    print(\"Edad inválida, fuera de rango.\")\n"
   ]
  },
  {
   "cell_type": "code",
   "execution_count": null,
   "id": "61b5fb15",
   "metadata": {},
   "outputs": [
    {
     "name": "stdout",
     "output_type": "stream",
     "text": [
      "Cédula original: '12.345.678'\n",
      "Cédula sanitizada: '12345678'\n",
      "¿Es dígito?: True\n"
     ]
    }
   ],
   "source": [
    "cedula = \"12.345.678\"\n",
    "\n",
    "cedula_sanitizada = cedula.replace(\".\", \"\").replace(\"-\", \"\").replace(\"_\", \"\")\n",
    "es_digito = cedula_sanitizada.isdigit()\n",
    "\n",
    "print(\"Cédula original:\", repr(cedula))\n",
    "print(\"Cédula sanitizada:\", repr(cedula_sanitizada))\n",
    "print(\"¿Es dígito?:\", es_digito)\n"
   ]
  },
  {
   "cell_type": "markdown",
   "id": "f67dda28",
   "metadata": {},
   "source": [
    "# Ejercicios integradores\n",
    "\n",
    "A continuación, se presentan ejercicios que integran los conceptos del bloque. Se sugiere intentar resolverlos **sin ver la solución** y luego contrastar.\n",
    "\n",
    "---\n",
    "\n",
    "## Ejercicio 1 – Clasificación de riesgo operativo\n",
    "**Contexto técnico.** Eres analista en un equipo de soporte. Debes clasificar la **prioridad** de tickets según impacto y urgencia para optimizar el tiempo de respuesta.  \n",
    "**Datos/entradas.** `impacto` en `{ \"ALTO\", \"MEDIO\", \"BAJO\" }`, `urgencia` en `{ \"ALTA\", \"MEDIA\", \"BAJA\" }`.  \n",
    "**Requerimientos.** Implementa la función `prioridad(impacto, urgencia)` que devuelva `\"Crítica\"`, `\"Alta\"`, `\"Media\"` o `\"Baja\"` según reglas:\n",
    "- Si impacto **ALTO** y urgencia **ALTA** → `\"Crítica\"`.\n",
    "- Si (impacto **ALTO** y urgencia **MEDIA**) o (impacto **MEDIO** y urgencia **ALTA**) → `\"Alta\"`.\n",
    "- Si ambos son **BAJOS** → `\"Baja\"`.\n",
    "- En otros casos → `\"Media\"`.\n",
    "**Criterios de aceptación.** La función retorna un `str` válido y cubre todos los casos.  \n",
    "**Pistas.** Normaliza a mayúsculas y usa combinaciones con `and`/`or` y `elif` ordenados por severidad.\n",
    "\n",
    "> Solución (ejecuta para revelar):\n"
   ]
  },
  {
   "cell_type": "code",
   "execution_count": null,
   "id": "a4073974",
   "metadata": {},
   "outputs": [],
   "source": [
    "# TODO: Ejercicio 1\n"
   ]
  },
  {
   "cell_type": "markdown",
   "id": "34225ae5",
   "metadata": {},
   "source": [
    "---\n",
    "\n",
    "## Ejercicio 2 – Validación de formulario simple\n",
    "**Contexto técnico.** Eres desarrollador en una app interna. Debes validar un formulario con `nombre`, `edad` y `correo`.  \n",
    "**Datos/entradas.** Variables `nombre: str`, `edad: int`, `correo: str`.  \n",
    "**Requerimientos.**\n",
    "- `nombre` no vacío, `edad` en `[18, 99]`.\n",
    "- `correo` debe contener `\"@\"` y `\".\"` en posiciones válidas (validación básica, no regex completa).\n",
    "- Si algún campo falla, imprimir un mensaje específico; si todo es válido, imprimir `\"OK\"`.\n",
    "**Criterios de aceptación.** Mensajes claros y cobertura de todos los casos.  \n",
    "**Pistas.** Usa `if/elif/else`; considera `and`, `or`, `not` y condiciones agrupadas.\n"
   ]
  },
  {
   "cell_type": "code",
   "execution_count": null,
   "id": "d633ef7e",
   "metadata": {},
   "outputs": [],
   "source": [
    "# TODO: Ejercicio 2"
   ]
  },
  {
   "cell_type": "markdown",
   "id": "2649651d",
   "metadata": {},
   "source": [
    "---\n",
    "\n",
    "## Ejercicio 3 – Reglas de descuento por segmento\n",
    "**Contexto técnico.** En un reporte de ventas necesitas simular descuentos por segmento de cliente.  \n",
    "**Datos/entradas.** `monto: float`, `segmento: {\"VIP\",\"EST\",\"REG\"}`, `frecuencia_compra: int`.  \n",
    "**Requerimientos.**\n",
    "- Si `segmento == \"VIP\"` y `monto >= 200` → 20%.\n",
    "- Si `segmento == \"EST\"` y `frecuencia_compra >= 3` → 12%.\n",
    "- Si `segmento == \"REG\"` y `monto >= 300` → 8%.\n",
    "- En otro caso → 0%.\n",
    "**Criterios de aceptación.** Retorna descuento como `float` y casos cubiertos.  \n",
    "**Pistas.** Normaliza entrada, ordena por reglas más restrictivas primero.\n"
   ]
  },
  {
   "cell_type": "code",
   "execution_count": null,
   "id": "27f3cc5c",
   "metadata": {},
   "outputs": [],
   "source": [
    "# TODO: Ejercicio 3"
   ]
  },
  {
   "cell_type": "markdown",
   "id": "a6ebcab6",
   "metadata": {},
   "source": [
    "---\n",
    "\n",
    "## Ejercicio 4 – Filtrado de registros con condiciones compuestas\n",
    "**Contexto técnico.** Como analista, debes filtrar IDs válidos de una lista según reglas de calidad.  \n",
    "**Datos/entradas.** Lista `ids = [\"A12\",\"\",None,\"B07\",\"C-1\",\"D33\",\"X\"]`.  \n",
    "**Requerimientos.**\n",
    "- Un ID es válido si: es `str` no vacío, tiene longitud 3, el primer carácter es letra y los dos restantes son dígitos.\n",
    "- Construye una nueva lista `ids_validos` con comprensión de listas o bucle `for` y condicionales.\n",
    "**Criterios de aceptación.** `ids_validos == [\"A12\",\"B07\",\"D33\"]`.  \n",
    "**Pistas.** Usa `str.isalpha()`, `str.isdigit()` y `len()` con `if`/`elif` o una condición compuesta.\n"
   ]
  },
  {
   "cell_type": "code",
   "execution_count": null,
   "id": "15e2ceea",
   "metadata": {},
   "outputs": [],
   "source": [
    "# TODO: Ejercicio 4\n"
   ]
  }
 ],
 "metadata": {
  "authors": [
   "Equipo de Instrucción - Fundamentos de Programación y Analítica de Datos con Python"
  ],
  "created": "2025-09-11T13:00:11+00:00",
  "description": "Bloque dedicado a las estructuras de control condicionales en Python: if, elif, else, evaluación booleana, truthiness, expresiones condicionales y buenas prácticas.",
  "kernelspec": {
   "display_name": "Python (python-course)",
   "language": "python",
   "name": "python-course"
  },
  "language_info": {
   "codemirror_mode": {
    "name": "ipython",
    "version": 3
   },
   "file_extension": ".py",
   "mimetype": "text/x-python",
   "name": "python",
   "nbconvert_exporter": "python",
   "pygments_lexer": "ipython3",
   "version": "3.12.8"
  }
 },
 "nbformat": 4,
 "nbformat_minor": 5
}
